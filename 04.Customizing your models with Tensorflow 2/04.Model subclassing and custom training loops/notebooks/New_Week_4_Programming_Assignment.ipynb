{
  "nbformat": 4,
  "nbformat_minor": 0,
  "metadata": {
    "coursera": {
      "course_slug": "tensor-flow-2-2",
      "graded_item_id": "2x3vn",
      "launcher_item_id": "QKXZc"
    },
    "kernelspec": {
      "display_name": "Python 3",
      "language": "python",
      "name": "python3"
    },
    "language_info": {
      "codemirror_mode": {
        "name": "ipython",
        "version": 3
      },
      "file_extension": ".py",
      "mimetype": "text/x-python",
      "name": "python",
      "nbconvert_exporter": "python",
      "pygments_lexer": "ipython3",
      "version": "3.7.1"
    },
    "colab": {
      "name": "Old_Week_4_Programming_Assignment.ipynb",
      "provenance": [],
      "collapsed_sections": []
    },
    "accelerator": "GPU"
  },
  "cells": [
    {
      "cell_type": "markdown",
      "metadata": {
        "id": "RTehttYqbiZO",
        "colab_type": "text"
      },
      "source": [
        "# Programming Assignment"
      ]
    },
    {
      "cell_type": "markdown",
      "metadata": {
        "id": "f0d-2RopbiZQ",
        "colab_type": "text"
      },
      "source": [
        "## Residual network"
      ]
    },
    {
      "cell_type": "markdown",
      "metadata": {
        "id": "yK03DPBRbiZR",
        "colab_type": "text"
      },
      "source": [
        "### Instructions\n",
        "\n",
        "In this notebook, you will use the model subclassing API together with custom layers to create a residual network architecture. You will then train your custom model on the Fashion-MNIST dataset by using a custom training loop and implementing the automatic differentiation tools in Tensorflow to calculate the gradients for backpropagation.\n",
        "\n",
        "Some code cells are provided you in the notebook. You should avoid editing provided code, and make sure to execute the cells in order to avoid unexpected errors. Some cells begin with the line: \n",
        "\n",
        "`#### GRADED CELL ####`\n",
        "\n",
        "Don't move or edit this first line - this is what the automatic grader looks for to recognise graded cells. These cells require you to write your own code to complete them, and are automatically graded when you submit the notebook. Don't edit the function name or signature provided in these cells, otherwise the automatic grader might not function properly. Inside these graded cells, you can use any functions or classes that are imported below, but make sure you don't use any variables that are outside the scope of the function.\n",
        "\n",
        "### How to submit\n",
        "\n",
        "Complete all the tasks you are asked for in the worksheet. When you have finished and are happy with your code, press the **Submit Assignment** button at the top of this notebook.\n",
        "\n",
        "### Let's get started!\n",
        "\n",
        "We'll start running some imports, and loading the dataset. Do not edit the existing imports in the following cell. If you would like to make further Tensorflow imports, you should add them here."
      ]
    },
    {
      "cell_type": "code",
      "metadata": {
        "id": "2HDFAM9JbiZT",
        "colab_type": "code",
        "colab": {}
      },
      "source": [
        "#### PACKAGE IMPORTS ####\n",
        "\n",
        "# Run this cell first to import all required packages. Do not make any imports elsewhere in the notebook\n",
        "\n",
        "import tensorflow as tf\n",
        "from tensorflow.keras.models import Model\n",
        "from tensorflow.keras.layers import Layer, BatchNormalization, Conv2D, Dense, Flatten, Add\n",
        "import numpy as np\n",
        "from tensorflow.keras.datasets import fashion_mnist\n",
        "from tensorflow.keras.utils import to_categorical\n",
        "import matplotlib.pyplot as plt\n",
        "\n",
        "# If you would like to make further imports from tensorflow, add them here"
      ],
      "execution_count": 1,
      "outputs": []
    },
    {
      "cell_type": "markdown",
      "metadata": {
        "id": "7LURF_ZYbiZX",
        "colab_type": "text"
      },
      "source": [
        "#### The Fashion-MNIST dataset\n",
        "\n",
        "In this assignment, you will use the [Fashion-MNIST dataset](https://github.com/zalandoresearch/fashion-mnist). It consists of a training set of 60,000 images of fashion items with corresponding labels, and a test set of 10,000 images. The images have been normalised and centred. The dataset is frequently used in machine learning research, especially as a drop-in replacement for the MNIST dataset. \n",
        "\n",
        "- H. Xiao, K. Rasul, and R. Vollgraf. \"Fashion-MNIST: a Novel Image Dataset for Benchmarking Machine Learning Algorithms.\" arXiv:1708.07747, August 2017.\n",
        "\n",
        "Your goal is to construct a ResNet model that classifies images of fashion items into one of 10 classes."
      ]
    },
    {
      "cell_type": "markdown",
      "metadata": {
        "id": "JikW1jd8biZY",
        "colab_type": "text"
      },
      "source": [
        "#### Load the dataset"
      ]
    },
    {
      "cell_type": "markdown",
      "metadata": {
        "id": "38Z9Eoq4biZZ",
        "colab_type": "text"
      },
      "source": [
        "For this programming assignment, we will take a smaller sample of the dataset to reduce the training time."
      ]
    },
    {
      "cell_type": "code",
      "metadata": {
        "id": "ur9hxTa4biZa",
        "colab_type": "code",
        "colab": {
          "base_uri": "https://localhost:8080/",
          "height": 156
        },
        "outputId": "17efb833-09aa-4d76-b7bf-57d8150cce27"
      },
      "source": [
        "# Load and preprocess the Fashion-MNIST dataset\n",
        "\n",
        "(train_images, train_labels), (test_images, test_labels) = fashion_mnist.load_data()\n",
        "\n",
        "train_images = train_images.astype(np.float32)\n",
        "test_images = test_images.astype(np.float32)\n",
        "\n",
        "train_images = train_images[:5000] / 255.\n",
        "train_labels = train_labels[:5000]\n",
        "\n",
        "test_images = test_images / 255.\n",
        "\n",
        "train_images = train_images[..., np.newaxis]\n",
        "test_images = test_images[..., np.newaxis]"
      ],
      "execution_count": 2,
      "outputs": [
        {
          "output_type": "stream",
          "text": [
            "Downloading data from https://storage.googleapis.com/tensorflow/tf-keras-datasets/train-labels-idx1-ubyte.gz\n",
            "32768/29515 [=================================] - 0s 0us/step\n",
            "Downloading data from https://storage.googleapis.com/tensorflow/tf-keras-datasets/train-images-idx3-ubyte.gz\n",
            "26427392/26421880 [==============================] - 0s 0us/step\n",
            "Downloading data from https://storage.googleapis.com/tensorflow/tf-keras-datasets/t10k-labels-idx1-ubyte.gz\n",
            "8192/5148 [===============================================] - 0s 0us/step\n",
            "Downloading data from https://storage.googleapis.com/tensorflow/tf-keras-datasets/t10k-images-idx3-ubyte.gz\n",
            "4423680/4422102 [==============================] - 0s 0us/step\n"
          ],
          "name": "stdout"
        }
      ]
    },
    {
      "cell_type": "code",
      "metadata": {
        "id": "_nl7FV8GbiZe",
        "colab_type": "code",
        "colab": {}
      },
      "source": [
        "# Create Dataset objects for the training and test sets\n",
        "\n",
        "train_dataset = tf.data.Dataset.from_tensor_slices((train_images, train_labels))\n",
        "train_dataset = train_dataset.batch(32, drop_remainder=True)\n",
        "\n",
        "test_dataset = tf.data.Dataset.from_tensor_slices((test_images, test_labels))\n",
        "test_dataset = test_dataset.batch(32, drop_remainder=True)"
      ],
      "execution_count": 4,
      "outputs": []
    },
    {
      "cell_type": "code",
      "metadata": {
        "id": "-VsLCYrPbiZh",
        "colab_type": "code",
        "colab": {}
      },
      "source": [
        "# Get dataset labels\n",
        "\n",
        "image_labels = ['T-shirt/top', 'Trouser', 'Pullover', 'Dress', 'Coat', 'Sandal', 'Shirt', 'Sneaker', 'Bag', 'Ankle boot']"
      ],
      "execution_count": 5,
      "outputs": []
    },
    {
      "cell_type": "markdown",
      "metadata": {
        "id": "3UKYy3Q1biZk",
        "colab_type": "text"
      },
      "source": [
        "#### Create custom layers for the residual blocks"
      ]
    },
    {
      "cell_type": "markdown",
      "metadata": {
        "id": "kqm8M28ZbiZl",
        "colab_type": "text"
      },
      "source": [
        "You should now create a first custom layer for a residual block of your network. Using layer subclassing, build your custom layer according to the following spec:\n",
        "\n",
        "* The custom layer class should have `__init__`, `build` and `call` methods. The `__init__` method has been completed for you. It calls the base `Layer` class initializer, passing on any keyword arguments\n",
        "* The `build` method should create the layers. It will take an `input_shape` argument, and should extract the number of filters from this argument. It should create:\n",
        "    * A BatchNormalization layer: this will be the first layer in the block, so should use its `input shape` keyword argument\n",
        "    * A Conv2D layer with the same number of filters as the layer input, a 3x3 kernel size, `'SAME'` padding, and no activation function\n",
        "    * Another BatchNormalization layer\n",
        "    * Another Conv2D layer, again with the same number of filters as the layer input, a 3x3 kernel size, `'SAME'` padding, and no activation function\n",
        "* The `call` method should then process the input through the layers:\n",
        "    * The first BatchNormalization layer: ensure to set the `training` keyword argument\n",
        "    * A `tf.nn.relu` activation function\n",
        "    * The first Conv2D layer\n",
        "    * The second BatchNormalization layer: ensure to set the `training` keyword argument\n",
        "    * Another `tf.nn.relu` activation function\n",
        "    * The second Conv2D layer\n",
        "    * It should then add the layer inputs to the output of the second Conv2D layer. This is the final layer output"
      ]
    },
    {
      "cell_type": "code",
      "metadata": {
        "id": "PWXDT-jWbiZm",
        "colab_type": "code",
        "colab": {}
      },
      "source": [
        "#### GRADED CELL ####\n",
        "\n",
        "# Complete the following class. \n",
        "# Make sure to not change the class or method names or arguments.\n",
        "\n",
        "class ResidualBlock(Layer):\n",
        "\n",
        "    def __init__(self, **kwargs):\n",
        "        super(ResidualBlock, self).__init__(**kwargs)\n",
        "\n",
        "    def build(self, input_shape):\n",
        "        \"\"\"\n",
        "        This method should build the layers according to the above specification. Make sure \n",
        "        to use the input_shape argument to get the correct number of filters, and to set the\n",
        "        input_shape of the first layer in the block.\n",
        "        \"\"\"\n",
        "        self.batchnorm = BatchNormalization(input_shape = input_shape)\n",
        "        self.conv2d = Conv2D(input_shape[-1], (3,3), padding='SAME', activation=None)\n",
        "        self.batchnorm2 = BatchNormalization()\n",
        "        self.conv2d2 = Conv2D(input_shape[-1], (3,3), padding='SAME', activation=None)\n",
        "        \n",
        "    def call(self, inputs, training=False):\n",
        "        \"\"\"\n",
        "        This method should contain the code for calling the layer according to the above\n",
        "        specification, using the layer objects set up in the build method.\n",
        "        \"\"\"\n",
        "        x = self.batchnorm(inputs, training = training)\n",
        "        x = tf.nn.relu(x)\n",
        "        x = self.conv2d(x)\n",
        "        x = self.batchnorm2(x, training = training)\n",
        "        x = tf.nn.relu(x)\n",
        "        x = self.conv2d2(x)\n",
        "        out = tf.add(inputs, x)\n",
        "        return out\n",
        "        "
      ],
      "execution_count": 6,
      "outputs": []
    },
    {
      "cell_type": "code",
      "metadata": {
        "id": "SF8Goq8LbiZo",
        "colab_type": "code",
        "colab": {
          "base_uri": "https://localhost:8080/",
          "height": 191
        },
        "outputId": "bea46376-6229-43f5-ca3a-ded7d3f55bad"
      },
      "source": [
        "# Test your custom layer - the following should create a model using your layer\n",
        "\n",
        "test_model = tf.keras.Sequential([ResidualBlock(input_shape=(28, 28, 1), name=\"residual_block\")])\n",
        "test_model.summary()"
      ],
      "execution_count": 7,
      "outputs": [
        {
          "output_type": "stream",
          "text": [
            "Model: \"sequential\"\n",
            "_________________________________________________________________\n",
            "Layer (type)                 Output Shape              Param #   \n",
            "=================================================================\n",
            "residual_block (ResidualBloc (None, 28, 28, 1)         28        \n",
            "=================================================================\n",
            "Total params: 28\n",
            "Trainable params: 24\n",
            "Non-trainable params: 4\n",
            "_________________________________________________________________\n"
          ],
          "name": "stdout"
        }
      ]
    },
    {
      "cell_type": "markdown",
      "metadata": {
        "id": "9SRhaqvrgGtj",
        "colab_type": "text"
      },
      "source": [
        ""
      ]
    },
    {
      "cell_type": "markdown",
      "metadata": {
        "id": "Y2PoqmxCbiZy",
        "colab_type": "text"
      },
      "source": [
        "You should now create a second custom layer for a residual block of your network. This layer will be used to change the number of filters within the block. Using layer subclassing, build your custom layer according to the following spec:\n",
        "\n",
        "* The custom layer class should have `__init__`, `build` and `call` methods \n",
        "* The class initialiser should call the base `Layer` class initializer, passing on any keyword arguments. It should also accept a `out_filters` argument, and save it as a class attribute\n",
        "* The `build` method should create the layers. It will take an `input_shape` argument, and should extract the number of input filters from this argument. It should create:\n",
        "    * A BatchNormalization layer: this will be the first layer in the block, so should use its `input shape` keyword argument\n",
        "    * A Conv2D layer with the same number of filters as the layer input, a 3x3 kernel size, `\"SAME\"` padding, and no activation function\n",
        "    * Another BatchNormalization layer\n",
        "    * Another Conv2D layer with `out_filters` number of filters, a 3x3 kernel size, `\"SAME\"` padding, and no activation function\n",
        "    * A final Conv2D layer with `out_filters` number of filters, a 1x1 kernel size, and no activation function\n",
        "* The `call` method should then process the input through the layers:\n",
        "    * The first BatchNormalization layer: ensure to set the `training` keyword argument\n",
        "    * A `tf.nn.relu` activation function\n",
        "    * The first Conv2D layer\n",
        "    * The second BatchNormalization layer: ensure to set the `training` keyword argument\n",
        "    * Another `tf.nn.relu` activation function\n",
        "    * The second Conv2D layer\n",
        "    * It should then take the layer inputs, pass it through the final 1x1 Conv2D layer, and add to the output of the second Conv2D layer. This is the final layer output"
      ]
    },
    {
      "cell_type": "code",
      "metadata": {
        "id": "HiK_lavabiZz",
        "colab_type": "code",
        "colab": {}
      },
      "source": [
        "#### GRADED CELL ####\n",
        "\n",
        "# Complete the following class. \n",
        "# Make sure to not change the class or method names or arguments.\n",
        "\n",
        "class FiltersChangeResidualBlock(Layer):\n",
        "\n",
        "    def __init__(self, out_filters, **kwargs):\n",
        "        \"\"\"\n",
        "        The class initialiser should call the base class initialiser, passing any keyword\n",
        "        arguments along. It should also set the number of filters as a class attribute.\n",
        "        \"\"\"\n",
        "        super(FiltersChangeResidualBlock, self).__init__(**kwargs)\n",
        "        self.out_filters = out_filters        \n",
        "        \n",
        "    def build(self, input_shape):\n",
        "        \"\"\"\n",
        "        This method should build the layers according to the above specification. Make sure \n",
        "        to use the input_shape argument to get the correct number of filters, and to set the\n",
        "        input_shape of the first layer in the block.\n",
        "        \"\"\"\n",
        "        self.batchnorm = BatchNormalization(input_shape = input_shape)\n",
        "        self.conv2d = Conv2D(input_shape[-1], (3,3), padding='SAME', activation=None)\n",
        "        self.batchnorm2 = BatchNormalization()\n",
        "        self.conv2d2 = Conv2D(self.out_filters, (3,3), padding='SAME', activation=None)  \n",
        "        self.conv2d3 = Conv2D(self.out_filters, (1,1), activation=None)\n",
        "                \n",
        "    def call(self, inputs, training=False):\n",
        "        \"\"\"\n",
        "        This method should contain the code for calling the layer according to the above\n",
        "        specification, using the layer objects set up in the build method.\n",
        "        \"\"\"\n",
        "        x = self.batchnorm(inputs, training=training)\n",
        "        x = tf.nn.relu(x)\n",
        "        x = self.conv2d(x)\n",
        "        x = self.batchnorm2(x, training=training)\n",
        "        x = tf.nn.relu(x)\n",
        "        x = self.conv2d2(x)\n",
        "        out = tf.add(x, self.conv2d3(inputs))\n",
        "        return out"
      ],
      "execution_count": 8,
      "outputs": []
    },
    {
      "cell_type": "code",
      "metadata": {
        "id": "LWacV9I5biZ3",
        "colab_type": "code",
        "colab": {
          "base_uri": "https://localhost:8080/",
          "height": 191
        },
        "outputId": "4a695d24-7bbb-417c-9d58-745d4cee2ac1"
      },
      "source": [
        "# Test your custom layer - the following should create a model using your layer\n",
        "\n",
        "test_model = tf.keras.Sequential([FiltersChangeResidualBlock(16, input_shape=(32, 32, 3), name=\"fc_resnet_block\")])\n",
        "test_model.summary()"
      ],
      "execution_count": 9,
      "outputs": [
        {
          "output_type": "stream",
          "text": [
            "Model: \"sequential_1\"\n",
            "_________________________________________________________________\n",
            "Layer (type)                 Output Shape              Param #   \n",
            "=================================================================\n",
            "fc_resnet_block (FiltersChan (None, 32, 32, 16)        620       \n",
            "=================================================================\n",
            "Total params: 620\n",
            "Trainable params: 608\n",
            "Non-trainable params: 12\n",
            "_________________________________________________________________\n"
          ],
          "name": "stdout"
        }
      ]
    },
    {
      "cell_type": "markdown",
      "metadata": {
        "id": "TMY3Ak7YbiZ6",
        "colab_type": "text"
      },
      "source": [
        "#### Create a custom model that integrates the residual blocks\n",
        "\n",
        "You are now ready to build your ResNet model. Using model subclassing, build your model according to the following spec:\n",
        "\n",
        "* The custom model class should have `__init__` and `call` methods. \n",
        "* The class initialiser should call the base `Model` class initializer, passing on any keyword arguments. It should create the model layers:\n",
        "    * The first Conv2D layer, with 32 filters, a 7x7 kernel and stride of 2.\n",
        "    * A `ResidualBlock` layer.\n",
        "    * The second Conv2D layer, with 32 filters, a 3x3 kernel and stride of 2.\n",
        "    * A `FiltersChangeResidualBlock` layer, with 64 output filters.\n",
        "    * A Flatten layer\n",
        "    * A final Dense layer, with a 10-way softmax output\n",
        "* The `call` method should then process the input through the layers in the order given above. Ensure to pass the `training` keyword argument to the residual blocks, to ensure the correct mode of operation for the batch norm layers.\n",
        "\n",
        "In total, your neural network should have six layers (counting each residual block as one layer)."
      ]
    },
    {
      "cell_type": "code",
      "metadata": {
        "id": "53xs9JBKbiZ7",
        "colab_type": "code",
        "colab": {}
      },
      "source": [
        "#### GRADED CELL ####\n",
        "\n",
        "# Complete the following class. \n",
        "# Make sure to not change the class or method names or arguments.\n",
        "\n",
        "class ResNetModel(Model):\n",
        "\n",
        "    def __init__(self, **kwargs):\n",
        "        \"\"\"\n",
        "        The class initialiser should call the base class initialiser, passing any keyword\n",
        "        arguments along. It should also create the layers of the network according to the\n",
        "        above specification.\n",
        "        \"\"\"\n",
        "        super(ResNetModel, self).__init__(**kwargs)\n",
        "\n",
        "        self.conv2d1 = Conv2D(32, (7,7), strides=2, name='ResNetModel_Conv1')\n",
        "        self.resblock = ResidualBlock()\n",
        "        self.conv2d2 =  Conv2D(32, (3,3), strides=2, name='ResNetModel_Conv2')\n",
        "        self.filters = FiltersChangeResidualBlock(64)\n",
        "        self.flatten = Flatten(name='ResNetModel_flatten')\n",
        "        self.dense = Dense(10, activation='softmax', name='ResNetModel_softmax')\n",
        "\n",
        "    def call(self, inputs, training=False):\n",
        "        \"\"\"\n",
        "        This method should contain the code for calling the layer according to the above\n",
        "        specification, using the layer objects set up in the initialiser.\n",
        "        \"\"\"\n",
        "        x = self.conv2d1(inputs)\n",
        "        x = self.resblock(x, training=training)\n",
        "        x = self.conv2d2(x)\n",
        "        x = self.filters(x, training = training)\n",
        "        x = self.flatten(x)\n",
        "        x = self.dense(x)\n",
        "        return x        "
      ],
      "execution_count": 10,
      "outputs": []
    },
    {
      "cell_type": "code",
      "metadata": {
        "id": "QZG77KapbiZ-",
        "colab_type": "code",
        "colab": {}
      },
      "source": [
        "# Create the model\n",
        "\n",
        "resnet_model = ResNetModel()"
      ],
      "execution_count": 11,
      "outputs": []
    },
    {
      "cell_type": "markdown",
      "metadata": {
        "id": "KlHXCYYLbiaB",
        "colab_type": "text"
      },
      "source": [
        "#### Define the optimizer and loss function"
      ]
    },
    {
      "cell_type": "markdown",
      "metadata": {
        "id": "dxfc-oYdbiaB",
        "colab_type": "text"
      },
      "source": [
        "We will use the Adam optimizer with a learning rate of 0.001, and the sparse categorical cross entropy function."
      ]
    },
    {
      "cell_type": "code",
      "metadata": {
        "id": "C33dTTFzbiaC",
        "colab_type": "code",
        "colab": {}
      },
      "source": [
        "# Create the optimizer and loss\n",
        "\n",
        "optimizer_obj = tf.keras.optimizers.Adam(learning_rate=0.001)\n",
        "loss_obj = tf.keras.losses.SparseCategoricalCrossentropy()"
      ],
      "execution_count": 12,
      "outputs": []
    },
    {
      "cell_type": "markdown",
      "metadata": {
        "id": "wAhzpm3TbiaG",
        "colab_type": "text"
      },
      "source": [
        "#### Define the grad function"
      ]
    },
    {
      "cell_type": "markdown",
      "metadata": {
        "id": "RFL3r1zZbiaH",
        "colab_type": "text"
      },
      "source": [
        "You should now create the `grad` function that will compute the forward and backward pass, and return the loss value and gradients that will be used in your custom training loop:\n",
        "\n",
        "* The `grad` function takes a model instance, inputs, targets and the loss object above as arguments\n",
        "* The function should use a `tf.GradientTape` context to compute the forward pass and calculate the loss\n",
        "* The function should compute the gradient of the loss with respect to the model's trainable variables\n",
        "* The function should return a tuple of two elements: the loss value, and a list of gradients"
      ]
    },
    {
      "cell_type": "code",
      "metadata": {
        "id": "_6k5MsJVbiaI",
        "colab_type": "code",
        "colab": {}
      },
      "source": [
        "#### GRADED CELL ####\n",
        "\n",
        "# Complete the following function. \n",
        "# Make sure to not change the function name or arguments.\n",
        "\n",
        "@tf.function\n",
        "def grad(model, inputs, targets, loss):\n",
        "    \"\"\"\n",
        "    This function should compute the loss and gradients of your model, corresponding to\n",
        "    the inputs and targets provided. It should return the loss and gradients.\n",
        "    \"\"\"\n",
        "    with tf.GradientTape() as tape:\n",
        "        pred = model(inputs)\n",
        "        los = loss(targets, pred)\n",
        "    \n",
        "    grad = tape.gradient(los, model.trainable_variables)\n",
        "    return los, grad"
      ],
      "execution_count": 13,
      "outputs": []
    },
    {
      "cell_type": "markdown",
      "metadata": {
        "id": "p_48RRAGbiaK",
        "colab_type": "text"
      },
      "source": [
        "#### Define the custom training loop"
      ]
    },
    {
      "cell_type": "markdown",
      "metadata": {
        "id": "PDKxVoDEbiaL",
        "colab_type": "text"
      },
      "source": [
        "You should now write a custom training loop. Complete the following function, according to the spec:\n",
        "\n",
        "* The function takes the following arguments:\n",
        "    * `model`: an instance of your custom model\n",
        "    * `num_epochs`: integer number of epochs to train the model\n",
        "    * `dataset`: a `tf.data.Dataset` object for the training data\n",
        "    * `optimizer`: an optimizer object, as created above\n",
        "    * `loss`: a sparse categorical cross entropy object, as created above\n",
        "    * `grad_fn`: your `grad` function above, that returns the loss and gradients for given model, inputs and targets\n",
        "* Your function should train the model for the given number of epochs, using the `grad_fn` to compute gradients for each training batch, and updating the model parameters using `optimizer.apply_gradients`. \n",
        "* Your function should collect the mean loss and accuracy values over the epoch, and return a tuple of two lists; the first for the list of loss values per epoch, the second for the list of accuracy values per epoch.\n",
        "\n",
        "You may also want to print out the loss and accuracy at each epoch during the training."
      ]
    },
    {
      "cell_type": "code",
      "metadata": {
        "id": "JOvFcrLpbiaM",
        "colab_type": "code",
        "colab": {}
      },
      "source": [
        "#### GRADED CELL ####\n",
        "\n",
        "# Complete the following function. \n",
        "# Make sure to not change the function name or arguments.\n",
        "\n",
        "def train_resnet(model, num_epochs, dataset, optimizer, loss, grad_fn):\n",
        "    \"\"\"\n",
        "    This function should implement the custom training loop, as described above. It should \n",
        "    return a tuple of two elements: the first element is a list of loss values per epoch, the\n",
        "    second is a list of accuracy values per epoch\n",
        "    \"\"\"\n",
        "    import time\n",
        "    start_time = time.time()\n",
        "\n",
        "    train_loss_results = []\n",
        "    train_accuracy_results = []\n",
        "\n",
        "    # i_epoch = 0\n",
        "    for i_epoch in range(0, num_epochs, 1):\n",
        "        \n",
        "        epoch_loss_avg = tf.keras.metrics.Mean()\n",
        "        epoch_accuracy = tf.keras.metrics.CategoricalAccuracy()\n",
        "\n",
        "        for x, y in train_dataset:\n",
        "\n",
        "            # optimize the model\n",
        "            loss_value, grads = grad_fn(model, x, y, loss)\n",
        "            optimizer.apply_gradients(zip(grads, model.trainable_variables))\n",
        "    \n",
        "            # compute the current loss\n",
        "            epoch_loss_avg(loss_value)\n",
        "            \n",
        "            # compare pred label to actual label\n",
        "            epoch_accuracy(to_categorical(y, num_classes=len(image_labels)), model(x))\n",
        "\n",
        "        train_loss_results.append(epoch_loss_avg.result())\n",
        "        train_accuracy_results.append(epoch_accuracy.result())\n",
        "\n",
        "        print('Epoch : {}, Loss : {:.03f}, Accuracy : {:3.3%}'.format(i_epoch+1, epoch_loss_avg.result(), epoch_accuracy.result().numpy()))\n",
        "        # print(\"Duration :{:.3f}\".format(time.time() - start_time))\n",
        "\n",
        "    return train_loss_results, train_accuracy_results"
      ],
      "execution_count": 20,
      "outputs": []
    },
    {
      "cell_type": "code",
      "metadata": {
        "id": "yD9Pxs_PbiaO",
        "colab_type": "code",
        "colab": {
          "base_uri": "https://localhost:8080/",
          "height": 156
        },
        "outputId": "d69b1c0a-d5f4-4beb-82fd-a87afc17c8c3"
      },
      "source": [
        "# Train the model for 8 epochs\n",
        "\n",
        "train_loss_results, train_accuracy_results = train_resnet(resnet_model, 8, train_dataset, optimizer_obj, loss_obj, grad)"
      ],
      "execution_count": 21,
      "outputs": [
        {
          "output_type": "stream",
          "text": [
            "Epoch : 0, Loss : 0.250, Accuracy : 93.269%\n",
            "Epoch : 1, Loss : 0.226, Accuracy : 94.671%\n",
            "Epoch : 2, Loss : 0.204, Accuracy : 95.353%\n",
            "Epoch : 3, Loss : 0.187, Accuracy : 95.733%\n",
            "Epoch : 4, Loss : 0.168, Accuracy : 96.554%\n",
            "Epoch : 5, Loss : 0.153, Accuracy : 96.975%\n",
            "Epoch : 6, Loss : 0.135, Accuracy : 97.516%\n",
            "Epoch : 7, Loss : 0.136, Accuracy : 97.696%\n"
          ],
          "name": "stdout"
        }
      ]
    },
    {
      "cell_type": "markdown",
      "metadata": {
        "id": "9w0AOlo2biaR",
        "colab_type": "text"
      },
      "source": [
        "#### Plot the learning curves"
      ]
    },
    {
      "cell_type": "code",
      "metadata": {
        "id": "EQxQxQxgbiaS",
        "colab_type": "code",
        "colab": {
          "base_uri": "https://localhost:8080/",
          "height": 354
        },
        "outputId": "6ffac97d-75fe-42d1-e3fa-70cb859a17af"
      },
      "source": [
        "fig, axes = plt.subplots(1, 2, sharex=True, figsize=(12, 5))\n",
        "\n",
        "axes[0].set_xlabel(\"Epochs\", fontsize=14)\n",
        "axes[0].set_ylabel(\"Loss\", fontsize=14)\n",
        "axes[0].set_title('Loss vs epochs')\n",
        "axes[0].plot(train_loss_results)\n",
        "\n",
        "axes[1].set_title('Accuracy vs epochs')\n",
        "axes[1].set_ylabel(\"Accuracy\", fontsize=14)\n",
        "axes[1].set_xlabel(\"Epochs\", fontsize=14)\n",
        "axes[1].plot(train_accuracy_results)\n",
        "plt.show()"
      ],
      "execution_count": 22,
      "outputs": [
        {
          "output_type": "display_data",
          "data": {
            "image/png": "[encoded data removed]",
            "text/plain": [
              "<Figure size 864x360 with 2 Axes>"
            ]
          },
          "metadata": {
            "tags": [],
            "needs_background": "light"
          }
        }
      ]
    },
    {
      "cell_type": "markdown",
      "metadata": {
        "id": "IQ_A0So1biaU",
        "colab_type": "text"
      },
      "source": [
        "#### Evaluate the model performance on the test dataset"
      ]
    },
    {
      "cell_type": "code",
      "metadata": {
        "id": "qVyiUCMjbiaV",
        "colab_type": "code",
        "colab": {
          "base_uri": "https://localhost:8080/",
          "height": 52
        },
        "outputId": "5fc6ce58-9390-488c-c0db-484875bf2478"
      },
      "source": [
        "# Compute the test loss and accuracy\n",
        "\n",
        "epoch_loss_avg = tf.keras.metrics.Mean()\n",
        "epoch_accuracy = tf.keras.metrics.CategoricalAccuracy()\n",
        "\n",
        "for x, y in test_dataset:\n",
        "    model_output = resnet_model(x)\n",
        "    epoch_loss_avg(loss_obj(y, model_output))  \n",
        "    epoch_accuracy(to_categorical(y), model_output)\n",
        "\n",
        "print(\"Test loss: {:.3f}\".format(epoch_loss_avg.result().numpy()))\n",
        "print(\"Test accuracy: {:.3%}\".format(epoch_accuracy.result().numpy()))"
      ],
      "execution_count": 23,
      "outputs": [
        {
          "output_type": "stream",
          "text": [
            "Test loss: 0.720\n",
            "Test accuracy: 83.293%\n"
          ],
          "name": "stdout"
        }
      ]
    },
    {
      "cell_type": "markdown",
      "metadata": {
        "id": "TTV7htZDbiaX",
        "colab_type": "text"
      },
      "source": [
        "#### Model predictions\n",
        "\n",
        "Let's see some model predictions! We will randomly select four images from the test data, and display the image and label for each. \n",
        "\n",
        "For each test image, model's prediction (the label with maximum probability) is shown, together with a plot showing the model's categorical distribution."
      ]
    },
    {
      "cell_type": "code",
      "metadata": {
        "id": "1o1RDRWEbiaY",
        "colab_type": "code",
        "colab": {
          "base_uri": "https://localhost:8080/",
          "height": 716
        },
        "outputId": "83e900ce-adfb-42f3-86f1-138da05243ee"
      },
      "source": [
        "# Run this cell to get model predictions on randomly selected test images\n",
        "\n",
        "num_test_images = test_images.shape[0]\n",
        "\n",
        "random_inx = np.random.choice(test_images.shape[0], 4)\n",
        "random_test_images = test_images[random_inx, ...]\n",
        "random_test_labels = test_labels[random_inx, ...]\n",
        "\n",
        "predictions = resnet_model(random_test_images)\n",
        "\n",
        "fig, axes = plt.subplots(4, 2, figsize=(16, 12))\n",
        "fig.subplots_adjust(hspace=0.5, wspace=-0.2)\n",
        "\n",
        "for i, (prediction, image, label) in enumerate(zip(predictions, random_test_images, random_test_labels)):\n",
        "    axes[i, 0].imshow(np.squeeze(image))\n",
        "    axes[i, 0].get_xaxis().set_visible(False)\n",
        "    axes[i, 0].get_yaxis().set_visible(False)\n",
        "    axes[i, 0].text(5., -2., f'Class {label} ({image_labels[label]})')\n",
        "    axes[i, 1].bar(np.arange(len(prediction)), prediction)\n",
        "    axes[i, 1].set_xticks(np.arange(len(prediction)))\n",
        "    axes[i, 1].set_xticklabels(image_labels, rotation=0)\n",
        "    pred_inx = np.argmax(prediction)\n",
        "    axes[i, 1].set_title(f\"Categorical distribution. Model prediction: {image_labels[pred_inx]}\")\n",
        "    \n",
        "plt.show()"
      ],
      "execution_count": 24,
      "outputs": [
        {
          "output_type": "display_data",
          "data": {
            "image/png": "[encoded data removed]",
            "text/plain": [
              "<Figure size 1152x864 with 8 Axes>"
            ]
          },
          "metadata": {
            "tags": [],
            "needs_background": "light"
          }
        }
      ]
    },
    {
      "cell_type": "markdown",
      "metadata": {
        "id": "S6qxLOmbbiaa",
        "colab_type": "text"
      },
      "source": [
        "Congratulations for completing this programming assignment! You're now ready to move on to the capstone project for this course."
      ]
    }
  ]
}