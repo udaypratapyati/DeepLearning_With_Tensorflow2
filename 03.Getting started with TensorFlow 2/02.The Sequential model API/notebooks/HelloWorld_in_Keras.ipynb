{
 "cells": [
  {
   "cell_type": "markdown",
   "metadata": {},
   "source": [
    "# Introduction to TensorFlow\n",
    "\n",
    "## Coding tutorials\n",
    "#### [1. Hello TensorFlow!](#coding_tutorial_1)"
   ]
  },
  {
   "cell_type": "markdown",
   "metadata": {},
   "source": [
    "---\n",
    "<a id='coding_tutorial_1'></a>\n",
    "## Hello TensorFlow!"
   ]
  },
  {
   "cell_type": "code",
   "execution_count": 1,
   "metadata": {},
   "outputs": [],
   "source": [
    "# Import TensorFlow\n",
    "\n",
    "import tensorflow as tf"
   ]
  },
  {
   "cell_type": "code",
   "execution_count": 2,
   "metadata": {},
   "outputs": [
    {
     "data": {
      "text/plain": [
       "'2.0.0'"
      ]
     },
     "execution_count": 2,
     "metadata": {},
     "output_type": "execute_result"
    }
   ],
   "source": [
    "# Check its version\n",
    "\n",
    "tf.__version__"
   ]
  },
  {
   "cell_type": "code",
   "execution_count": 3,
   "metadata": {},
   "outputs": [
    {
     "name": "stdout",
     "output_type": "stream",
     "text": [
      "Loading data...\n",
      "\n",
      "MNIST dataset loaded.\n",
      "\n",
      "Training model...\n",
      "\n",
      "Train on 60000 samples\n",
      "Epoch 1/3\n",
      "60000/60000 [==============================] - 9s 145us/sample - loss: 0.4333 - accuracy: 0.8798\n",
      "Epoch 2/3\n",
      "60000/60000 [==============================] - 8s 132us/sample - loss: 0.2431 - accuracy: 0.9308\n",
      "Epoch 3/3\n",
      "60000/60000 [==============================] - 8s 132us/sample - loss: 0.2097 - accuracy: 0.9398\n",
      "Model trained successfully!\n"
     ]
    }
   ],
   "source": [
    "# Train a feedforward neural network for image classification\n",
    "\n",
    "import numpy as np\n",
    "\n",
    "print('Loading data...\\n')\n",
    "data = np.loadtxt('./data/mnist.csv', delimiter=',')\n",
    "print('MNIST dataset loaded.\\n')\n",
    "\n",
    "x_train = data[:, 1:]\n",
    "y_train = data[:, 0]\n",
    "x_train = x_train/255.\n",
    "\n",
    "model = tf.keras.models.Sequential([\n",
    "  tf.keras.layers.Dense(16, activation='relu'),\n",
    "  tf.keras.layers.Dense(10, activation='softmax')\n",
    "])\n",
    "\n",
    "model.compile(optimizer='adam',\n",
    "              loss='sparse_categorical_crossentropy',\n",
    "              metrics=['accuracy'])\n",
    "\n",
    "print('Training model...\\n')\n",
    "model.fit(x_train, y_train, epochs=3, batch_size=32)\n",
    "\n",
    "print('Model trained successfully!')"
   ]
  }
 ],
 "metadata": {
  "kernelspec": {
   "display_name": "Python 3",
   "language": "python",
   "name": "python3"
  },
  "language_info": {
   "codemirror_mode": {
    "name": "ipython",
    "version": 3
   },
   "file_extension": ".py",
   "mimetype": "text/x-python",
   "name": "python",
   "nbconvert_exporter": "python",
   "pygments_lexer": "ipython3",
   "version": "3.7.1"
  }
 },
 "nbformat": 4,
 "nbformat_minor": 2
}
