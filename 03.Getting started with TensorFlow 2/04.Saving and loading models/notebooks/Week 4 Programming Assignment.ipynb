{
 "cells": [
  {
   "cell_type": "markdown",
   "metadata": {},
   "source": [
    "# Programming Assignment\n",
    "\n",
    "## Saving and loading models, with application to the EuroSat dataset\n",
    "\n",
    "### Instructions\n",
    "\n",
    "In this notebook, you will create a neural network that classifies land uses and land covers from satellite imagery. You will save your model using Tensorflow's callbacks and reload it later. You will also load in a pre-trained neural network classifier and compare performance with it. \n",
    "\n",
    "Some code cells are provided for you in the notebook. You should avoid editing provided code, and make sure to execute the cells in order to avoid unexpected errors. Some cells begin with the line: \n",
    "\n",
    "`#### GRADED CELL ####`\n",
    "\n",
    "Don't move or edit this first line - this is what the automatic grader looks for to recognise graded cells. These cells require you to write your own code to complete them, and are automatically graded when you submit the notebook. Don't edit the function name or signature provided in these cells, otherwise the automatic grader might not function properly. Inside these graded cells, you can use any functions or classes that are imported below, but make sure you don't use any variables that are outside the scope of the function.\n",
    "\n",
    "### How to submit\n",
    "\n",
    "Complete all the tasks you are asked for in the worksheet. When you have finished and are happy with your code, press the **Submit Assignment** button at the top of this notebook.\n",
    "\n",
    "### Let's get started!\n",
    "\n",
    "We'll start running some imports, and loading the dataset. Do not edit the existing imports in the following cell. If you would like to make further Tensorflow imports, you should add them here."
   ]
  },
  {
   "cell_type": "code",
   "execution_count": 1,
   "metadata": {},
   "outputs": [],
   "source": [
    "#### PACKAGE IMPORTS ####\n",
    "\n",
    "# Run this cell first to import all required packages. Do not make any imports elsewhere in the notebook\n",
    "\n",
    "import tensorflow as tf\n",
    "from tensorflow.keras.preprocessing.image import load_img, img_to_array\n",
    "from tensorflow.keras.models import Sequential, load_model\n",
    "from tensorflow.keras.layers import Dense, Flatten, Conv2D, MaxPooling2D\n",
    "from tensorflow.keras.callbacks import ModelCheckpoint, EarlyStopping\n",
    "import os\n",
    "import numpy as np\n",
    "import pandas as pd\n",
    "\n",
    "# If you would like to make further imports from tensorflow, add them here\n",
    "\n"
   ]
  },
  {
   "cell_type": "markdown",
   "metadata": {},
   "source": [
    "![EuroSAT overview image](data/eurosat_overview.jpg)\n",
    "\n",
    "#### The EuroSAT dataset\n",
    "\n",
    "In this assignment, you will use the [EuroSAT dataset](https://github.com/phelber/EuroSAT). It consists of 27000 labelled Sentinel-2 satellite images of different land uses: residential, industrial, highway, river, forest, pasture, herbaceous vegetation, annual crop, permanent crop and sea/lake. For a reference, see the following papers:\n",
    "- Eurosat: A novel dataset and deep learning benchmark for land use and land cover classification. Patrick Helber, Benjamin Bischke, Andreas Dengel, Damian Borth. IEEE Journal of Selected Topics in Applied Earth Observations and Remote Sensing, 2019.\n",
    "- Introducing EuroSAT: A Novel Dataset and Deep Learning Benchmark for Land Use and Land Cover Classification. Patrick Helber, Benjamin Bischke, Andreas Dengel. 2018 IEEE International Geoscience and Remote Sensing Symposium, 2018.\n",
    "\n",
    "Your goal is to construct a neural network that classifies a satellite image into one of these 10 classes, as well as applying some of the saving and loading techniques you have learned in the previous sessions."
   ]
  },
  {
   "cell_type": "markdown",
   "metadata": {},
   "source": [
    "#### Import the data\n",
    "\n",
    "The dataset you will train your model on is a subset of the total data, with 4000 training images and 1000 testing images, with roughly equal numbers of each class. The code to import the data is provided below."
   ]
  },
  {
   "cell_type": "code",
   "execution_count": 2,
   "metadata": {},
   "outputs": [],
   "source": [
    "# Run this cell to import the Eurosat data\n",
    "\n",
    "def load_eurosat_data():\n",
    "    data_dir = 'data/'\n",
    "    x_train = np.load(os.path.join(data_dir, 'x_train.npy'))\n",
    "    y_train = np.load(os.path.join(data_dir, 'y_train.npy'))\n",
    "    x_test  = np.load(os.path.join(data_dir, 'x_test.npy'))\n",
    "    y_test  = np.load(os.path.join(data_dir, 'y_test.npy'))\n",
    "    return (x_train, y_train), (x_test, y_test)\n",
    "\n",
    "(x_train, y_train), (x_test, y_test) = load_eurosat_data()\n",
    "x_train = x_train / 255.0\n",
    "x_test = x_test / 255.0"
   ]
  },
  {
   "cell_type": "code",
   "execution_count": 4,
   "metadata": {},
   "outputs": [
    {
     "name": "stdout",
     "output_type": "stream",
     "text": [
      "(4000, 64, 64, 3) (4000, 1)\n",
      "[[2]\n",
      " [2]\n",
      " [8]\n",
      " [7]\n",
      " [2]]\n"
     ]
    }
   ],
   "source": [
    "print(x_train.shape, y_train.shape)\n",
    "print(y_train[:5])"
   ]
  },
  {
   "cell_type": "markdown",
   "metadata": {},
   "source": [
    "#### Build the neural network model"
   ]
  },
  {
   "cell_type": "markdown",
   "metadata": {},
   "source": [
    "You can now construct a model to fit to the data. Using the Sequential API, build your model according to the following specifications:\n",
    "\n",
    "* The model should use the input_shape in the function argument to set the input size in the first layer.\n",
    "* The first layer should be a Conv2D layer with 16 filters, a 3x3 kernel size, a ReLU activation function and 'SAME' padding. Name this layer 'conv_1'.\n",
    "* The second layer should also be a Conv2D layer with 8 filters, a 3x3 kernel size, a ReLU activation function and 'SAME' padding. Name this layer 'conv_2'.\n",
    "* The third layer should be a MaxPooling2D layer with a pooling window size of 8x8. Name this layer 'pool_1'.\n",
    "* The fourth layer should be a Flatten layer, named 'flatten'.\n",
    "* The fifth layer should be a Dense layer with 32 units, a ReLU activation. Name this layer 'dense_1'.\n",
    "* The sixth and final layer should be a Dense layer with 10 units and softmax activation. Name this layer 'dense_2'.\n",
    "\n",
    "In total, the network should have 6 layers."
   ]
  },
  {
   "cell_type": "code",
   "execution_count": 11,
   "metadata": {},
   "outputs": [],
   "source": [
    "#### GRADED CELL ####\n",
    "\n",
    "# Complete the following function. \n",
    "# Make sure to not change the function name or arguments.\n",
    "\n",
    "def get_new_model(input_shape):\n",
    "    \"\"\"\n",
    "    This function should build a Sequential model according to the above specification. Ensure the \n",
    "    weights are initialised by providing the input_shape argument in the first layer, given by the\n",
    "    function argument.\n",
    "    Your function should also compile the model with the Adam optimiser, sparse categorical cross\n",
    "    entropy loss function, and a single accuracy metric.\n",
    "    \"\"\"\n",
    "    model = Sequential([\n",
    "        Conv2D(16, kernel_size=3, padding='SAME', activation='relu', name='conv_1', input_shape=(input_shape)),\n",
    "        Conv2D(8, kernel_size=3, padding='SAME', activation='relu', name='conv_2'),\n",
    "        MaxPooling2D(pool_size=(8,8), name='pool_1'),\n",
    "        Flatten(name='flatten'),\n",
    "        Dense(32, activation='relu', name='dense_1'),\n",
    "        Dense(10, activation='softmax', name='dense_2')\n",
    "    ])\n",
    "    \n",
    "    model.compile(optimizer='adam', loss='sparse_categorical_crossentropy', metrics=['accuracy'])\n",
    "    \n",
    "    return model    "
   ]
  },
  {
   "cell_type": "markdown",
   "metadata": {},
   "source": [
    "#### Compile and evaluate the model"
   ]
  },
  {
   "cell_type": "code",
   "execution_count": 7,
   "metadata": {},
   "outputs": [
    {
     "data": {
      "text/plain": [
       "(64, 64, 3)"
      ]
     },
     "execution_count": 7,
     "metadata": {},
     "output_type": "execute_result"
    }
   ],
   "source": [
    "x_train[0].shape"
   ]
  },
  {
   "cell_type": "code",
   "execution_count": 12,
   "metadata": {},
   "outputs": [],
   "source": [
    "# Run your function to create the model\n",
    "\n",
    "model = get_new_model(x_train[0].shape)"
   ]
  },
  {
   "cell_type": "code",
   "execution_count": 13,
   "metadata": {},
   "outputs": [],
   "source": [
    "# Run this cell to define a function to evaluate a model's test accuracy\n",
    "\n",
    "def get_test_accuracy(model, x_test, y_test):\n",
    "    \"\"\"Test model classification accuracy\"\"\"\n",
    "    test_loss, test_acc = model.evaluate(x=x_test, y=y_test, verbose=0)\n",
    "    print('accuracy: {acc:0.3f}'.format(acc=test_acc))"
   ]
  },
  {
   "cell_type": "code",
   "execution_count": 14,
   "metadata": {},
   "outputs": [
    {
     "name": "stdout",
     "output_type": "stream",
     "text": [
      "Model: \"sequential_1\"\n",
      "_________________________________________________________________\n",
      "Layer (type)                 Output Shape              Param #   \n",
      "=================================================================\n",
      "conv_1 (Conv2D)              (None, 64, 64, 16)        448       \n",
      "_________________________________________________________________\n",
      "conv_2 (Conv2D)              (None, 64, 64, 8)         1160      \n",
      "_________________________________________________________________\n",
      "pool_1 (MaxPooling2D)        (None, 8, 8, 8)           0         \n",
      "_________________________________________________________________\n",
      "flatten (Flatten)            (None, 512)               0         \n",
      "_________________________________________________________________\n",
      "dense_1 (Dense)              (None, 32)                16416     \n",
      "_________________________________________________________________\n",
      "dense_2 (Dense)              (None, 10)                330       \n",
      "=================================================================\n",
      "Total params: 18,354\n",
      "Trainable params: 18,354\n",
      "Non-trainable params: 0\n",
      "_________________________________________________________________\n",
      "accuracy: 0.120\n"
     ]
    }
   ],
   "source": [
    "# Print the model summary and calculate its initialised test accuracy\n",
    "\n",
    "model.summary()\n",
    "get_test_accuracy(model, x_test, y_test)"
   ]
  },
  {
   "cell_type": "markdown",
   "metadata": {},
   "source": [
    "#### Create checkpoints to save model during training, with a criterion\n",
    "\n",
    "You will now create three callbacks:\n",
    "- `checkpoint_every_epoch`: checkpoint that saves the model weights every epoch during training\n",
    "- `checkpoint_best_only`: checkpoint that saves only the weights with the highest validation accuracy. Use the testing data as the validation data.\n",
    "- `early_stopping`: early stopping object that ends training if the validation accuracy has not improved in 3 epochs."
   ]
  },
  {
   "cell_type": "code",
   "execution_count": 19,
   "metadata": {},
   "outputs": [],
   "source": [
    "#### GRADED CELL ####\n",
    "\n",
    "# Complete the following functions. \n",
    "# Make sure to not change the function names or arguments.\n",
    "\n",
    "def get_checkpoint_every_epoch():\n",
    "    \"\"\"\n",
    "    This function should return a ModelCheckpoint object that:\n",
    "    - saves the weights only at the end of every epoch\n",
    "    - saves into a directory called 'checkpoints_every_epoch' inside the current working directory\n",
    "    - generates filenames in that directory like 'checkpoint_XXX' where\n",
    "      XXX is the epoch number formatted to have three digits, e.g. 001, 002, 003, etc.\n",
    "    \"\"\"\n",
    "    checkpoint_path='checkpoints_every_epoch/checkpint_{epoch:03d}'\n",
    "    checkpoint = ModelCheckpoint(filepath=checkpoint_path, \n",
    "                                 save_weights_only=True,\n",
    "                                 save_freq='epoch',\n",
    "                                 verbose=1\n",
    "                                )\n",
    "    return checkpoint\n",
    "\n",
    "\n",
    "def get_checkpoint_best_only():\n",
    "    \"\"\"\n",
    "    This function should return a ModelCheckpoint object that:\n",
    "    - saves only the weights that generate the highest validation (testing) accuracy\n",
    "    - saves into a directory called 'checkpoints_best_only' inside the current working directory\n",
    "    - generates a file called 'checkpoints_best_only/checkpoint' \n",
    "    \"\"\"\n",
    "    checkpoint_path='checkpoints_best_only/checkpoint'\n",
    "    checkpoint = ModelCheckpoint(filepath=checkpoint_path,\n",
    "                                 save_freq='epoch', monitor='val_accuracy',\n",
    "                                 save_best_only=True,\n",
    "                                 save_weights_only=True,\n",
    "                                 verbose=1\n",
    "                                )\n",
    "    return checkpoint"
   ]
  },
  {
   "cell_type": "code",
   "execution_count": 20,
   "metadata": {},
   "outputs": [],
   "source": [
    "#### GRADED CELL ####\n",
    "\n",
    "# Complete the following function. \n",
    "# Make sure to not change the function name or arguments.\n",
    "\n",
    "def get_early_stopping():\n",
    "    \"\"\"\n",
    "    This function should return an EarlyStopping callback that stops training when\n",
    "    the validation (testing) accuracy has not improved in the last 3 epochs.\n",
    "    HINT: use the EarlyStopping callback with the correct 'monitor' and 'patience'\n",
    "    \"\"\"\n",
    "    return EarlyStopping(monitor='val_accuracy', patience=3)\n",
    "    "
   ]
  },
  {
   "cell_type": "code",
   "execution_count": 21,
   "metadata": {},
   "outputs": [],
   "source": [
    "# Run this cell to create the callbacks\n",
    "\n",
    "checkpoint_every_epoch = get_checkpoint_every_epoch()\n",
    "checkpoint_best_only = get_checkpoint_best_only()\n",
    "early_stopping = get_early_stopping()"
   ]
  },
  {
   "cell_type": "markdown",
   "metadata": {},
   "source": [
    "#### Train model using the callbacks\n",
    "\n",
    "Now, you will train the model using the three callbacks you created. If you created the callbacks correctly, three things should happen:\n",
    "- At the end of every epoch, the model weights are saved into a directory called `checkpoints_every_epoch`\n",
    "- At the end of every epoch, the model weights are saved into a directory called `checkpoints_best_only` **only** if those weights lead to the highest test accuracy\n",
    "- Training stops when the testing accuracy has not improved in three epochs.\n",
    "\n",
    "You should then have two directories:\n",
    "- A directory called `checkpoints_every_epoch` containing filenames that include `checkpoint_001`, `checkpoint_002`, etc with the `001`, `002` corresponding to the epoch\n",
    "- A directory called `checkpoints_best_only` containing filenames that include `checkpoint`, which contain only the weights leading to the highest testing accuracy"
   ]
  },
  {
   "cell_type": "code",
   "execution_count": 22,
   "metadata": {
    "scrolled": true
   },
   "outputs": [
    {
     "name": "stdout",
     "output_type": "stream",
     "text": [
      "Train on 4000 samples, validate on 1000 samples\n",
      "Epoch 1/50\n",
      "3968/4000 [============================>.] - ETA: 0s - loss: 1.9570 - accuracy: 0.2608\n",
      "Epoch 00001: saving model to checkpoints_every_epoch/checkpint_001\n",
      "\n",
      "Epoch 00001: val_accuracy improved from -inf to 0.33200, saving model to checkpoints_best_only/checkpoint\n",
      "4000/4000 [==============================] - 77s 19ms/sample - loss: 1.9558 - accuracy: 0.2623 - val_loss: 1.6925 - val_accuracy: 0.3320\n",
      "Epoch 2/50\n",
      "3968/4000 [============================>.] - ETA: 0s - loss: 1.5089 - accuracy: 0.4438\n",
      "Epoch 00002: saving model to checkpoints_every_epoch/checkpint_002\n",
      "\n",
      "Epoch 00002: val_accuracy improved from 0.33200 to 0.50200, saving model to checkpoints_best_only/checkpoint\n",
      "4000/4000 [==============================] - 76s 19ms/sample - loss: 1.5070 - accuracy: 0.4450 - val_loss: 1.3940 - val_accuracy: 0.5020\n",
      "Epoch 3/50\n",
      "3968/4000 [============================>.] - ETA: 0s - loss: 1.3044 - accuracy: 0.5280\n",
      "Epoch 00003: saving model to checkpoints_every_epoch/checkpint_003\n",
      "\n",
      "Epoch 00003: val_accuracy did not improve from 0.50200\n",
      "4000/4000 [==============================] - 76s 19ms/sample - loss: 1.3017 - accuracy: 0.5293 - val_loss: 1.2792 - val_accuracy: 0.5020\n",
      "Epoch 4/50\n",
      "3968/4000 [============================>.] - ETA: 0s - loss: 1.1913 - accuracy: 0.5617\n",
      "Epoch 00004: saving model to checkpoints_every_epoch/checkpint_004\n",
      "\n",
      "Epoch 00004: val_accuracy improved from 0.50200 to 0.51500, saving model to checkpoints_best_only/checkpoint\n",
      "4000/4000 [==============================] - 77s 19ms/sample - loss: 1.1898 - accuracy: 0.5623 - val_loss: 1.2098 - val_accuracy: 0.5150\n",
      "Epoch 5/50\n",
      "3968/4000 [============================>.] - ETA: 0s - loss: 1.1375 - accuracy: 0.5751\n",
      "Epoch 00005: saving model to checkpoints_every_epoch/checkpint_005\n",
      "\n",
      "Epoch 00005: val_accuracy improved from 0.51500 to 0.55200, saving model to checkpoints_best_only/checkpoint\n",
      "4000/4000 [==============================] - 77s 19ms/sample - loss: 1.1375 - accuracy: 0.5748 - val_loss: 1.1897 - val_accuracy: 0.5520\n",
      "Epoch 6/50\n",
      "3968/4000 [============================>.] - ETA: 0s - loss: 1.0836 - accuracy: 0.6051\n",
      "Epoch 00006: saving model to checkpoints_every_epoch/checkpint_006\n",
      "\n",
      "Epoch 00006: val_accuracy improved from 0.55200 to 0.56800, saving model to checkpoints_best_only/checkpoint\n",
      "4000/4000 [==============================] - 79s 20ms/sample - loss: 1.0816 - accuracy: 0.6053 - val_loss: 1.1460 - val_accuracy: 0.5680\n",
      "Epoch 7/50\n",
      "3968/4000 [============================>.] - ETA: 0s - loss: 1.0331 - accuracy: 0.6255\n",
      "Epoch 00007: saving model to checkpoints_every_epoch/checkpint_007\n",
      "\n",
      "Epoch 00007: val_accuracy improved from 0.56800 to 0.59200, saving model to checkpoints_best_only/checkpoint\n",
      "4000/4000 [==============================] - 77s 19ms/sample - loss: 1.0335 - accuracy: 0.6260 - val_loss: 1.0965 - val_accuracy: 0.5920\n",
      "Epoch 8/50\n",
      "3968/4000 [============================>.] - ETA: 0s - loss: 0.9980 - accuracy: 0.6386\n",
      "Epoch 00008: saving model to checkpoints_every_epoch/checkpint_008\n",
      "\n",
      "Epoch 00008: val_accuracy improved from 0.59200 to 0.60100, saving model to checkpoints_best_only/checkpoint\n",
      "4000/4000 [==============================] - 76s 19ms/sample - loss: 0.9987 - accuracy: 0.6390 - val_loss: 1.1121 - val_accuracy: 0.6010\n",
      "Epoch 9/50\n",
      "3968/4000 [============================>.] - ETA: 0s - loss: 0.9639 - accuracy: 0.6436\n",
      "Epoch 00009: saving model to checkpoints_every_epoch/checkpint_009\n",
      "\n",
      "Epoch 00009: val_accuracy improved from 0.60100 to 0.61300, saving model to checkpoints_best_only/checkpoint\n",
      "4000/4000 [==============================] - 76s 19ms/sample - loss: 0.9621 - accuracy: 0.6440 - val_loss: 1.0351 - val_accuracy: 0.6130\n",
      "Epoch 10/50\n",
      "3968/4000 [============================>.] - ETA: 0s - loss: 0.9107 - accuracy: 0.6671\n",
      "Epoch 00010: saving model to checkpoints_every_epoch/checkpint_010\n",
      "\n",
      "Epoch 00010: val_accuracy improved from 0.61300 to 0.64800, saving model to checkpoints_best_only/checkpoint\n",
      "4000/4000 [==============================] - 77s 19ms/sample - loss: 0.9097 - accuracy: 0.6672 - val_loss: 0.9817 - val_accuracy: 0.6480\n",
      "Epoch 11/50\n",
      "3968/4000 [============================>.] - ETA: 0s - loss: 0.8592 - accuracy: 0.6903\n",
      "Epoch 00011: saving model to checkpoints_every_epoch/checkpint_011\n",
      "\n",
      "Epoch 00011: val_accuracy did not improve from 0.64800\n",
      "4000/4000 [==============================] - 76s 19ms/sample - loss: 0.8592 - accuracy: 0.6892 - val_loss: 0.9612 - val_accuracy: 0.6420\n",
      "Epoch 12/50\n",
      "3968/4000 [============================>.] - ETA: 0s - loss: 0.8442 - accuracy: 0.7014\n",
      "Epoch 00012: saving model to checkpoints_every_epoch/checkpint_012\n",
      "\n",
      "Epoch 00012: val_accuracy improved from 0.64800 to 0.65700, saving model to checkpoints_best_only/checkpoint\n",
      "4000/4000 [==============================] - 76s 19ms/sample - loss: 0.8445 - accuracy: 0.7010 - val_loss: 0.9429 - val_accuracy: 0.6570\n",
      "Epoch 13/50\n",
      "3968/4000 [============================>.] - ETA: 0s - loss: 0.8069 - accuracy: 0.7089\n",
      "Epoch 00013: saving model to checkpoints_every_epoch/checkpint_013\n",
      "\n",
      "Epoch 00013: val_accuracy improved from 0.65700 to 0.68400, saving model to checkpoints_best_only/checkpoint\n",
      "4000/4000 [==============================] - 76s 19ms/sample - loss: 0.8075 - accuracy: 0.7082 - val_loss: 0.8934 - val_accuracy: 0.6840\n",
      "Epoch 14/50\n",
      "3968/4000 [============================>.] - ETA: 0s - loss: 0.8160 - accuracy: 0.7064\n",
      "Epoch 00014: saving model to checkpoints_every_epoch/checkpint_014\n",
      "\n",
      "Epoch 00014: val_accuracy did not improve from 0.68400\n",
      "4000/4000 [==============================] - 76s 19ms/sample - loss: 0.8151 - accuracy: 0.7070 - val_loss: 0.9488 - val_accuracy: 0.6670\n",
      "Epoch 15/50\n",
      "3968/4000 [============================>.] - ETA: 0s - loss: 0.7878 - accuracy: 0.7145\n",
      "Epoch 00015: saving model to checkpoints_every_epoch/checkpint_015\n",
      "\n",
      "Epoch 00015: val_accuracy did not improve from 0.68400\n",
      "4000/4000 [==============================] - 76s 19ms/sample - loss: 0.7886 - accuracy: 0.7138 - val_loss: 0.9019 - val_accuracy: 0.6640\n",
      "Epoch 16/50\n",
      "3968/4000 [============================>.] - ETA: 0s - loss: 0.7487 - accuracy: 0.7346\n",
      "Epoch 00016: saving model to checkpoints_every_epoch/checkpint_016\n",
      "\n",
      "Epoch 00016: val_accuracy did not improve from 0.68400\n",
      "4000/4000 [==============================] - 77s 19ms/sample - loss: 0.7490 - accuracy: 0.7340 - val_loss: 0.8819 - val_accuracy: 0.6700\n"
     ]
    },
    {
     "data": {
      "text/plain": [
       "<tensorflow.python.keras.callbacks.History at 0x7f06e6b6a278>"
      ]
     },
     "execution_count": 22,
     "metadata": {},
     "output_type": "execute_result"
    }
   ],
   "source": [
    "# Train model using the callbacks you just created\n",
    "\n",
    "callbacks = [checkpoint_every_epoch, checkpoint_best_only, early_stopping]\n",
    "model.fit(x_train, y_train, epochs=50, validation_data=(x_test, y_test), callbacks=callbacks)"
   ]
  },
  {
   "cell_type": "markdown",
   "metadata": {},
   "source": [
    "#### Create new instance of model and load on both sets of weights\n",
    "\n",
    "Now you will use the weights you just saved in a fresh model. You should create two functions, both of which take a freshly instantiated model instance:\n",
    "- `model_last_epoch` should contain the weights from the latest saved epoch\n",
    "- `model_best_epoch` should contain the weights from the saved epoch with the highest testing accuracy\n",
    "\n",
    "_Hint: use the_ `tf.train.latest_checkpoint` _function to get the filename of the latest saved checkpoint file. Check the docs_ [_here_](https://www.tensorflow.org/api_docs/python/tf/train/latest_checkpoint)."
   ]
  },
  {
   "cell_type": "code",
   "execution_count": 25,
   "metadata": {},
   "outputs": [
    {
     "name": "stdout",
     "output_type": "stream",
     "text": [
      "checkpoints_every_epoch/checkpint_016\n",
      "checkpoints_best_only/checkpoint\n",
      "total 3.6M\r\n",
      "-rw-r--r-- 1 jovyan users 219K May 19 20:43 checkpint_001.data-00000-of-00001\r\n",
      "-rw-r--r-- 1 jovyan users 2.0K May 19 20:43 checkpint_001.index\r\n",
      "-rw-r--r-- 1 jovyan users 219K May 19 20:44 checkpint_002.data-00000-of-00001\r\n",
      "-rw-r--r-- 1 jovyan users 2.0K May 19 20:44 checkpint_002.index\r\n",
      "-rw-r--r-- 1 jovyan users 219K May 19 20:46 checkpint_003.data-00000-of-00001\r\n",
      "-rw-r--r-- 1 jovyan users 2.0K May 19 20:46 checkpint_003.index\r\n",
      "-rw-r--r-- 1 jovyan users 219K May 19 20:47 checkpint_004.data-00000-of-00001\r\n",
      "-rw-r--r-- 1 jovyan users 2.0K May 19 20:47 checkpint_004.index\r\n",
      "-rw-r--r-- 1 jovyan users 219K May 19 20:48 checkpint_005.data-00000-of-00001\r\n",
      "-rw-r--r-- 1 jovyan users 2.0K May 19 20:48 checkpint_005.index\r\n",
      "-rw-r--r-- 1 jovyan users 219K May 19 20:49 checkpint_006.data-00000-of-00001\r\n",
      "-rw-r--r-- 1 jovyan users 2.0K May 19 20:49 checkpint_006.index\r\n",
      "-rw-r--r-- 1 jovyan users 219K May 19 20:51 checkpint_007.data-00000-of-00001\r\n",
      "-rw-r--r-- 1 jovyan users 2.0K May 19 20:51 checkpint_007.index\r\n",
      "-rw-r--r-- 1 jovyan users 219K May 19 20:52 checkpint_008.data-00000-of-00001\r\n",
      "-rw-r--r-- 1 jovyan users 2.0K May 19 20:52 checkpint_008.index\r\n",
      "-rw-r--r-- 1 jovyan users 219K May 19 20:53 checkpint_009.data-00000-of-00001\r\n",
      "-rw-r--r-- 1 jovyan users 2.0K May 19 20:53 checkpint_009.index\r\n",
      "-rw-r--r-- 1 jovyan users 219K May 19 20:54 checkpint_010.data-00000-of-00001\r\n",
      "-rw-r--r-- 1 jovyan users 2.0K May 19 20:54 checkpint_010.index\r\n",
      "-rw-r--r-- 1 jovyan users 219K May 19 20:56 checkpint_011.data-00000-of-00001\r\n",
      "-rw-r--r-- 1 jovyan users 2.0K May 19 20:56 checkpint_011.index\r\n",
      "-rw-r--r-- 1 jovyan users 219K May 19 20:57 checkpint_012.data-00000-of-00001\r\n",
      "-rw-r--r-- 1 jovyan users 2.0K May 19 20:57 checkpint_012.index\r\n",
      "-rw-r--r-- 1 jovyan users 219K May 19 20:58 checkpint_013.data-00000-of-00001\r\n",
      "-rw-r--r-- 1 jovyan users 2.0K May 19 20:58 checkpint_013.index\r\n",
      "-rw-r--r-- 1 jovyan users 219K May 19 21:00 checkpint_014.data-00000-of-00001\r\n",
      "-rw-r--r-- 1 jovyan users 2.0K May 19 21:00 checkpint_014.index\r\n",
      "-rw-r--r-- 1 jovyan users 219K May 19 21:01 checkpint_015.data-00000-of-00001\r\n",
      "-rw-r--r-- 1 jovyan users 2.0K May 19 21:01 checkpint_015.index\r\n",
      "-rw-r--r-- 1 jovyan users 219K May 19 21:02 checkpint_016.data-00000-of-00001\r\n",
      "-rw-r--r-- 1 jovyan users 2.0K May 19 21:02 checkpint_016.index\r\n",
      "-rw-r--r-- 1 jovyan users   83 May 19 21:02 checkpoint\r\n"
     ]
    }
   ],
   "source": [
    "# tf.train.latest_checkpoint(\n",
    "#     checkpoint_dir, latest_filename=None\n",
    "# )\n",
    "\n",
    "print(tf.train.latest_checkpoint('checkpoints_every_epoch'))\n",
    "print(tf.train.latest_checkpoint('checkpoints_best_only'))\n",
    "\n",
    "!ls -lh checkpoints_every_epoch"
   ]
  },
  {
   "cell_type": "code",
   "execution_count": 26,
   "metadata": {},
   "outputs": [],
   "source": [
    "#### GRADED CELL ####\n",
    "\n",
    "# Complete the following functions. \n",
    "# Make sure to not change the function name or arguments.\n",
    "\n",
    "def get_model_last_epoch(model):\n",
    "    \"\"\"\n",
    "    This function should create a new instance of the CNN you created earlier,\n",
    "    load on the weights from the last training epoch, and return this model.\n",
    "    \"\"\"\n",
    "    model.load_weights(tf.train.latest_checkpoint('checkpoints_every_epoch'))\n",
    "    return model\n",
    "    \n",
    "    \n",
    "def get_model_best_epoch(model):\n",
    "    \"\"\"\n",
    "    This function should create a new instance of the CNN you created earlier, load \n",
    "    on the weights leading to the highest validation accuracy, and return this model.\n",
    "    \"\"\"\n",
    "    model.load_weights(tf.train.latest_checkpoint('checkpoints_best_only'))\n",
    "    return model\n",
    "    "
   ]
  },
  {
   "cell_type": "code",
   "execution_count": 27,
   "metadata": {},
   "outputs": [
    {
     "name": "stdout",
     "output_type": "stream",
     "text": [
      "Model with last epoch weights:\n",
      "accuracy: 0.670\n",
      "\n",
      "Model with best epoch weights:\n",
      "accuracy: 0.684\n"
     ]
    }
   ],
   "source": [
    "# Run this cell to create two models: one with the weights from the last training\n",
    "# epoch, and one with the weights leading to the highest validation (testing) accuracy.\n",
    "# Verify that the second has a higher validation (testing) accuarcy.\n",
    "\n",
    "model_last_epoch = get_model_last_epoch(get_new_model(x_train[0].shape))\n",
    "model_best_epoch = get_model_best_epoch(get_new_model(x_train[0].shape))\n",
    "print('Model with last epoch weights:')\n",
    "get_test_accuracy(model_last_epoch, x_test, y_test)\n",
    "print('')\n",
    "print('Model with best epoch weights:')\n",
    "get_test_accuracy(model_best_epoch, x_test, y_test)"
   ]
  },
  {
   "cell_type": "markdown",
   "metadata": {},
   "source": [
    "#### Load, from scratch, a model trained on the EuroSat dataset.\n",
    "\n",
    "In your workspace, you will find another model trained on the `EuroSAT` dataset in `.h5` format. This model is trained on a larger subset of the EuroSAT dataset and has a more complex architecture. The path to the model is `models/EuroSatNet.h5`. See how its testing accuracy compares to your model!"
   ]
  },
  {
   "cell_type": "code",
   "execution_count": 28,
   "metadata": {},
   "outputs": [],
   "source": [
    "#### GRADED CELL ####\n",
    "\n",
    "# Complete the following functions. \n",
    "# Make sure to not change the function name or arguments.\n",
    "\n",
    "def get_model_eurosatnet():\n",
    "    \"\"\"\n",
    "    This function should return the pretrained EuroSatNet.h5 model.\n",
    "    \"\"\"\n",
    "    return load_model('models/EuroSatNet.h5')\n",
    "    "
   ]
  },
  {
   "cell_type": "code",
   "execution_count": 29,
   "metadata": {},
   "outputs": [
    {
     "name": "stdout",
     "output_type": "stream",
     "text": [
      "Model: \"sequential_21\"\n",
      "_________________________________________________________________\n",
      "Layer (type)                 Output Shape              Param #   \n",
      "=================================================================\n",
      "conv_1 (Conv2D)              (None, 64, 64, 16)        448       \n",
      "_________________________________________________________________\n",
      "conv_2 (Conv2D)              (None, 64, 64, 16)        6416      \n",
      "_________________________________________________________________\n",
      "pool_1 (MaxPooling2D)        (None, 32, 32, 16)        0         \n",
      "_________________________________________________________________\n",
      "conv_3 (Conv2D)              (None, 32, 32, 16)        2320      \n",
      "_________________________________________________________________\n",
      "conv_4 (Conv2D)              (None, 32, 32, 16)        6416      \n",
      "_________________________________________________________________\n",
      "pool_2 (MaxPooling2D)        (None, 16, 16, 16)        0         \n",
      "_________________________________________________________________\n",
      "conv_5 (Conv2D)              (None, 16, 16, 16)        2320      \n",
      "_________________________________________________________________\n",
      "conv_6 (Conv2D)              (None, 16, 16, 16)        6416      \n",
      "_________________________________________________________________\n",
      "pool_3 (MaxPooling2D)        (None, 8, 8, 16)          0         \n",
      "_________________________________________________________________\n",
      "conv_7 (Conv2D)              (None, 8, 8, 16)          2320      \n",
      "_________________________________________________________________\n",
      "conv_8 (Conv2D)              (None, 8, 8, 16)          6416      \n",
      "_________________________________________________________________\n",
      "pool_4 (MaxPooling2D)        (None, 4, 4, 16)          0         \n",
      "_________________________________________________________________\n",
      "flatten (Flatten)            (None, 256)               0         \n",
      "_________________________________________________________________\n",
      "dense_1 (Dense)              (None, 32)                8224      \n",
      "_________________________________________________________________\n",
      "dense_2 (Dense)              (None, 10)                330       \n",
      "=================================================================\n",
      "Total params: 41,626\n",
      "Trainable params: 41,626\n",
      "Non-trainable params: 0\n",
      "_________________________________________________________________\n",
      "accuracy: 0.810\n"
     ]
    }
   ],
   "source": [
    "# Run this cell to print a summary of the EuroSatNet model, along with its validation accuracy.\n",
    "\n",
    "model_eurosatnet = get_model_eurosatnet()\n",
    "model_eurosatnet.summary()\n",
    "get_test_accuracy(model_eurosatnet, x_test, y_test)"
   ]
  },
  {
   "cell_type": "markdown",
   "metadata": {},
   "source": [
    "Congratulations for completing this programming assignment! You're now ready to move on to the capstone project for this course."
   ]
  }
 ],
 "metadata": {
  "coursera": {
   "course_slug": "tensor-flow-2-1",
   "graded_item_id": "JaRY0",
   "launcher_item_id": "mJ8fg"
  },
  "kernelspec": {
   "display_name": "Python 3",
   "language": "python",
   "name": "python3"
  },
  "language_info": {
   "codemirror_mode": {
    "name": "ipython",
    "version": 3
   },
   "file_extension": ".py",
   "mimetype": "text/x-python",
   "name": "python",
   "nbconvert_exporter": "python",
   "pygments_lexer": "ipython3",
   "version": "3.7.1"
  }
 },
 "nbformat": 4,
 "nbformat_minor": 2
}
