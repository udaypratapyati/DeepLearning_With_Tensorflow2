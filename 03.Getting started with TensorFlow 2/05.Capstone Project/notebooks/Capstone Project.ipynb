{
 "cells": [
  {
   "cell_type": "markdown",
   "metadata": {
    "colab_type": "text",
    "id": "PXemY4sOrrHB"
   },
   "source": [
    "# Capstone Project\n",
    "## Image classifier for the SVHN dataset\n",
    "### Instructions\n",
    "\n",
    "In this notebook, you will create a neural network that classifies real-world images digits. You will use concepts from throughout this course in building, training, testing, validating and saving your Tensorflow classifier model.\n",
    "\n",
    "This project is peer-assessed. Within this notebook you will find instructions in each section for how to complete the project. Pay close attention to the instructions as the peer review will be carried out according to a grading rubric that checks key parts of the project instructions. Feel free to add extra cells into the notebook as required.\n",
    "\n",
    "### How to submit\n",
    "\n",
    "When you have completed the Capstone project notebook, you will submit a pdf of the notebook for peer review. First ensure that the notebook has been fully executed from beginning to end, and all of the cell outputs are visible. This is important, as the grading rubric depends on the reviewer being able to view the outputs of your notebook. Save the notebook as a pdf (File -> Download as -> PDF via LaTeX). You should then submit this pdf for review.\n",
    "\n",
    "### Let's get started!\n",
    "\n",
    "We'll start by running some imports, and loading the dataset. For this project you are free to make further imports throughout the notebook as you wish. "
   ]
  },
  {
   "cell_type": "code",
   "execution_count": 0,
   "metadata": {
    "colab": {},
    "colab_type": "code",
    "id": "V7QFT6d3rrHD"
   },
   "outputs": [],
   "source": [
    "import tensorflow as tf\n",
    "from scipy.io import loadmat"
   ]
  },
  {
   "cell_type": "markdown",
   "metadata": {
    "colab_type": "text",
    "id": "Haa_XxvurrHL"
   },
   "source": [
    "![SVHN overview image](data/svhn_examples.jpg)\n",
    "For the capstone project, you will use the [SVHN dataset](http://ufldl.stanford.edu/housenumbers/). This is an  image dataset of over 600,000 digit images in all, and is a harder dataset than MNIST as the numbers appear in the context of natural scene images. SVHN is obtained from house numbers in Google Street View images. \n",
    "\n",
    "* Y. Netzer, T. Wang, A. Coates, A. Bissacco, B. Wu and A. Y. Ng. \"Reading Digits in Natural Images with Unsupervised Feature Learning\". NIPS Workshop on Deep Learning and Unsupervised Feature Learning, 2011.\n",
    "\n",
    "Your goal is to develop an end-to-end workflow for building, training, validating, evaluating and saving a neural network that classifies a real-world image into one of ten classes."
   ]
  },
  {
   "cell_type": "code",
   "execution_count": 2,
   "metadata": {
    "colab": {
     "base_uri": "https://localhost:8080/",
     "height": 124
    },
    "colab_type": "code",
    "executionInfo": {
     "elapsed": 71207,
     "status": "ok",
     "timestamp": 1591370452703,
     "user": {
      "displayName": "Uday Pratap Yati",
      "photoUrl": "https://lh3.googleusercontent.com/a-/AOh14Gj471mFfPb74fTJaY831rOrH32GTTiGtD-sz0gmNw=s64",
      "userId": "07167909339760484251"
     },
     "user_tz": -330
    },
    "id": "nwqci41Ts088",
    "outputId": "86e00996-ecbb-4c92-afde-c711ca1e454e"
   },
   "outputs": [
    {
     "name": "stdout",
     "output_type": "stream",
     "text": [
      "Go to this URL in a browser: https://accounts.google.com/o/oauth2/auth?client_id=947318989803-6bn6qk8qdgf4n4g3pfee6491hc0brc4i.apps.googleusercontent.com&redirect_uri=urn%3aietf%3awg%3aoauth%3a2.0%3aoob&response_type=code&scope=email%20https%3a%2f%2fwww.googleapis.com%2fauth%2fdocs.test%20https%3a%2f%2fwww.googleapis.com%2fauth%2fdrive%20https%3a%2f%2fwww.googleapis.com%2fauth%2fdrive.photos.readonly%20https%3a%2f%2fwww.googleapis.com%2fauth%2fpeopleapi.readonly\n",
      "\n",
      "Enter your authorization code:\n",
      "··········\n",
      "Mounted at /content/drive\n"
     ]
    }
   ],
   "source": [
    "# from google.colab import drive\n",
    "# drive.mount('/content/drive')\n",
    "\n",
    "# import sys\n",
    "# import os\n",
    "# path='/content/drive/My Drive/INSAID/TensorFlow/Getting started with TensorFlow 2/Week5/notebooks'\n",
    "# sys.path.append(path)\n",
    "# os.chdir(path)"
   ]
  },
  {
   "cell_type": "code",
   "execution_count": 0,
   "metadata": {
    "colab": {},
    "colab_type": "code",
    "id": "auNZTh9OrrHM"
   },
   "outputs": [],
   "source": [
    "# Run this cell to load the dataset\n",
    "\n",
    "train = loadmat('data/train_32x32.mat')\n",
    "test = loadmat('data/test_32x32.mat')"
   ]
  },
  {
   "cell_type": "markdown",
   "metadata": {
    "colab_type": "text",
    "id": "popVB2zyrrHS"
   },
   "source": [
    "Both `train` and `test` are dictionaries with keys `X` and `y` for the input images and labels respectively."
   ]
  },
  {
   "cell_type": "code",
   "execution_count": 4,
   "metadata": {
    "colab": {
     "base_uri": "https://localhost:8080/",
     "height": 52
    },
    "colab_type": "code",
    "executionInfo": {
     "elapsed": 77252,
     "status": "ok",
     "timestamp": 1591370458818,
     "user": {
      "displayName": "Uday Pratap Yati",
      "photoUrl": "https://lh3.googleusercontent.com/a-/AOh14Gj471mFfPb74fTJaY831rOrH32GTTiGtD-sz0gmNw=s64",
      "userId": "07167909339760484251"
     },
     "user_tz": -330
    },
    "id": "uNyq5MhtrrHT",
    "outputId": "6fdf98fd-43ab-4a1e-a851-83466055e030"
   },
   "outputs": [
    {
     "name": "stdout",
     "output_type": "stream",
     "text": [
      "dict_keys(['__header__', '__version__', '__globals__', 'X', 'y'])\n",
      "dict_keys(['__header__', '__version__', '__globals__', 'X', 'y'])\n"
     ]
    }
   ],
   "source": [
    "# Let's see the keys in the dictionary\n",
    "\n",
    "print(train.keys())\n",
    "print(test.keys())"
   ]
  },
  {
   "cell_type": "markdown",
   "metadata": {
    "colab_type": "text",
    "id": "BIYhAGlprrHa"
   },
   "source": [
    "## 1. Inspect and preprocess the dataset\n",
    "* Extract the training and testing images and labels separately from the train and test dictionaries loaded for you.\n",
    "* Select a random sample of images and corresponding labels from the dataset (at least 10), and display them in a figure.\n",
    "* Convert the training and test images to grayscale by taking the average across all colour channels for each pixel. _Hint: retain the channel dimension, which will now have size 1._\n",
    "* Select a random sample of the grayscale images and corresponding labels from the dataset (at least 10), and display them in a figure."
   ]
  },
  {
   "cell_type": "markdown",
   "metadata": {
    "colab_type": "text",
    "id": "1nQnbwGWrrHc"
   },
   "source": [
    "### Extract the training and testing images and labels separately from the train and test dictionaries"
   ]
  },
  {
   "cell_type": "code",
   "execution_count": 5,
   "metadata": {
    "colab": {
     "base_uri": "https://localhost:8080/",
     "height": 52
    },
    "colab_type": "code",
    "executionInfo": {
     "elapsed": 77228,
     "status": "ok",
     "timestamp": 1591370458838,
     "user": {
      "displayName": "Uday Pratap Yati",
      "photoUrl": "https://lh3.googleusercontent.com/a-/AOh14Gj471mFfPb74fTJaY831rOrH32GTTiGtD-sz0gmNw=s64",
      "userId": "07167909339760484251"
     },
     "user_tz": -330
    },
    "id": "OEeG3CXErrHd",
    "outputId": "833e0b99-6443-440f-a3d8-b716438f1520"
   },
   "outputs": [
    {
     "name": "stdout",
     "output_type": "stream",
     "text": [
      "Train Data :  (32, 32, 3, 73257) (73257, 1)\n",
      "Test Data :  (32, 32, 3, 26032) (26032, 1)\n"
     ]
    }
   ],
   "source": [
    "# Extracting training and test images and corresponding labels\n",
    "\n",
    "train_images, train_labels = train['X'], train['y']\n",
    "test_images, test_labels = test['X'], test['y']\n",
    "\n",
    "print(\"Train Data : \",train_images.shape, train_labels.shape)\n",
    "print(\"Test Data : \",test_images.shape, test_labels.shape)"
   ]
  },
  {
   "cell_type": "markdown",
   "metadata": {
    "colab_type": "text",
    "id": "DPP1-H75rrHj"
   },
   "source": [
    "#### No. of samples is the 4th dimension, lets bring it back as the first dimesion (as usual)"
   ]
  },
  {
   "cell_type": "code",
   "execution_count": 6,
   "metadata": {
    "colab": {
     "base_uri": "https://localhost:8080/",
     "height": 52
    },
    "colab_type": "code",
    "executionInfo": {
     "elapsed": 77226,
     "status": "ok",
     "timestamp": 1591370458873,
     "user": {
      "displayName": "Uday Pratap Yati",
      "photoUrl": "https://lh3.googleusercontent.com/a-/AOh14Gj471mFfPb74fTJaY831rOrH32GTTiGtD-sz0gmNw=s64",
      "userId": "07167909339760484251"
     },
     "user_tz": -330
    },
    "id": "ETeDdFvLrrHk",
    "outputId": "b0b97737-da32-40fa-92be-c28e3b52ee7a"
   },
   "outputs": [
    {
     "name": "stdout",
     "output_type": "stream",
     "text": [
      "Train Data :  (73257, 32, 32, 3) (73257, 1)\n",
      "Test Data :  (26032, 32, 32, 3) (26032, 1)\n"
     ]
    }
   ],
   "source": [
    "train_images = train_images.transpose((3, 0, 1, 2))\n",
    "test_images = test_images.transpose((3, 0, 1, 2))\n",
    "print(\"Train Data : \",train_images.shape, train_labels.shape)\n",
    "print(\"Test Data : \",test_images.shape, test_labels.shape)"
   ]
  },
  {
   "cell_type": "code",
   "execution_count": 0,
   "metadata": {
    "colab": {},
    "colab_type": "code",
    "id": "gg66qzhArrHp"
   },
   "outputs": [],
   "source": [
    "import matplotlib.pyplot as plt\n",
    "import numpy as np\n",
    "import pandas as pd"
   ]
  },
  {
   "cell_type": "code",
   "execution_count": 0,
   "metadata": {
    "colab": {},
    "colab_type": "code",
    "id": "pk3XNrbFrrHw"
   },
   "outputs": [],
   "source": [
    "# Plot a random sample of images (alteast 10)\n",
    "\n",
    "def plot_images(image, labels, row=1, col=10):\n",
    "    '''\n",
    "    Plot a random row * col images.\n",
    "    '''\n",
    "    fig, ax = plt.subplots(row, col)\n",
    "    \n",
    "    indexes = np.random.randint(1, image.shape[0], row*col)\n",
    "    \n",
    "    x=0;\n",
    "    for i, ax in enumerate(ax.flat):\n",
    "        img_index = indexes[i]\n",
    "        \n",
    "        if image[img_index].shape == (32,32,3):\n",
    "            ax.imshow(image[img_index])\n",
    "            ax.set_title(labels[img_index][0])\n",
    "        else:\n",
    "            ax.imshow(image[img_index, :, :, 0])\n",
    "            ax.set_title(np.argmax(labels[img_index]))\n",
    "            \n",
    "        ax.set_xticks([]); ax.set_yticks([])\n",
    "        \n",
    "#         plt.tight_layout()"
   ]
  },
  {
   "cell_type": "markdown",
   "metadata": {
    "colab_type": "text",
    "id": "aTUF3BuprrH1"
   },
   "source": [
    "### Select a random sample of images and corresponding labels from the dataset (at least 10)"
   ]
  },
  {
   "cell_type": "code",
   "execution_count": 9,
   "metadata": {
    "colab": {
     "base_uri": "https://localhost:8080/",
     "height": 79
    },
    "colab_type": "code",
    "executionInfo": {
     "elapsed": 77217,
     "status": "ok",
     "timestamp": 1591370458933,
     "user": {
      "displayName": "Uday Pratap Yati",
      "photoUrl": "https://lh3.googleusercontent.com/a-/AOh14Gj471mFfPb74fTJaY831rOrH32GTTiGtD-sz0gmNw=s64",
      "userId": "07167909339760484251"
     },
     "user_tz": -330
    },
    "id": "cJxrK_hRrrH2",
    "outputId": "dbc2ccc6-939b-4fee-d033-aca8488a8f9a"
   },
   "outputs": [
    {
     "data": {
      "image/png": "[encoded data removed]",
      "text/plain": [
       "<Figure size 432x288 with 10 Axes>"
      ]
     },
     "metadata": {
      "tags": []
     },
     "output_type": "display_data"
    }
   ],
   "source": [
    "# Plot 10 train images\n",
    "\n",
    "plot_images(train_images, train_labels)"
   ]
  },
  {
   "cell_type": "code",
   "execution_count": 10,
   "metadata": {
    "colab": {
     "base_uri": "https://localhost:8080/",
     "height": 79
    },
    "colab_type": "code",
    "executionInfo": {
     "elapsed": 77197,
     "status": "ok",
     "timestamp": 1591370458951,
     "user": {
      "displayName": "Uday Pratap Yati",
      "photoUrl": "https://lh3.googleusercontent.com/a-/AOh14Gj471mFfPb74fTJaY831rOrH32GTTiGtD-sz0gmNw=s64",
      "userId": "07167909339760484251"
     },
     "user_tz": -330
    },
    "id": "qfK02vlgrrH8",
    "outputId": "52041eb7-3121-4cab-9881-3d6c144c62e8"
   },
   "outputs": [
    {
     "data": {
      "image/png": "[encoded data removed]",
      "text/plain": [
       "<Figure size 432x288 with 10 Axes>"
      ]
     },
     "metadata": {
      "tags": []
     },
     "output_type": "display_data"
    }
   ],
   "source": [
    "# Plot 10 test images\n",
    "\n",
    "plot_images(test_images, test_labels)"
   ]
  },
  {
   "cell_type": "code",
   "execution_count": 11,
   "metadata": {
    "colab": {
     "base_uri": "https://localhost:8080/",
     "height": 52
    },
    "colab_type": "code",
    "executionInfo": {
     "elapsed": 77189,
     "status": "ok",
     "timestamp": 1591370458967,
     "user": {
      "displayName": "Uday Pratap Yati",
      "photoUrl": "https://lh3.googleusercontent.com/a-/AOh14Gj471mFfPb74fTJaY831rOrH32GTTiGtD-sz0gmNw=s64",
      "userId": "07167909339760484251"
     },
     "user_tz": -330
    },
    "id": "ie1UOGnZrrIB",
    "outputId": "37dba7c0-5caf-445b-8f93-6bf42cb5b98c"
   },
   "outputs": [
    {
     "name": "stdout",
     "output_type": "stream",
     "text": [
      "Train : [ 1  2  3  4  5  6  7  8  9 10]\n",
      "Test : [ 1  2  3  4  5  6  7  8  9 10]\n"
     ]
    }
   ],
   "source": [
    "# Lets check how may unique numbers in output\n",
    "\n",
    "print('Train :',np.unique(train_labels))\n",
    "print('Test :',np.unique(test_labels))"
   ]
  },
  {
   "cell_type": "code",
   "execution_count": 12,
   "metadata": {
    "colab": {
     "base_uri": "https://localhost:8080/",
     "height": 323
    },
    "colab_type": "code",
    "executionInfo": {
     "elapsed": 78069,
     "status": "ok",
     "timestamp": 1591370459869,
     "user": {
      "displayName": "Uday Pratap Yati",
      "photoUrl": "https://lh3.googleusercontent.com/a-/AOh14Gj471mFfPb74fTJaY831rOrH32GTTiGtD-sz0gmNw=s64",
      "userId": "07167909339760484251"
     },
     "user_tz": -330
    },
    "id": "BIw7oKqprrIG",
    "outputId": "6e8b2789-b1d5-4a03-81f3-6bf8126f66d2"
   },
   "outputs": [
    {
     "data": {
      "image/png": "[encoded data removed]",
      "text/plain": [
       "<Figure size 432x288 with 2 Axes>"
      ]
     },
     "metadata": {
      "needs_background": "light",
      "tags": []
     },
     "output_type": "display_data"
    }
   ],
   "source": [
    "# Let see the distribution of the labels/classes\n",
    "def plot_class_distribution(ytrain, ytest):\n",
    "    fig, (ax1, ax2) = plt.subplots(1, 2, sharex=True)\n",
    "    fig.suptitle('Class Distribution', fontsize=14, fontweight='bold', y=1.05)\n",
    "\n",
    "    ax1.hist(ytrain, bins=10, color='r')\n",
    "    ax1.set_title(\"Training set\")\n",
    "    ax1.set_xlim(0, 10)\n",
    "\n",
    "    ax2.hist(ytest, bins=10, color='g')\n",
    "    ax2.set_title(\"Test set\")\n",
    "\n",
    "    fig.tight_layout()\n",
    "    \n",
    "plot_class_distribution(train_labels, test_labels)    "
   ]
  },
  {
   "cell_type": "markdown",
   "metadata": {
    "colab_type": "text",
    "id": "4It2qQ6crrIL"
   },
   "source": [
    "#### Both the plots show right skewness, which means we have high number of images for lower values when compared to high values"
   ]
  },
  {
   "cell_type": "code",
   "execution_count": 0,
   "metadata": {
    "colab": {},
    "colab_type": "code",
    "id": "-lDzz-yKrrIM"
   },
   "outputs": [],
   "source": [
    "# For simpicity of programming, lets convert the class 10 as class 0\n",
    "test_labels[test_labels == 10] = 0\n",
    "train_labels[train_labels == 10] = 0"
   ]
  },
  {
   "cell_type": "code",
   "execution_count": 14,
   "metadata": {
    "colab": {
     "base_uri": "https://localhost:8080/",
     "height": 323
    },
    "colab_type": "code",
    "executionInfo": {
     "elapsed": 78056,
     "status": "ok",
     "timestamp": 1591370459896,
     "user": {
      "displayName": "Uday Pratap Yati",
      "photoUrl": "https://lh3.googleusercontent.com/a-/AOh14Gj471mFfPb74fTJaY831rOrH32GTTiGtD-sz0gmNw=s64",
      "userId": "07167909339760484251"
     },
     "user_tz": -330
    },
    "id": "VUG-7eobrrIS",
    "outputId": "d67617ce-c935-40d1-fed8-9b65ad8f3f2a"
   },
   "outputs": [
    {
     "data": {
      "image/png": "[encoded data removed]",
      "text/plain": [
       "<Figure size 432x288 with 2 Axes>"
      ]
     },
     "metadata": {
      "needs_background": "light",
      "tags": []
     },
     "output_type": "display_data"
    }
   ],
   "source": [
    "plot_class_distribution(train_labels, test_labels)"
   ]
  },
  {
   "cell_type": "markdown",
   "metadata": {
    "colab_type": "text",
    "id": "sS4313kyrrIX"
   },
   "source": [
    "### Convert the training and test images to grayscale by taking the average across all colour channels for each pixel"
   ]
  },
  {
   "cell_type": "code",
   "execution_count": 0,
   "metadata": {
    "colab": {},
    "colab_type": "code",
    "id": "NmrL-RihrrIY"
   },
   "outputs": [],
   "source": [
    "# Convert the training and test images to grayscale by taking the average across all colour channels for each pixel\n",
    "\n",
    "def rgb2grayscale(images):\n",
    "    return np.expand_dims(np.dot(images, [0.2990, 0.5870, 0.1140]), axis=images.ndim-1)"
   ]
  },
  {
   "cell_type": "code",
   "execution_count": 16,
   "metadata": {
    "colab": {
     "base_uri": "https://localhost:8080/",
     "height": 52
    },
    "colab_type": "code",
    "executionInfo": {
     "elapsed": 82017,
     "status": "ok",
     "timestamp": 1591370463906,
     "user": {
      "displayName": "Uday Pratap Yati",
      "photoUrl": "https://lh3.googleusercontent.com/a-/AOh14Gj471mFfPb74fTJaY831rOrH32GTTiGtD-sz0gmNw=s64",
      "userId": "07167909339760484251"
     },
     "user_tz": -330
    },
    "id": "2m9rStTkrrId",
    "outputId": "d33d3902-c8d7-4616-aa92-a31510ce7456"
   },
   "outputs": [
    {
     "name": "stdout",
     "output_type": "stream",
     "text": [
      "Train (grayscale) : (73257, 32, 32, 1)\n",
      "Test (grayscale) : (26032, 32, 32, 1)\n"
     ]
    }
   ],
   "source": [
    "train_images_grayscale = rgb2grayscale(train_images)\n",
    "test_images_grayscale = rgb2grayscale(test_images)\n",
    "\n",
    "print(\"Train (grayscale) :\", train_images_grayscale.shape)\n",
    "print(\"Test (grayscale) :\", test_images_grayscale.shape)"
   ]
  },
  {
   "cell_type": "markdown",
   "metadata": {
    "colab_type": "text",
    "id": "vzOSPZhJrrIi"
   },
   "source": [
    "### Select a random sample of the grayscale images and corresponding labels from the dataset (at least 10)"
   ]
  },
  {
   "cell_type": "code",
   "execution_count": 17,
   "metadata": {
    "colab": {
     "base_uri": "https://localhost:8080/",
     "height": 79
    },
    "colab_type": "code",
    "executionInfo": {
     "elapsed": 82032,
     "status": "ok",
     "timestamp": 1591370463948,
     "user": {
      "displayName": "Uday Pratap Yati",
      "photoUrl": "https://lh3.googleusercontent.com/a-/AOh14Gj471mFfPb74fTJaY831rOrH32GTTiGtD-sz0gmNw=s64",
      "userId": "07167909339760484251"
     },
     "user_tz": -330
    },
    "id": "M6cPxDERrrIk",
    "outputId": "b47b206a-a01b-4fdc-92ea-c29e8941fa2f"
   },
   "outputs": [
    {
     "data": {
      "image/png": "[encoded data removed]",
      "text/plain": [
       "<Figure size 432x288 with 10 Axes>"
      ]
     },
     "metadata": {
      "tags": []
     },
     "output_type": "display_data"
    }
   ],
   "source": [
    "# Lets plot the gray scaled images\n",
    "\n",
    "plot_images(train_images_grayscale, train_labels)"
   ]
  },
  {
   "cell_type": "code",
   "execution_count": 18,
   "metadata": {
    "colab": {
     "base_uri": "https://localhost:8080/",
     "height": 79
    },
    "colab_type": "code",
    "executionInfo": {
     "elapsed": 82026,
     "status": "ok",
     "timestamp": 1591370463965,
     "user": {
      "displayName": "Uday Pratap Yati",
      "photoUrl": "https://lh3.googleusercontent.com/a-/AOh14Gj471mFfPb74fTJaY831rOrH32GTTiGtD-sz0gmNw=s64",
      "userId": "07167909339760484251"
     },
     "user_tz": -330
    },
    "id": "ZRgJti7drrIp",
    "outputId": "9c64f35a-383f-4ba7-993f-b62163e47fe5"
   },
   "outputs": [
    {
     "data": {
      "image/png": "[encoded data removed]",
      "text/plain": [
       "<Figure size 432x288 with 10 Axes>"
      ]
     },
     "metadata": {
      "tags": []
     },
     "output_type": "display_data"
    }
   ],
   "source": [
    "plot_images(test_images_grayscale, test_labels)"
   ]
  },
  {
   "cell_type": "markdown",
   "metadata": {
    "colab_type": "text",
    "id": "pXpakgPErrIu"
   },
   "source": [
    "### Data Normalization"
   ]
  },
  {
   "cell_type": "code",
   "execution_count": 0,
   "metadata": {
    "colab": {},
    "colab_type": "code",
    "id": "vBOsJ_ugrrIv"
   },
   "outputs": [],
   "source": [
    "# Lets normalize the data-set\n",
    "\n",
    "# Mean and Std.Dev values\n",
    "train_mean = np.mean(train_images_grayscale, axis=0)\n",
    "train_std = np.std(train_images_grayscale, axis=0)\n",
    "\n",
    "# Subt. mean and div. by std. dev\n",
    "train_images_norm = (train_images_grayscale - train_mean) / train_std\n",
    "test_images_norm = (test_images_grayscale - train_mean) / train_std"
   ]
  },
  {
   "cell_type": "code",
   "execution_count": 20,
   "metadata": {
    "colab": {
     "base_uri": "https://localhost:8080/",
     "height": 79
    },
    "colab_type": "code",
    "executionInfo": {
     "elapsed": 82753,
     "status": "ok",
     "timestamp": 1591370464728,
     "user": {
      "displayName": "Uday Pratap Yati",
      "photoUrl": "https://lh3.googleusercontent.com/a-/AOh14Gj471mFfPb74fTJaY831rOrH32GTTiGtD-sz0gmNw=s64",
      "userId": "07167909339760484251"
     },
     "user_tz": -330
    },
    "id": "KN7gh-JirrI0",
    "outputId": "c7f4312c-30b1-4669-bd93-386d32115fa9"
   },
   "outputs": [
    {
     "data": {
      "image/png": "[encoded data removed]",
      "text/plain": [
       "<Figure size 432x288 with 10 Axes>"
      ]
     },
     "metadata": {
      "tags": []
     },
     "output_type": "display_data"
    }
   ],
   "source": [
    "# Lets plot the gray scaled normalized images\n",
    "\n",
    "plot_images(train_images_norm, train_labels)"
   ]
  },
  {
   "cell_type": "code",
   "execution_count": 21,
   "metadata": {
    "colab": {
     "base_uri": "https://localhost:8080/",
     "height": 79
    },
    "colab_type": "code",
    "executionInfo": {
     "elapsed": 82747,
     "status": "ok",
     "timestamp": 1591370464748,
     "user": {
      "displayName": "Uday Pratap Yati",
      "photoUrl": "https://lh3.googleusercontent.com/a-/AOh14Gj471mFfPb74fTJaY831rOrH32GTTiGtD-sz0gmNw=s64",
      "userId": "07167909339760484251"
     },
     "user_tz": -330
    },
    "id": "YJYrjjRZrrI5",
    "outputId": "bac9caf7-3db7-42db-b7b2-a319b392c255"
   },
   "outputs": [
    {
     "data": {
      "image/png": "[encoded data removed]",
      "text/plain": [
       "<Figure size 432x288 with 10 Axes>"
      ]
     },
     "metadata": {
      "tags": []
     },
     "output_type": "display_data"
    }
   ],
   "source": [
    "plot_images(test_images_norm, test_labels)"
   ]
  },
  {
   "cell_type": "markdown",
   "metadata": {
    "colab_type": "text",
    "id": "rypNCJK8rrI-"
   },
   "source": [
    "### Now, lets split the train images into train set and validation set"
   ]
  },
  {
   "cell_type": "code",
   "execution_count": 0,
   "metadata": {
    "colab": {},
    "colab_type": "code",
    "id": "SYz5pldKrrI_"
   },
   "outputs": [],
   "source": [
    "# Splitting the Training data into Train and Validation sets.\n",
    "# 13% of train set gives around 9500 data having min. of 800 instances of each class\n",
    "# Using random state to regenrate the whole Dataset in re-run\n",
    "\n",
    "from sklearn.model_selection import train_test_split\n",
    "\n",
    "xtrain, xval, ytrain, yval = train_test_split(train_images_norm, train_labels, test_size=.13, random_state=42)\n",
    "xtest = test_images_norm # for same naming convention\n",
    "ytest = test_labels"
   ]
  },
  {
   "cell_type": "markdown",
   "metadata": {
    "colab_type": "text",
    "id": "2nVpfjDCrrJD"
   },
   "source": [
    "### One-Hot encoding target variable"
   ]
  },
  {
   "cell_type": "code",
   "execution_count": 0,
   "metadata": {
    "colab": {},
    "colab_type": "code",
    "id": "Je40mS6srrJE"
   },
   "outputs": [],
   "source": [
    "# For model prediction purpose, lets one-hot encode the target varialble.\n",
    "# Apply One Hot Encoding to make label suitable for CNN Classification\n",
    "\n",
    "from sklearn.preprocessing import OneHotEncoder\n",
    "\n",
    "ohe = OneHotEncoder().fit(ytrain.reshape(-1,1))\n",
    "\n",
    "y_train = ohe.transform(ytrain.reshape(-1,1)).toarray()\n",
    "y_val = ohe.transform(yval.reshape(-1,1)).toarray()\n",
    "y_test = ohe.transform(ytest.reshape(-1,1)).toarray() "
   ]
  },
  {
   "cell_type": "code",
   "execution_count": 24,
   "metadata": {
    "colab": {
     "base_uri": "https://localhost:8080/",
     "height": 35
    },
    "colab_type": "code",
    "executionInfo": {
     "elapsed": 83507,
     "status": "ok",
     "timestamp": 1591370465550,
     "user": {
      "displayName": "Uday Pratap Yati",
      "photoUrl": "https://lh3.googleusercontent.com/a-/AOh14Gj471mFfPb74fTJaY831rOrH32GTTiGtD-sz0gmNw=s64",
      "userId": "07167909339760484251"
     },
     "user_tz": -330
    },
    "id": "h628ljrKrrJJ",
    "outputId": "6c8e8381-9330-4235-c5a0-2f5ce4578191"
   },
   "outputs": [
    {
     "data": {
      "text/plain": [
       "array([[0., 1., 0., 0., 0., 0., 0., 0., 0., 0.]])"
      ]
     },
     "execution_count": 24,
     "metadata": {
      "tags": []
     },
     "output_type": "execute_result"
    }
   ],
   "source": [
    "# ytrain.reshape(-1,1)\n",
    "ohe.transform(ytrain[0].reshape(-1,1)).toarray()"
   ]
  },
  {
   "cell_type": "code",
   "execution_count": 25,
   "metadata": {
    "colab": {
     "base_uri": "https://localhost:8080/",
     "height": 69
    },
    "colab_type": "code",
    "executionInfo": {
     "elapsed": 83491,
     "status": "ok",
     "timestamp": 1591370465558,
     "user": {
      "displayName": "Uday Pratap Yati",
      "photoUrl": "https://lh3.googleusercontent.com/a-/AOh14Gj471mFfPb74fTJaY831rOrH32GTTiGtD-sz0gmNw=s64",
      "userId": "07167909339760484251"
     },
     "user_tz": -330
    },
    "id": "BWsr_i_krrJS",
    "outputId": "f6bff70a-cd9c-4cf3-e58c-c7f58e379528"
   },
   "outputs": [
    {
     "name": "stdout",
     "output_type": "stream",
     "text": [
      "y_train : (63733, 10)\n",
      "y_val : (9524, 10)\n",
      "y_test : (26032, 10)\n"
     ]
    }
   ],
   "source": [
    "print('y_train :', y_train.shape)\n",
    "print('y_val :', y_val.shape)\n",
    "print('y_test :', y_test.shape)"
   ]
  },
  {
   "cell_type": "markdown",
   "metadata": {
    "colab_type": "text",
    "id": "ocB1kv0ErrJX"
   },
   "source": [
    "### Store the processed data to disk."
   ]
  },
  {
   "cell_type": "code",
   "execution_count": 0,
   "metadata": {
    "colab": {},
    "colab_type": "code",
    "id": "7xD28ZOzrrJY"
   },
   "outputs": [],
   "source": [
    "# Storing only the Grayscale Data not the RGB\n",
    "\n",
    "import h5py\n",
    "\n",
    "# Create file\n",
    "h5f = h5py.File('SVHN_grey.h5', 'w')\n",
    "\n",
    "# Store the datasets\n",
    "h5f.create_dataset('X_train', data=xtrain)\n",
    "h5f.create_dataset('y_train', data=y_train)\n",
    "h5f.create_dataset('X_test', data=xtest)\n",
    "h5f.create_dataset('y_test', data=y_test)\n",
    "h5f.create_dataset('X_val', data=xval)\n",
    "h5f.create_dataset('y_val', data=y_val)\n",
    "\n",
    "# Close the file\n",
    "h5f.close()"
   ]
  },
  {
   "cell_type": "markdown",
   "metadata": {
    "colab_type": "text",
    "id": "gZp7kYqerrJc"
   },
   "source": [
    "### Free-up RAM memory"
   ]
  },
  {
   "cell_type": "code",
   "execution_count": 0,
   "metadata": {
    "colab": {},
    "colab_type": "code",
    "id": "GnBEQ7VdrrJd"
   },
   "outputs": [],
   "source": [
    "# Lets delete all the data loaded into memory to free up some RAM mem.\n",
    "\n",
    "del y_train, y_val, y_test, xtrain, xtest, xval, ytrain, ytest, yval, train_images_norm, test_images_norm, \\\n",
    "train_images_grayscale, test_images_grayscale, train_images, test_images, train_labels, test_labels, train, test"
   ]
  },
  {
   "cell_type": "markdown",
   "metadata": {
    "colab_type": "text",
    "id": "vQqbNm_nrrJh"
   },
   "source": [
    "## 2. MLP neural network classifier\n",
    "* Build an MLP classifier model using the Sequential API. Your model should use only Flatten and Dense layers, with the final layer having a 10-way softmax output. \n",
    "* You should design and build the model yourself. Feel free to experiment with different MLP architectures. _Hint: to achieve a reasonable accuracy you won't need to use more than 4 or 5 layers._\n",
    "* Print out the model summary (using the summary() method)\n",
    "* Compile and train the model (we recommend a maximum of 30 epochs), making use of both training and validation sets during the training run. \n",
    "* Your model should track at least one appropriate metric, and use at least two callbacks during training, one of which should be a ModelCheckpoint callback.\n",
    "* As a guide, you should aim to achieve a final categorical cross entropy training loss of less than 1.0 (the validation loss might be higher).\n",
    "* Plot the learning curves for loss vs epoch and accuracy vs epoch for both training and validation sets.\n",
    "* Compute and display the loss and accuracy of the trained model on the test set."
   ]
  },
  {
   "cell_type": "code",
   "execution_count": 28,
   "metadata": {
    "colab": {
     "base_uri": "https://localhost:8080/",
     "height": 69
    },
    "colab_type": "code",
    "executionInfo": {
     "elapsed": 93176,
     "status": "ok",
     "timestamp": 1591370475295,
     "user": {
      "displayName": "Uday Pratap Yati",
      "photoUrl": "https://lh3.googleusercontent.com/a-/AOh14Gj471mFfPb74fTJaY831rOrH32GTTiGtD-sz0gmNw=s64",
      "userId": "07167909339760484251"
     },
     "user_tz": -330
    },
    "id": "lPdaQ9XarrJi",
    "outputId": "15d12965-b5b5-46e9-ba85-debefc734c51"
   },
   "outputs": [
    {
     "name": "stdout",
     "output_type": "stream",
     "text": [
      "Training set (63733, 32, 32, 1) (63733, 10)\n",
      "Validation set (9524, 32, 32, 1) (9524, 10)\n",
      "Test set (26032, 32, 32, 1) (26032, 10)\n"
     ]
    }
   ],
   "source": [
    "# Open file in read mode\n",
    "import h5py\n",
    "h5f = h5py.File('SVHN_grey.h5', 'r')\n",
    "\n",
    "# Read the dataset into local variables\n",
    "x_train = h5f['X_train'][:]\n",
    "y_train = h5f['y_train'][:]\n",
    "x_test = h5f['X_test'][:]\n",
    "y_test = h5f['y_test'][:]\n",
    "x_val = h5f['X_val'][:]\n",
    "y_val = h5f['y_val'][:]\n",
    "\n",
    "# Close file\n",
    "h5f.close()\n",
    "\n",
    "print('Training set', x_train.shape, y_train.shape)\n",
    "print('Validation set', x_val.shape, y_val.shape)\n",
    "print('Test set', x_test.shape, y_test.shape)"
   ]
  },
  {
   "cell_type": "code",
   "execution_count": 29,
   "metadata": {
    "colab": {
     "base_uri": "https://localhost:8080/",
     "height": 283
    },
    "colab_type": "code",
    "executionInfo": {
     "elapsed": 93748,
     "status": "ok",
     "timestamp": 1591370475897,
     "user": {
      "displayName": "Uday Pratap Yati",
      "photoUrl": "https://lh3.googleusercontent.com/a-/AOh14Gj471mFfPb74fTJaY831rOrH32GTTiGtD-sz0gmNw=s64",
      "userId": "07167909339760484251"
     },
     "user_tz": -330
    },
    "id": "FDR0hZujrrJq",
    "outputId": "62db2c45-874d-45f8-f262-d518e1ef5e9d"
   },
   "outputs": [
    {
     "name": "stdout",
     "output_type": "stream",
     "text": [
      "label: 1\n"
     ]
    },
    {
     "data": {
      "image/png": "[encoded data removed]",
      "text/plain": [
       "<Figure size 432x288 with 1 Axes>"
      ]
     },
     "metadata": {
      "needs_background": "light",
      "tags": []
     },
     "output_type": "display_data"
    }
   ],
   "source": [
    "# Display one of the images\n",
    "\n",
    "i = 0\n",
    "labels = np.argmax(y_train[i])\n",
    "img = x_train[i,:,:,0]\n",
    "plt.imshow(img)\n",
    "# plt.show()\n",
    "print(f\"label: {labels}\")"
   ]
  },
  {
   "cell_type": "code",
   "execution_count": 30,
   "metadata": {
    "colab": {
     "base_uri": "https://localhost:8080/",
     "height": 79
    },
    "colab_type": "code",
    "executionInfo": {
     "elapsed": 93719,
     "status": "ok",
     "timestamp": 1591370475904,
     "user": {
      "displayName": "Uday Pratap Yati",
      "photoUrl": "https://lh3.googleusercontent.com/a-/AOh14Gj471mFfPb74fTJaY831rOrH32GTTiGtD-sz0gmNw=s64",
      "userId": "07167909339760484251"
     },
     "user_tz": -330
    },
    "id": "qq1VrM0JrrJu",
    "outputId": "8ddbafad-3ac1-43d2-aa0a-119493f394e5"
   },
   "outputs": [
    {
     "data": {
      "image/png": "[encoded data removed]",
      "text/plain": [
       "<Figure size 432x288 with 10 Axes>"
      ]
     },
     "metadata": {
      "tags": []
     },
     "output_type": "display_data"
    }
   ],
   "source": [
    "plot_images(x_train, y_train)"
   ]
  },
  {
   "cell_type": "code",
   "execution_count": 31,
   "metadata": {
    "colab": {
     "base_uri": "https://localhost:8080/",
     "height": 79
    },
    "colab_type": "code",
    "executionInfo": {
     "elapsed": 94602,
     "status": "ok",
     "timestamp": 1591370476827,
     "user": {
      "displayName": "Uday Pratap Yati",
      "photoUrl": "https://lh3.googleusercontent.com/a-/AOh14Gj471mFfPb74fTJaY831rOrH32GTTiGtD-sz0gmNw=s64",
      "userId": "07167909339760484251"
     },
     "user_tz": -330
    },
    "id": "s2UIaeXPrrJy",
    "outputId": "5b835f2a-4ab6-42bb-df6e-c1f1f06cb83e"
   },
   "outputs": [
    {
     "data": {
      "image/png": "[encoded data removed]",
      "text/plain": [
       "<Figure size 432x288 with 10 Axes>"
      ]
     },
     "metadata": {
      "tags": []
     },
     "output_type": "display_data"
    }
   ],
   "source": [
    "plot_images(x_test, y_test)"
   ]
  },
  {
   "cell_type": "code",
   "execution_count": 32,
   "metadata": {
    "colab": {
     "base_uri": "https://localhost:8080/",
     "height": 79
    },
    "colab_type": "code",
    "executionInfo": {
     "elapsed": 94570,
     "status": "ok",
     "timestamp": 1591370476836,
     "user": {
      "displayName": "Uday Pratap Yati",
      "photoUrl": "https://lh3.googleusercontent.com/a-/AOh14Gj471mFfPb74fTJaY831rOrH32GTTiGtD-sz0gmNw=s64",
      "userId": "07167909339760484251"
     },
     "user_tz": -330
    },
    "id": "ufDONISVrrJ1",
    "outputId": "0aa85696-7865-4c11-8e8a-f6bd99001ef7"
   },
   "outputs": [
    {
     "data": {
      "image/png": "[encoded data removed]",
      "text/plain": [
       "<Figure size 432x288 with 10 Axes>"
      ]
     },
     "metadata": {
      "tags": []
     },
     "output_type": "display_data"
    }
   ],
   "source": [
    "plot_images(x_val, y_val)"
   ]
  },
  {
   "cell_type": "code",
   "execution_count": 0,
   "metadata": {
    "colab": {},
    "colab_type": "code",
    "id": "vrbuUCcZrrKB"
   },
   "outputs": [],
   "source": [
    "# import lib\n",
    "from tensorflow.keras.models import Sequential\n",
    "from tensorflow.keras.layers import Flatten, Dense\n",
    "from tensorflow.keras.callbacks import Callback, ModelCheckpoint, EarlyStopping\n",
    "from tensorflow.keras.optimizers import Adam"
   ]
  },
  {
   "cell_type": "markdown",
   "metadata": {
    "colab_type": "text",
    "id": "D3OAdVqQrrKJ"
   },
   "source": [
    "### Build and compile the model"
   ]
  },
  {
   "cell_type": "code",
   "execution_count": 0,
   "metadata": {
    "colab": {},
    "colab_type": "code",
    "id": "CATLEVa6rrKL"
   },
   "outputs": [],
   "source": [
    "# Build an MLP classifier model using the Sequential API.\n",
    "# Model should use only Flatten and Dense layers, with the final layer having a 10-way softmax output\n",
    "\n",
    "def getModel(input_shape):\n",
    "    model = Sequential([\n",
    "        Flatten(input_shape=input_shape, name='Flatten'),\n",
    "        Dense(128, activation='relu', name='Dense_1'),\n",
    "        Dense(128, activation='relu', name='Dense_2'),\n",
    "        Dense(128, activation='relu', name='Dense_3'),\n",
    "        Dense(128, activation='relu', name='Dense_4'),\n",
    "        Dense(128, activation='relu', name='Dense_5'),\n",
    "        Dense(10, activation='softmax', name='Dense_6')\n",
    "    ])\n",
    "    \n",
    "    model.compile(optimizer=Adam(learning_rate=0.0001), loss='categorical_crossentropy', metrics=['accuracy'])\n",
    "    return model\n"
   ]
  },
  {
   "cell_type": "markdown",
   "metadata": {
    "colab_type": "text",
    "id": "FRcNjv2ArrKT"
   },
   "source": [
    "### Print out the model summary"
   ]
  },
  {
   "cell_type": "code",
   "execution_count": 35,
   "metadata": {
    "colab": {
     "base_uri": "https://localhost:8080/",
     "height": 416
    },
    "colab_type": "code",
    "executionInfo": {
     "elapsed": 107034,
     "status": "ok",
     "timestamp": 1591370489399,
     "user": {
      "displayName": "Uday Pratap Yati",
      "photoUrl": "https://lh3.googleusercontent.com/a-/AOh14Gj471mFfPb74fTJaY831rOrH32GTTiGtD-sz0gmNw=s64",
      "userId": "07167909339760484251"
     },
     "user_tz": -330
    },
    "id": "Sf6ApncBrrKU",
    "outputId": "763c819e-4fb2-4b1c-9cbb-dc4f31d1700c"
   },
   "outputs": [
    {
     "name": "stdout",
     "output_type": "stream",
     "text": [
      "(32, 32, 1)\n",
      "Model: \"sequential\"\n",
      "_________________________________________________________________\n",
      "Layer (type)                 Output Shape              Param #   \n",
      "=================================================================\n",
      "Flatten (Flatten)            (None, 1024)              0         \n",
      "_________________________________________________________________\n",
      "Dense_1 (Dense)              (None, 128)               131200    \n",
      "_________________________________________________________________\n",
      "Dense_2 (Dense)              (None, 128)               16512     \n",
      "_________________________________________________________________\n",
      "Dense_3 (Dense)              (None, 128)               16512     \n",
      "_________________________________________________________________\n",
      "Dense_4 (Dense)              (None, 128)               16512     \n",
      "_________________________________________________________________\n",
      "Dense_5 (Dense)              (None, 128)               16512     \n",
      "_________________________________________________________________\n",
      "Dense_6 (Dense)              (None, 10)                1290      \n",
      "=================================================================\n",
      "Total params: 198,538\n",
      "Trainable params: 198,538\n",
      "Non-trainable params: 0\n",
      "_________________________________________________________________\n"
     ]
    }
   ],
   "source": [
    "print(x_train[0].shape)\n",
    "model = getModel(x_train[0].shape)\n",
    "model.summary()"
   ]
  },
  {
   "cell_type": "code",
   "execution_count": 36,
   "metadata": {
    "colab": {
     "base_uri": "https://localhost:8080/",
     "height": 87
    },
    "colab_type": "code",
    "executionInfo": {
     "elapsed": 107007,
     "status": "ok",
     "timestamp": 1591370489409,
     "user": {
      "displayName": "Uday Pratap Yati",
      "photoUrl": "https://lh3.googleusercontent.com/a-/AOh14Gj471mFfPb74fTJaY831rOrH32GTTiGtD-sz0gmNw=s64",
      "userId": "07167909339760484251"
     },
     "user_tz": -330
    },
    "id": "RiBEG5lmrrKa",
    "outputId": "157602da-3f18-401c-8472-4ee10647f645"
   },
   "outputs": [
    {
     "name": "stdout",
     "output_type": "stream",
     "text": [
      "Loss :categorical_crossentropy\n",
      "Learning Rate :<tf.Variable 'learning_rate:0' shape=() dtype=float32, numpy=1e-04>, \n",
      "Optimizer: <tensorflow.python.keras.optimizer_v2.adam.Adam object at 0x7fdabdf94d30>\n",
      "Mertrics : []\n"
     ]
    }
   ],
   "source": [
    "print(f'Loss :{model.loss}')\n",
    "print(f'Learning Rate :{model.optimizer.lr}, \\nOptimizer: {model.optimizer}')\n",
    "print(f'Mertrics : {model.metrics}')"
   ]
  },
  {
   "cell_type": "markdown",
   "metadata": {
    "colab_type": "text",
    "id": "r6PME8gGrrKe"
   },
   "source": [
    "### Custom Callback"
   ]
  },
  {
   "cell_type": "code",
   "execution_count": 0,
   "metadata": {
    "colab": {},
    "colab_type": "code",
    "id": "BqnFytEerrKf"
   },
   "outputs": [],
   "source": [
    "class my_callback(Callback):\n",
    "    def on_train_begin(self, logs=None):\n",
    "        print(\"Starting training....\")\n",
    "        \n",
    "    def on_epoch_begin(self, epoch, logs=None):\n",
    "        print(f\"Starting epoch {epoch}\")\n",
    "             \n",
    "    def on_epoch_end(self, epoch, logs=None):\n",
    "        print(f\"Finishing epoch {epoch}\")\n",
    "        \n",
    "    def on_train_end(self, logs=None):\n",
    "        print(\"Finished training:\")\n",
    "        \n",
    "#  track at least one appropriate metric        \n",
    "def checkpoint_getBestOnly():\n",
    "    checkpoint_path='model_checkpoint/checkpoint'\n",
    "    checkpoint = ModelCheckpoint(filepath=checkpoint_path, save_freq='epoch',\n",
    "                                 save_best_only=False, verbose=1,\n",
    "                                 save_weights_only=True, monitor = 'val_accuracy',\n",
    "                                )\n",
    "    return checkpoint"
   ]
  },
  {
   "cell_type": "markdown",
   "metadata": {
    "colab_type": "text",
    "id": "r1MOnHKHrrKi"
   },
   "source": [
    "### Train the model"
   ]
  },
  {
   "cell_type": "code",
   "execution_count": 38,
   "metadata": {
    "colab": {
     "base_uri": "https://localhost:8080/",
     "height": 1000
    },
    "colab_type": "code",
    "executionInfo": {
     "elapsed": 198202,
     "status": "ok",
     "timestamp": 1591370580687,
     "user": {
      "displayName": "Uday Pratap Yati",
      "photoUrl": "https://lh3.googleusercontent.com/a-/AOh14Gj471mFfPb74fTJaY831rOrH32GTTiGtD-sz0gmNw=s64",
      "userId": "07167909339760484251"
     },
     "user_tz": -330
    },
    "id": "aXXmVQkVrrKj",
    "outputId": "f1ce35ae-837a-4148-d70b-63a97eb54d5c",
    "scrolled": false
   },
   "outputs": [
    {
     "name": "stdout",
     "output_type": "stream",
     "text": [
      "Starting training....\n",
      "Starting epoch 0\n",
      "Epoch 1/30\n",
      "979/996 [============================>.] - ETA: 0s - loss: 1.5984 - accuracy: 0.4618Finishing epoch 0\n",
      "\n",
      "Epoch 00001: saving model to model_checkpoint/checkpoint\n",
      "996/996 [==============================] - 3s 3ms/step - loss: 1.5902 - accuracy: 0.4649 - val_loss: 1.0891 - val_accuracy: 0.6624\n",
      "Starting epoch 1\n",
      "Epoch 2/30\n",
      "984/996 [============================>.] - ETA: 0s - loss: 0.9935 - accuracy: 0.6936Finishing epoch 1\n",
      "\n",
      "Epoch 00002: saving model to model_checkpoint/checkpoint\n",
      "996/996 [==============================] - 3s 3ms/step - loss: 0.9925 - accuracy: 0.6939 - val_loss: 0.9008 - val_accuracy: 0.7241\n",
      "Starting epoch 2\n",
      "Epoch 3/30\n",
      "984/996 [============================>.] - ETA: 0s - loss: 0.8417 - accuracy: 0.7426Finishing epoch 2\n",
      "\n",
      "Epoch 00003: saving model to model_checkpoint/checkpoint\n",
      "996/996 [==============================] - 3s 3ms/step - loss: 0.8414 - accuracy: 0.7428 - val_loss: 0.7958 - val_accuracy: 0.7557\n",
      "Starting epoch 3\n",
      "Epoch 4/30\n",
      "991/996 [============================>.] - ETA: 0s - loss: 0.7526 - accuracy: 0.7704Finishing epoch 3\n",
      "\n",
      "Epoch 00004: saving model to model_checkpoint/checkpoint\n",
      "996/996 [==============================] - 3s 3ms/step - loss: 0.7523 - accuracy: 0.7704 - val_loss: 0.7435 - val_accuracy: 0.7697\n",
      "Starting epoch 4\n",
      "Epoch 5/30\n",
      "982/996 [============================>.] - ETA: 0s - loss: 0.6916 - accuracy: 0.7890Finishing epoch 4\n",
      "\n",
      "Epoch 00005: saving model to model_checkpoint/checkpoint\n",
      "996/996 [==============================] - 3s 3ms/step - loss: 0.6922 - accuracy: 0.7890 - val_loss: 0.7100 - val_accuracy: 0.7867\n",
      "Starting epoch 5\n",
      "Epoch 6/30\n",
      "977/996 [============================>.] - ETA: 0s - loss: 0.6486 - accuracy: 0.8029Finishing epoch 5\n",
      "\n",
      "Epoch 00006: saving model to model_checkpoint/checkpoint\n",
      "996/996 [==============================] - 3s 3ms/step - loss: 0.6488 - accuracy: 0.8029 - val_loss: 0.6791 - val_accuracy: 0.7940\n",
      "Starting epoch 6\n",
      "Epoch 7/30\n",
      "993/996 [============================>.] - ETA: 0s - loss: 0.6137 - accuracy: 0.8126Finishing epoch 6\n",
      "\n",
      "Epoch 00007: saving model to model_checkpoint/checkpoint\n",
      "996/996 [==============================] - 3s 3ms/step - loss: 0.6139 - accuracy: 0.8125 - val_loss: 0.6616 - val_accuracy: 0.7989\n",
      "Starting epoch 7\n",
      "Epoch 8/30\n",
      "995/996 [============================>.] - ETA: 0s - loss: 0.5813 - accuracy: 0.8228Finishing epoch 7\n",
      "\n",
      "Epoch 00008: saving model to model_checkpoint/checkpoint\n",
      "996/996 [==============================] - 3s 3ms/step - loss: 0.5817 - accuracy: 0.8227 - val_loss: 0.6468 - val_accuracy: 0.8071\n",
      "Starting epoch 8\n",
      "Epoch 9/30\n",
      "976/996 [============================>.] - ETA: 0s - loss: 0.5594 - accuracy: 0.8299Finishing epoch 8\n",
      "\n",
      "Epoch 00009: saving model to model_checkpoint/checkpoint\n",
      "996/996 [==============================] - 3s 3ms/step - loss: 0.5590 - accuracy: 0.8302 - val_loss: 0.6379 - val_accuracy: 0.8079\n",
      "Starting epoch 9\n",
      "Epoch 10/30\n",
      "979/996 [============================>.] - ETA: 0s - loss: 0.5377 - accuracy: 0.8365Finishing epoch 9\n",
      "\n",
      "Epoch 00010: saving model to model_checkpoint/checkpoint\n",
      "996/996 [==============================] - 3s 3ms/step - loss: 0.5372 - accuracy: 0.8367 - val_loss: 0.6163 - val_accuracy: 0.8137\n",
      "Starting epoch 10\n",
      "Epoch 11/30\n",
      "993/996 [============================>.] - ETA: 0s - loss: 0.5140 - accuracy: 0.8439Finishing epoch 10\n",
      "\n",
      "Epoch 00011: saving model to model_checkpoint/checkpoint\n",
      "996/996 [==============================] - 3s 3ms/step - loss: 0.5142 - accuracy: 0.8439 - val_loss: 0.6110 - val_accuracy: 0.8180\n",
      "Starting epoch 11\n",
      "Epoch 12/30\n",
      "995/996 [============================>.] - ETA: 0s - loss: 0.4969 - accuracy: 0.8486Finishing epoch 11\n",
      "\n",
      "Epoch 00012: saving model to model_checkpoint/checkpoint\n",
      "996/996 [==============================] - 3s 3ms/step - loss: 0.4971 - accuracy: 0.8486 - val_loss: 0.6118 - val_accuracy: 0.8203\n",
      "Starting epoch 12\n",
      "Epoch 13/30\n",
      "991/996 [============================>.] - ETA: 0s - loss: 0.4834 - accuracy: 0.8521Finishing epoch 12\n",
      "\n",
      "Epoch 00013: saving model to model_checkpoint/checkpoint\n",
      "996/996 [==============================] - 3s 3ms/step - loss: 0.4832 - accuracy: 0.8521 - val_loss: 0.5906 - val_accuracy: 0.8269\n",
      "Starting epoch 13\n",
      "Epoch 14/30\n",
      "980/996 [============================>.] - ETA: 0s - loss: 0.4651 - accuracy: 0.8581Finishing epoch 13\n",
      "\n",
      "Epoch 00014: saving model to model_checkpoint/checkpoint\n",
      "996/996 [==============================] - 3s 3ms/step - loss: 0.4656 - accuracy: 0.8578 - val_loss: 0.5940 - val_accuracy: 0.8235\n",
      "Starting epoch 14\n",
      "Epoch 15/30\n",
      "988/996 [============================>.] - ETA: 0s - loss: 0.4525 - accuracy: 0.8625Finishing epoch 14\n",
      "\n",
      "Epoch 00015: saving model to model_checkpoint/checkpoint\n",
      "996/996 [==============================] - 3s 3ms/step - loss: 0.4531 - accuracy: 0.8623 - val_loss: 0.5866 - val_accuracy: 0.8281\n",
      "Starting epoch 15\n",
      "Epoch 16/30\n",
      "978/996 [============================>.] - ETA: 0s - loss: 0.4401 - accuracy: 0.8650Finishing epoch 15\n",
      "\n",
      "Epoch 00016: saving model to model_checkpoint/checkpoint\n",
      "996/996 [==============================] - 3s 3ms/step - loss: 0.4407 - accuracy: 0.8651 - val_loss: 0.5867 - val_accuracy: 0.8299\n",
      "Starting epoch 16\n",
      "Epoch 17/30\n",
      "979/996 [============================>.] - ETA: 0s - loss: 0.4283 - accuracy: 0.8690Finishing epoch 16\n",
      "\n",
      "Epoch 00017: saving model to model_checkpoint/checkpoint\n",
      "996/996 [==============================] - 3s 3ms/step - loss: 0.4277 - accuracy: 0.8691 - val_loss: 0.5740 - val_accuracy: 0.8313\n",
      "Starting epoch 17\n",
      "Epoch 18/30\n",
      "977/996 [============================>.] - ETA: 0s - loss: 0.4177 - accuracy: 0.8729Finishing epoch 17\n",
      "\n",
      "Epoch 00018: saving model to model_checkpoint/checkpoint\n",
      "996/996 [==============================] - 3s 3ms/step - loss: 0.4177 - accuracy: 0.8731 - val_loss: 0.5814 - val_accuracy: 0.8313\n",
      "Starting epoch 18\n",
      "Epoch 19/30\n",
      "985/996 [============================>.] - ETA: 0s - loss: 0.4048 - accuracy: 0.8758Finishing epoch 18\n",
      "\n",
      "Epoch 00019: saving model to model_checkpoint/checkpoint\n",
      "996/996 [==============================] - 3s 3ms/step - loss: 0.4052 - accuracy: 0.8755 - val_loss: 0.6018 - val_accuracy: 0.8269\n",
      "Starting epoch 19\n",
      "Epoch 20/30\n",
      "995/996 [============================>.] - ETA: 0s - loss: 0.3953 - accuracy: 0.8788Finishing epoch 19\n",
      "\n",
      "Epoch 00020: saving model to model_checkpoint/checkpoint\n",
      "996/996 [==============================] - 3s 3ms/step - loss: 0.3953 - accuracy: 0.8788 - val_loss: 0.5808 - val_accuracy: 0.8345\n",
      "Starting epoch 20\n",
      "Epoch 21/30\n",
      "984/996 [============================>.] - ETA: 0s - loss: 0.3862 - accuracy: 0.8824Finishing epoch 20\n",
      "\n",
      "Epoch 00021: saving model to model_checkpoint/checkpoint\n",
      "996/996 [==============================] - 3s 3ms/step - loss: 0.3870 - accuracy: 0.8820 - val_loss: 0.5743 - val_accuracy: 0.8352\n",
      "Starting epoch 21\n",
      "Epoch 22/30\n",
      "986/996 [============================>.] - ETA: 0s - loss: 0.3793 - accuracy: 0.8853Finishing epoch 21\n",
      "\n",
      "Epoch 00022: saving model to model_checkpoint/checkpoint\n",
      "996/996 [==============================] - 3s 3ms/step - loss: 0.3789 - accuracy: 0.8854 - val_loss: 0.5703 - val_accuracy: 0.8357\n",
      "Starting epoch 22\n",
      "Epoch 23/30\n",
      "980/996 [============================>.] - ETA: 0s - loss: 0.3690 - accuracy: 0.8868Finishing epoch 22\n",
      "\n",
      "Epoch 00023: saving model to model_checkpoint/checkpoint\n",
      "996/996 [==============================] - 3s 3ms/step - loss: 0.3693 - accuracy: 0.8867 - val_loss: 0.5646 - val_accuracy: 0.8401\n",
      "Starting epoch 23\n",
      "Epoch 24/30\n",
      "988/996 [============================>.] - ETA: 0s - loss: 0.3617 - accuracy: 0.8895Finishing epoch 23\n",
      "\n",
      "Epoch 00024: saving model to model_checkpoint/checkpoint\n",
      "996/996 [==============================] - 3s 3ms/step - loss: 0.3621 - accuracy: 0.8894 - val_loss: 0.5736 - val_accuracy: 0.8365\n",
      "Starting epoch 24\n",
      "Epoch 25/30\n",
      "988/996 [============================>.] - ETA: 0s - loss: 0.3533 - accuracy: 0.8923Finishing epoch 24\n",
      "\n",
      "Epoch 00025: saving model to model_checkpoint/checkpoint\n",
      "996/996 [==============================] - 3s 3ms/step - loss: 0.3533 - accuracy: 0.8923 - val_loss: 0.5863 - val_accuracy: 0.8342\n",
      "Starting epoch 25\n",
      "Epoch 26/30\n",
      "988/996 [============================>.] - ETA: 0s - loss: 0.3466 - accuracy: 0.8941Finishing epoch 25\n",
      "\n",
      "Epoch 00026: saving model to model_checkpoint/checkpoint\n",
      "996/996 [==============================] - 3s 3ms/step - loss: 0.3465 - accuracy: 0.8943 - val_loss: 0.5895 - val_accuracy: 0.8337\n",
      "Starting epoch 26\n",
      "Epoch 27/30\n",
      "995/996 [============================>.] - ETA: 0s - loss: 0.3359 - accuracy: 0.8970Finishing epoch 26\n",
      "\n",
      "Epoch 00027: saving model to model_checkpoint/checkpoint\n",
      "996/996 [==============================] - 3s 3ms/step - loss: 0.3362 - accuracy: 0.8969 - val_loss: 0.5761 - val_accuracy: 0.8388\n",
      "Starting epoch 27\n",
      "Epoch 28/30\n",
      "984/996 [============================>.] - ETA: 0s - loss: 0.3303 - accuracy: 0.8983Finishing epoch 27\n",
      "\n",
      "Epoch 00028: saving model to model_checkpoint/checkpoint\n",
      "996/996 [==============================] - 3s 3ms/step - loss: 0.3302 - accuracy: 0.8983 - val_loss: 0.5652 - val_accuracy: 0.8444\n",
      "Starting epoch 28\n",
      "Epoch 29/30\n",
      "995/996 [============================>.] - ETA: 0s - loss: 0.3247 - accuracy: 0.8998Finishing epoch 28\n",
      "\n",
      "Epoch 00029: saving model to model_checkpoint/checkpoint\n",
      "996/996 [==============================] - 3s 3ms/step - loss: 0.3247 - accuracy: 0.8999 - val_loss: 0.5698 - val_accuracy: 0.8408\n",
      "Starting epoch 29\n",
      "Epoch 30/30\n",
      "992/996 [============================>.] - ETA: 0s - loss: 0.3127 - accuracy: 0.9046Finishing epoch 29\n",
      "\n",
      "Epoch 00030: saving model to model_checkpoint/checkpoint\n",
      "996/996 [==============================] - 3s 3ms/step - loss: 0.3129 - accuracy: 0.9046 - val_loss: 0.5848 - val_accuracy: 0.8387\n",
      "Finished training:\n"
     ]
    }
   ],
   "source": [
    "history = model.fit(x_train, y_train, epochs=30, \n",
    "                    validation_data=(x_val,y_val), batch_size=64,\n",
    "                    callbacks=[my_callback(), checkpoint_getBestOnly()])"
   ]
  },
  {
   "cell_type": "markdown",
   "metadata": {
    "colab_type": "text",
    "id": "VTUiJ6IwrrKp"
   },
   "source": [
    "### Plot the learning curves for loss vs epoch and accuracy vs epoch for both training and validation sets"
   ]
  },
  {
   "cell_type": "code",
   "execution_count": 39,
   "metadata": {
    "colab": {
     "base_uri": "https://localhost:8080/",
     "height": 35
    },
    "colab_type": "code",
    "executionInfo": {
     "elapsed": 198213,
     "status": "ok",
     "timestamp": 1591370580732,
     "user": {
      "displayName": "Uday Pratap Yati",
      "photoUrl": "https://lh3.googleusercontent.com/a-/AOh14Gj471mFfPb74fTJaY831rOrH32GTTiGtD-sz0gmNw=s64",
      "userId": "07167909339760484251"
     },
     "user_tz": -330
    },
    "id": "wX_nqrDArrKq",
    "outputId": "c47930e7-d50b-4b7e-b544-2edf01f4faf9"
   },
   "outputs": [
    {
     "name": "stdout",
     "output_type": "stream",
     "text": [
      "dict_keys(['loss', 'accuracy', 'val_loss', 'val_accuracy'])\n"
     ]
    }
   ],
   "source": [
    "print(history.history.keys())"
   ]
  },
  {
   "cell_type": "code",
   "execution_count": 40,
   "metadata": {
    "colab": {
     "base_uri": "https://localhost:8080/",
     "height": 295
    },
    "colab_type": "code",
    "executionInfo": {
     "elapsed": 198215,
     "status": "ok",
     "timestamp": 1591370580767,
     "user": {
      "displayName": "Uday Pratap Yati",
      "photoUrl": "https://lh3.googleusercontent.com/a-/AOh14Gj471mFfPb74fTJaY831rOrH32GTTiGtD-sz0gmNw=s64",
      "userId": "07167909339760484251"
     },
     "user_tz": -330
    },
    "id": "qZeKfEYIrrKy",
    "outputId": "e75af080-9d01-4de2-baa2-0c7451ada663"
   },
   "outputs": [
    {
     "data": {
      "image/png": "[encoded data removed]",
      "text/plain": [
       "<Figure size 432x288 with 1 Axes>"
      ]
     },
     "metadata": {
      "needs_background": "light",
      "tags": []
     },
     "output_type": "display_data"
    }
   ],
   "source": [
    "plt.plot(history.history['accuracy'])\n",
    "plt.plot(history.history['val_accuracy'])\n",
    "plt.title('Accuracy vs. epochs')\n",
    "plt.ylabel('Loss')\n",
    "plt.xlabel('Epoch')\n",
    "plt.legend(['Training', 'Validation'])\n",
    "plt.grid()"
   ]
  },
  {
   "cell_type": "code",
   "execution_count": 41,
   "metadata": {
    "colab": {
     "base_uri": "https://localhost:8080/",
     "height": 295
    },
    "colab_type": "code",
    "executionInfo": {
     "elapsed": 198213,
     "status": "ok",
     "timestamp": 1591370580798,
     "user": {
      "displayName": "Uday Pratap Yati",
      "photoUrl": "https://lh3.googleusercontent.com/a-/AOh14Gj471mFfPb74fTJaY831rOrH32GTTiGtD-sz0gmNw=s64",
      "userId": "07167909339760484251"
     },
     "user_tz": -330
    },
    "id": "6hmpJQnHrrK3",
    "outputId": "9afadea4-341f-4399-ee9f-03f6cab0f91f"
   },
   "outputs": [
    {
     "data": {
      "image/png": "[encoded data removed]",
      "text/plain": [
       "<Figure size 432x288 with 1 Axes>"
      ]
     },
     "metadata": {
      "needs_background": "light",
      "tags": []
     },
     "output_type": "display_data"
    }
   ],
   "source": [
    "plt.plot(history.history['loss'])\n",
    "plt.plot(history.history['val_loss'])\n",
    "plt.title('Loss vs. epochs')\n",
    "plt.ylabel('Loss')\n",
    "plt.xlabel('Epoch')\n",
    "plt.legend(['Training', 'Validation'])\n",
    "plt.grid()"
   ]
  },
  {
   "cell_type": "code",
   "execution_count": 42,
   "metadata": {
    "colab": {
     "base_uri": "https://localhost:8080/",
     "height": 202
    },
    "colab_type": "code",
    "executionInfo": {
     "elapsed": 198189,
     "status": "ok",
     "timestamp": 1591370580802,
     "user": {
      "displayName": "Uday Pratap Yati",
      "photoUrl": "https://lh3.googleusercontent.com/a-/AOh14Gj471mFfPb74fTJaY831rOrH32GTTiGtD-sz0gmNw=s64",
      "userId": "07167909339760484251"
     },
     "user_tz": -330
    },
    "id": "8df3jL9yrrK_",
    "outputId": "100d129f-ebe6-4d5c-d207-0bc773a4a55c"
   },
   "outputs": [
    {
     "data": {
      "text/html": [
       "<div>\n",
       "<style scoped>\n",
       "    .dataframe tbody tr th:only-of-type {\n",
       "        vertical-align: middle;\n",
       "    }\n",
       "\n",
       "    .dataframe tbody tr th {\n",
       "        vertical-align: top;\n",
       "    }\n",
       "\n",
       "    .dataframe thead th {\n",
       "        text-align: right;\n",
       "    }\n",
       "</style>\n",
       "<table border=\"1\" class=\"dataframe\">\n",
       "  <thead>\n",
       "    <tr style=\"text-align: right;\">\n",
       "      <th></th>\n",
       "      <th>loss</th>\n",
       "      <th>accuracy</th>\n",
       "      <th>val_loss</th>\n",
       "      <th>val_accuracy</th>\n",
       "    </tr>\n",
       "  </thead>\n",
       "  <tbody>\n",
       "    <tr>\n",
       "      <th>0</th>\n",
       "      <td>1.590182</td>\n",
       "      <td>0.464924</td>\n",
       "      <td>1.089091</td>\n",
       "      <td>0.662432</td>\n",
       "    </tr>\n",
       "    <tr>\n",
       "      <th>1</th>\n",
       "      <td>0.992526</td>\n",
       "      <td>0.693926</td>\n",
       "      <td>0.900844</td>\n",
       "      <td>0.724066</td>\n",
       "    </tr>\n",
       "    <tr>\n",
       "      <th>2</th>\n",
       "      <td>0.841377</td>\n",
       "      <td>0.742771</td>\n",
       "      <td>0.795810</td>\n",
       "      <td>0.755670</td>\n",
       "    </tr>\n",
       "    <tr>\n",
       "      <th>3</th>\n",
       "      <td>0.752326</td>\n",
       "      <td>0.770449</td>\n",
       "      <td>0.743468</td>\n",
       "      <td>0.769740</td>\n",
       "    </tr>\n",
       "    <tr>\n",
       "      <th>4</th>\n",
       "      <td>0.692217</td>\n",
       "      <td>0.788995</td>\n",
       "      <td>0.710009</td>\n",
       "      <td>0.786749</td>\n",
       "    </tr>\n",
       "  </tbody>\n",
       "</table>\n",
       "</div>"
      ],
      "text/plain": [
       "       loss  accuracy  val_loss  val_accuracy\n",
       "0  1.590182  0.464924  1.089091      0.662432\n",
       "1  0.992526  0.693926  0.900844      0.724066\n",
       "2  0.841377  0.742771  0.795810      0.755670\n",
       "3  0.752326  0.770449  0.743468      0.769740\n",
       "4  0.692217  0.788995  0.710009      0.786749"
      ]
     },
     "execution_count": 42,
     "metadata": {
      "tags": []
     },
     "output_type": "execute_result"
    }
   ],
   "source": [
    "import pandas as pd\n",
    "df = pd.DataFrame(history.history)\n",
    "df.head()"
   ]
  },
  {
   "cell_type": "markdown",
   "metadata": {
    "colab_type": "text",
    "id": "AZh01bROrrLF"
   },
   "source": [
    "### Compute and display the loss and accuracy of the trained model on the test set"
   ]
  },
  {
   "cell_type": "code",
   "execution_count": 43,
   "metadata": {
    "colab": {
     "base_uri": "https://localhost:8080/",
     "height": 69
    },
    "colab_type": "code",
    "executionInfo": {
     "elapsed": 199720,
     "status": "ok",
     "timestamp": 1591370582365,
     "user": {
      "displayName": "Uday Pratap Yati",
      "photoUrl": "https://lh3.googleusercontent.com/a-/AOh14Gj471mFfPb74fTJaY831rOrH32GTTiGtD-sz0gmNw=s64",
      "userId": "07167909339760484251"
     },
     "user_tz": -330
    },
    "id": "bbLLkrN5rrLG",
    "outputId": "00b5a28e-56d7-49bb-b7d9-dca38e43a789"
   },
   "outputs": [
    {
     "name": "stdout",
     "output_type": "stream",
     "text": [
      "814/814 - 1s - loss: 0.7629 - accuracy: 0.8110\n",
      "Loss : 0.763 \n",
      "Accuracy :0.811\n"
     ]
    }
   ],
   "source": [
    "loss, accuracy = model.evaluate(x_test, y_test, verbose=2)\n",
    "print(f'Loss : {loss:.3f} \\nAccuracy :{accuracy:.3f}')"
   ]
  },
  {
   "cell_type": "markdown",
   "metadata": {
    "colab_type": "text",
    "id": "xIARFAC-rrLJ"
   },
   "source": [
    "### Cleanup "
   ]
  },
  {
   "cell_type": "code",
   "execution_count": 44,
   "metadata": {
    "colab": {
     "base_uri": "https://localhost:8080/",
     "height": 121
    },
    "colab_type": "code",
    "executionInfo": {
     "elapsed": 204546,
     "status": "ok",
     "timestamp": 1591370587235,
     "user": {
      "displayName": "Uday Pratap Yati",
      "photoUrl": "https://lh3.googleusercontent.com/a-/AOh14Gj471mFfPb74fTJaY831rOrH32GTTiGtD-sz0gmNw=s64",
      "userId": "07167909339760484251"
     },
     "user_tz": -330
    },
    "id": "xewXMpVrrrLJ",
    "outputId": "c5a98c0c-8b7a-4047-b825-9ecf923b4096"
   },
   "outputs": [
    {
     "name": "stdout",
     "output_type": "stream",
     "text": [
      "total 4.6M\n",
      "-rw------- 1 root root   77 Jun  5 15:22 checkpoint\n",
      "-rw------- 1 root root 2.3M May 20 20:15 checkpoint.data-00000-of-00001\n",
      "-rw------- 1 root root 5.1K Jun  5 15:22 checkpoint.data-00000-of-00002\n",
      "-rw------- 1 root root 2.3M Jun  5 15:22 checkpoint.data-00001-of-00002\n",
      "-rw------- 1 root root 2.9K Jun  5 15:22 checkpoint.index\n"
     ]
    }
   ],
   "source": [
    "!ls -lh model_checkpoint\n",
    "# !rm -r model_checkpoint"
   ]
  },
  {
   "cell_type": "markdown",
   "metadata": {
    "colab_type": "text",
    "id": "2plkT-qkrrLM"
   },
   "source": [
    "## 3. CNN neural network classifier\n",
    "* Build a CNN classifier model using the Sequential API. Your model should use the Conv2D, MaxPool2D, BatchNormalization, Flatten, Dense and Dropout layers. The final layer should again have a 10-way softmax output. \n",
    "* You should design and build the model yourself. Feel free to experiment with different CNN architectures. _Hint: to achieve a reasonable accuracy you won't need to use more than 2 or 3 convolutional layers and 2 fully connected layers.)_\n",
    "* The CNN model should use fewer trainable parameters than your MLP model.\n",
    "* Compile and train the model (we recommend a maximum of 30 epochs), making use of both training and validation sets during the training run.\n",
    "* Your model should track at least one appropriate metric, and use at least two callbacks during training, one of which should be a ModelCheckpoint callback.\n",
    "* You should aim to beat the MLP model performance with fewer parameters!\n",
    "* Plot the learning curves for loss vs epoch and accuracy vs epoch for both training and validation sets.\n",
    "* Compute and display the loss and accuracy of the trained model on the test set."
   ]
  },
  {
   "cell_type": "code",
   "execution_count": 0,
   "metadata": {
    "colab": {},
    "colab_type": "code",
    "id": "KpelMhCSrrLN"
   },
   "outputs": [],
   "source": [
    "from tensorflow.keras.models import Sequential\n",
    "from tensorflow.keras.layers import Dense, Flatten, Conv2D, MaxPooling2D, BatchNormalization, Dropout\n",
    "from tensorflow.keras.callbacks import Callback, EarlyStopping, ModelCheckpoint\n",
    "from tensorflow.keras.regularizers import l2\n",
    "from tensorflow.keras.optimizers import Adam"
   ]
  },
  {
   "cell_type": "markdown",
   "metadata": {
    "colab_type": "text",
    "id": "3ERZKfaNrrLP"
   },
   "source": [
    "### Build a CNN classifier model using the Sequential API"
   ]
  },
  {
   "cell_type": "code",
   "execution_count": 0,
   "metadata": {
    "colab": {},
    "colab_type": "code",
    "id": "CC_kMeJGrrLQ"
   },
   "outputs": [],
   "source": [
    "def getCNNModel(inputshape, decayRate, dropRate):\n",
    "    model = Sequential([\n",
    "        Conv2D(16, kernel_size=3, padding='SAME', activation='relu', \n",
    "               kernel_initializer='he_uniform', kernel_regularizer=l2(decayRate), bias_initializer='ones',\n",
    "               name='conv2d_1', input_shape=(inputshape)),\n",
    "        \n",
    "        Dropout(dropRate, name='dropout_1'),\n",
    "        \n",
    "        Conv2D(16, kernel_size=3, padding='SAME', activation='relu',\n",
    "               kernel_regularizer=l2(decayRate), name='conv2d_2'),\n",
    "        \n",
    "        Dropout(dropRate, name='dropout_2'),\n",
    "        BatchNormalization(name='batch_norm_1'),\n",
    "        MaxPooling2D(pool_size=(4,4), name='max_pool_1'),\n",
    "        \n",
    "        Dense(128, activation='relu', name='dense_1'),\n",
    "        Flatten(name='flatten_1'),\n",
    "        Dense(10, activation='softmax', name='dense_2')\n",
    "    ])\n",
    "    \n",
    "    model.compile(\n",
    "        optimizer=Adam(learning_rate=0.0001), \n",
    "        loss='categorical_crossentropy',\n",
    "        metrics=['accuracy']\n",
    "    )\n",
    "    return model"
   ]
  },
  {
   "cell_type": "code",
   "execution_count": 47,
   "metadata": {
    "colab": {
     "base_uri": "https://localhost:8080/",
     "height": 468
    },
    "colab_type": "code",
    "executionInfo": {
     "elapsed": 204513,
     "status": "ok",
     "timestamp": 1591370587253,
     "user": {
      "displayName": "Uday Pratap Yati",
      "photoUrl": "https://lh3.googleusercontent.com/a-/AOh14Gj471mFfPb74fTJaY831rOrH32GTTiGtD-sz0gmNw=s64",
      "userId": "07167909339760484251"
     },
     "user_tz": -330
    },
    "id": "n1kPS4YQrrLY",
    "outputId": "3cf36681-c823-48c0-9557-18609faa1bdb"
   },
   "outputs": [
    {
     "name": "stdout",
     "output_type": "stream",
     "text": [
      "Model: \"sequential_1\"\n",
      "_________________________________________________________________\n",
      "Layer (type)                 Output Shape              Param #   \n",
      "=================================================================\n",
      "conv2d_1 (Conv2D)            (None, 32, 32, 16)        160       \n",
      "_________________________________________________________________\n",
      "dropout_1 (Dropout)          (None, 32, 32, 16)        0         \n",
      "_________________________________________________________________\n",
      "conv2d_2 (Conv2D)            (None, 32, 32, 16)        2320      \n",
      "_________________________________________________________________\n",
      "dropout_2 (Dropout)          (None, 32, 32, 16)        0         \n",
      "_________________________________________________________________\n",
      "batch_norm_1 (BatchNormaliza (None, 32, 32, 16)        64        \n",
      "_________________________________________________________________\n",
      "max_pool_1 (MaxPooling2D)    (None, 8, 8, 16)          0         \n",
      "_________________________________________________________________\n",
      "dense_1 (Dense)              (None, 8, 8, 128)         2176      \n",
      "_________________________________________________________________\n",
      "flatten_1 (Flatten)          (None, 8192)              0         \n",
      "_________________________________________________________________\n",
      "dense_2 (Dense)              (None, 10)                81930     \n",
      "=================================================================\n",
      "Total params: 86,650\n",
      "Trainable params: 86,618\n",
      "Non-trainable params: 32\n",
      "_________________________________________________________________\n"
     ]
    }
   ],
   "source": [
    "model = getCNNModel(x_train[0].shape, 0.001, 0.3)\n",
    "model.summary()"
   ]
  },
  {
   "cell_type": "code",
   "execution_count": 48,
   "metadata": {
    "colab": {
     "base_uri": "https://localhost:8080/",
     "height": 87
    },
    "colab_type": "code",
    "executionInfo": {
     "elapsed": 204504,
     "status": "ok",
     "timestamp": 1591370587268,
     "user": {
      "displayName": "Uday Pratap Yati",
      "photoUrl": "https://lh3.googleusercontent.com/a-/AOh14Gj471mFfPb74fTJaY831rOrH32GTTiGtD-sz0gmNw=s64",
      "userId": "07167909339760484251"
     },
     "user_tz": -330
    },
    "id": "MoHf4-83rrLd",
    "outputId": "a9889f36-9e0c-4ba5-dca3-21e9a56c6c9d"
   },
   "outputs": [
    {
     "name": "stdout",
     "output_type": "stream",
     "text": [
      "<tensorflow.python.keras.optimizer_v2.adam.Adam object at 0x7fdaa009ee48>\n",
      "categorical_crossentropy\n",
      "[]\n",
      "<tf.Variable 'learning_rate:0' shape=() dtype=float32, numpy=1e-04>\n"
     ]
    }
   ],
   "source": [
    "print(model.optimizer)\n",
    "print(model.loss)\n",
    "print(model.metrics)\n",
    "print(model.optimizer.lr)"
   ]
  },
  {
   "cell_type": "code",
   "execution_count": 0,
   "metadata": {
    "colab": {},
    "colab_type": "code",
    "id": "HSFPv2WVrrLj"
   },
   "outputs": [],
   "source": [
    "def get_early_stopping():\n",
    "    return EarlyStopping(patience=4, monitor='val_accuracy')\n",
    "\n",
    "def get_best_CNN_checkpoint():\n",
    "    path = 'model_checkpoint_CNN/checkpoint'\n",
    "    return ModelCheckpoint(filepath=path, save_freq='epoch',\n",
    "                               save_weights_only=True, save_best_only=True, \n",
    "                               monitor='val_accuracy', verbose=1)"
   ]
  },
  {
   "cell_type": "code",
   "execution_count": 50,
   "metadata": {
    "colab": {
     "base_uri": "https://localhost:8080/",
     "height": 1000
    },
    "colab_type": "code",
    "executionInfo": {
     "elapsed": 283881,
     "status": "ok",
     "timestamp": 1591370666699,
     "user": {
      "displayName": "Uday Pratap Yati",
      "photoUrl": "https://lh3.googleusercontent.com/a-/AOh14Gj471mFfPb74fTJaY831rOrH32GTTiGtD-sz0gmNw=s64",
      "userId": "07167909339760484251"
     },
     "user_tz": -330
    },
    "id": "ta_TOI_QrrLp",
    "outputId": "20ff66df-1226-4348-c760-3a99e45fe774",
    "scrolled": false
   },
   "outputs": [
    {
     "name": "stdout",
     "output_type": "stream",
     "text": [
      "Epoch 1/30\n",
      "249/249 [==============================] - ETA: 0s - loss: 2.2233 - accuracy: 0.2351\n",
      "Epoch 00001: val_accuracy improved from -inf to 0.35395, saving model to model_checkpoint_CNN/checkpoint\n",
      "249/249 [==============================] - 4s 16ms/step - loss: 2.2233 - accuracy: 0.2351 - val_loss: 2.0795 - val_accuracy: 0.3539\n",
      "Epoch 2/30\n",
      "244/249 [============================>.] - ETA: 0s - loss: 1.7315 - accuracy: 0.4427\n",
      "Epoch 00002: val_accuracy improved from 0.35395 to 0.49717, saving model to model_checkpoint_CNN/checkpoint\n",
      "249/249 [==============================] - 3s 10ms/step - loss: 1.7268 - accuracy: 0.4446 - val_loss: 1.6804 - val_accuracy: 0.4972\n",
      "Epoch 3/30\n",
      "247/249 [============================>.] - ETA: 0s - loss: 1.3205 - accuracy: 0.5957\n",
      "Epoch 00003: val_accuracy improved from 0.49717 to 0.60038, saving model to model_checkpoint_CNN/checkpoint\n",
      "249/249 [==============================] - 2s 10ms/step - loss: 1.3195 - accuracy: 0.5960 - val_loss: 1.3471 - val_accuracy: 0.6004\n",
      "Epoch 4/30\n",
      "248/249 [============================>.] - ETA: 0s - loss: 1.0939 - accuracy: 0.6788\n",
      "Epoch 00004: val_accuracy improved from 0.60038 to 0.66296, saving model to model_checkpoint_CNN/checkpoint\n",
      "249/249 [==============================] - 3s 10ms/step - loss: 1.0936 - accuracy: 0.6789 - val_loss: 1.1504 - val_accuracy: 0.6630\n",
      "Epoch 5/30\n",
      "244/249 [============================>.] - ETA: 0s - loss: 0.9659 - accuracy: 0.7208\n",
      "Epoch 00005: val_accuracy improved from 0.66296 to 0.68564, saving model to model_checkpoint_CNN/checkpoint\n",
      "249/249 [==============================] - 2s 10ms/step - loss: 0.9644 - accuracy: 0.7214 - val_loss: 1.0441 - val_accuracy: 0.6856\n",
      "Epoch 6/30\n",
      "246/249 [============================>.] - ETA: 0s - loss: 0.8810 - accuracy: 0.7499\n",
      "Epoch 00006: val_accuracy improved from 0.68564 to 0.71336, saving model to model_checkpoint_CNN/checkpoint\n",
      "249/249 [==============================] - 3s 10ms/step - loss: 0.8810 - accuracy: 0.7497 - val_loss: 0.9595 - val_accuracy: 0.7134\n",
      "Epoch 7/30\n",
      "248/249 [============================>.] - ETA: 0s - loss: 0.8227 - accuracy: 0.7700\n",
      "Epoch 00007: val_accuracy improved from 0.71336 to 0.73992, saving model to model_checkpoint_CNN/checkpoint\n",
      "249/249 [==============================] - 2s 10ms/step - loss: 0.8226 - accuracy: 0.7700 - val_loss: 0.8992 - val_accuracy: 0.7399\n",
      "Epoch 8/30\n",
      "244/249 [============================>.] - ETA: 0s - loss: 0.7858 - accuracy: 0.7810\n",
      "Epoch 00008: val_accuracy improved from 0.73992 to 0.75829, saving model to model_checkpoint_CNN/checkpoint\n",
      "249/249 [==============================] - 3s 10ms/step - loss: 0.7860 - accuracy: 0.7809 - val_loss: 0.8475 - val_accuracy: 0.7583\n",
      "Epoch 9/30\n",
      "248/249 [============================>.] - ETA: 0s - loss: 0.7514 - accuracy: 0.7929\n",
      "Epoch 00009: val_accuracy improved from 0.75829 to 0.77919, saving model to model_checkpoint_CNN/checkpoint\n",
      "249/249 [==============================] - 2s 10ms/step - loss: 0.7507 - accuracy: 0.7931 - val_loss: 0.8019 - val_accuracy: 0.7792\n",
      "Epoch 10/30\n",
      "249/249 [==============================] - ETA: 0s - loss: 0.7279 - accuracy: 0.8004\n",
      "Epoch 00010: val_accuracy improved from 0.77919 to 0.78990, saving model to model_checkpoint_CNN/checkpoint\n",
      "249/249 [==============================] - 3s 10ms/step - loss: 0.7279 - accuracy: 0.8004 - val_loss: 0.7672 - val_accuracy: 0.7899\n",
      "Epoch 11/30\n",
      "248/249 [============================>.] - ETA: 0s - loss: 0.7039 - accuracy: 0.8086\n",
      "Epoch 00011: val_accuracy improved from 0.78990 to 0.79084, saving model to model_checkpoint_CNN/checkpoint\n",
      "249/249 [==============================] - 2s 10ms/step - loss: 0.7042 - accuracy: 0.8085 - val_loss: 0.7478 - val_accuracy: 0.7908\n",
      "Epoch 12/30\n",
      "245/249 [============================>.] - ETA: 0s - loss: 0.6831 - accuracy: 0.8133\n",
      "Epoch 00012: val_accuracy improved from 0.79084 to 0.80460, saving model to model_checkpoint_CNN/checkpoint\n",
      "249/249 [==============================] - 3s 10ms/step - loss: 0.6842 - accuracy: 0.8131 - val_loss: 0.7197 - val_accuracy: 0.8046\n",
      "Epoch 13/30\n",
      "245/249 [============================>.] - ETA: 0s - loss: 0.6691 - accuracy: 0.8187\n",
      "Epoch 00013: val_accuracy improved from 0.80460 to 0.81121, saving model to model_checkpoint_CNN/checkpoint\n",
      "249/249 [==============================] - 2s 10ms/step - loss: 0.6693 - accuracy: 0.8187 - val_loss: 0.7020 - val_accuracy: 0.8112\n",
      "Epoch 14/30\n",
      "244/249 [============================>.] - ETA: 0s - loss: 0.6556 - accuracy: 0.8228\n",
      "Epoch 00014: val_accuracy improved from 0.81121 to 0.81709, saving model to model_checkpoint_CNN/checkpoint\n",
      "249/249 [==============================] - 2s 10ms/step - loss: 0.6549 - accuracy: 0.8230 - val_loss: 0.6857 - val_accuracy: 0.8171\n",
      "Epoch 15/30\n",
      "249/249 [==============================] - ETA: 0s - loss: 0.6441 - accuracy: 0.8271\n",
      "Epoch 00015: val_accuracy improved from 0.81709 to 0.81877, saving model to model_checkpoint_CNN/checkpoint\n",
      "249/249 [==============================] - 2s 10ms/step - loss: 0.6441 - accuracy: 0.8271 - val_loss: 0.6770 - val_accuracy: 0.8188\n",
      "Epoch 16/30\n",
      "248/249 [============================>.] - ETA: 0s - loss: 0.6293 - accuracy: 0.8298\n",
      "Epoch 00016: val_accuracy improved from 0.81877 to 0.82098, saving model to model_checkpoint_CNN/checkpoint\n",
      "249/249 [==============================] - 2s 10ms/step - loss: 0.6294 - accuracy: 0.8297 - val_loss: 0.6648 - val_accuracy: 0.8210\n",
      "Epoch 17/30\n",
      "246/249 [============================>.] - ETA: 0s - loss: 0.6166 - accuracy: 0.8346\n",
      "Epoch 00017: val_accuracy improved from 0.82098 to 0.82675, saving model to model_checkpoint_CNN/checkpoint\n",
      "249/249 [==============================] - 2s 10ms/step - loss: 0.6170 - accuracy: 0.8344 - val_loss: 0.6471 - val_accuracy: 0.8268\n",
      "Epoch 18/30\n",
      "248/249 [============================>.] - ETA: 0s - loss: 0.6067 - accuracy: 0.8375\n",
      "Epoch 00018: val_accuracy did not improve from 0.82675\n",
      "249/249 [==============================] - 2s 9ms/step - loss: 0.6066 - accuracy: 0.8375 - val_loss: 0.6448 - val_accuracy: 0.8259\n",
      "Epoch 19/30\n",
      "244/249 [============================>.] - ETA: 0s - loss: 0.5966 - accuracy: 0.8395\n",
      "Epoch 00019: val_accuracy improved from 0.82675 to 0.83253, saving model to model_checkpoint_CNN/checkpoint\n",
      "249/249 [==============================] - 2s 10ms/step - loss: 0.5971 - accuracy: 0.8393 - val_loss: 0.6233 - val_accuracy: 0.8325\n",
      "Epoch 20/30\n",
      "249/249 [==============================] - ETA: 0s - loss: 0.5877 - accuracy: 0.8432\n",
      "Epoch 00020: val_accuracy improved from 0.83253 to 0.83358, saving model to model_checkpoint_CNN/checkpoint\n",
      "249/249 [==============================] - 2s 10ms/step - loss: 0.5877 - accuracy: 0.8432 - val_loss: 0.6235 - val_accuracy: 0.8336\n",
      "Epoch 21/30\n",
      "244/249 [============================>.] - ETA: 0s - loss: 0.5768 - accuracy: 0.8458\n",
      "Epoch 00021: val_accuracy improved from 0.83358 to 0.83631, saving model to model_checkpoint_CNN/checkpoint\n",
      "249/249 [==============================] - 3s 10ms/step - loss: 0.5773 - accuracy: 0.8455 - val_loss: 0.6134 - val_accuracy: 0.8363\n",
      "Epoch 22/30\n",
      "244/249 [============================>.] - ETA: 0s - loss: 0.5720 - accuracy: 0.8469\n",
      "Epoch 00022: val_accuracy did not improve from 0.83631\n",
      "249/249 [==============================] - 2s 9ms/step - loss: 0.5719 - accuracy: 0.8472 - val_loss: 0.6080 - val_accuracy: 0.8360\n",
      "Epoch 23/30\n",
      "245/249 [============================>.] - ETA: 0s - loss: 0.5607 - accuracy: 0.8495\n",
      "Epoch 00023: val_accuracy improved from 0.83631 to 0.84345, saving model to model_checkpoint_CNN/checkpoint\n",
      "249/249 [==============================] - 2s 10ms/step - loss: 0.5602 - accuracy: 0.8497 - val_loss: 0.5938 - val_accuracy: 0.8434\n",
      "Epoch 24/30\n",
      "249/249 [==============================] - ETA: 0s - loss: 0.5519 - accuracy: 0.8532\n",
      "Epoch 00024: val_accuracy did not improve from 0.84345\n",
      "249/249 [==============================] - 2s 9ms/step - loss: 0.5519 - accuracy: 0.8532 - val_loss: 0.5985 - val_accuracy: 0.8382\n",
      "Epoch 25/30\n",
      "249/249 [==============================] - ETA: 0s - loss: 0.5464 - accuracy: 0.8549\n",
      "Epoch 00025: val_accuracy improved from 0.84345 to 0.85080, saving model to model_checkpoint_CNN/checkpoint\n",
      "249/249 [==============================] - 3s 10ms/step - loss: 0.5464 - accuracy: 0.8549 - val_loss: 0.5742 - val_accuracy: 0.8508\n",
      "Epoch 26/30\n",
      "249/249 [==============================] - ETA: 0s - loss: 0.5367 - accuracy: 0.8570\n",
      "Epoch 00026: val_accuracy did not improve from 0.85080\n",
      "249/249 [==============================] - 2s 9ms/step - loss: 0.5367 - accuracy: 0.8570 - val_loss: 0.5743 - val_accuracy: 0.8497\n",
      "Epoch 27/30\n",
      "246/249 [============================>.] - ETA: 0s - loss: 0.5306 - accuracy: 0.8595\n",
      "Epoch 00027: val_accuracy improved from 0.85080 to 0.85090, saving model to model_checkpoint_CNN/checkpoint\n",
      "249/249 [==============================] - 2s 10ms/step - loss: 0.5307 - accuracy: 0.8593 - val_loss: 0.5673 - val_accuracy: 0.8509\n",
      "Epoch 28/30\n",
      "245/249 [============================>.] - ETA: 0s - loss: 0.5237 - accuracy: 0.8608\n",
      "Epoch 00028: val_accuracy did not improve from 0.85090\n",
      "249/249 [==============================] - 2s 9ms/step - loss: 0.5233 - accuracy: 0.8609 - val_loss: 0.5635 - val_accuracy: 0.8497\n",
      "Epoch 29/30\n",
      "247/249 [============================>.] - ETA: 0s - loss: 0.5174 - accuracy: 0.8633\n",
      "Epoch 00029: val_accuracy improved from 0.85090 to 0.85363, saving model to model_checkpoint_CNN/checkpoint\n",
      "249/249 [==============================] - 3s 10ms/step - loss: 0.5183 - accuracy: 0.8631 - val_loss: 0.5580 - val_accuracy: 0.8536\n",
      "Epoch 30/30\n",
      "249/249 [==============================] - ETA: 0s - loss: 0.5122 - accuracy: 0.8634\n",
      "Epoch 00030: val_accuracy did not improve from 0.85363\n",
      "249/249 [==============================] - 2s 9ms/step - loss: 0.5122 - accuracy: 0.8634 - val_loss: 0.5605 - val_accuracy: 0.8486\n"
     ]
    }
   ],
   "source": [
    "history = model.fit(x_train, y_train, batch_size=256, epochs=30,\n",
    "                   validation_data=(x_val,y_val),\n",
    "                   callbacks=[get_early_stopping(), get_best_CNN_checkpoint()])"
   ]
  },
  {
   "cell_type": "markdown",
   "metadata": {
    "colab_type": "text",
    "id": "PIDh4O5arrLx"
   },
   "source": [
    "### Plot the learning curves for loss vs epoch and accuracy vs epoch for both training and validation sets"
   ]
  },
  {
   "cell_type": "code",
   "execution_count": 51,
   "metadata": {
    "colab": {
     "base_uri": "https://localhost:8080/",
     "height": 35
    },
    "colab_type": "code",
    "executionInfo": {
     "elapsed": 283817,
     "status": "ok",
     "timestamp": 1591370666714,
     "user": {
      "displayName": "Uday Pratap Yati",
      "photoUrl": "https://lh3.googleusercontent.com/a-/AOh14Gj471mFfPb74fTJaY831rOrH32GTTiGtD-sz0gmNw=s64",
      "userId": "07167909339760484251"
     },
     "user_tz": -330
    },
    "id": "ycTopw2OrrLy",
    "outputId": "8da92aaf-c5a5-405e-9387-824abe035efd"
   },
   "outputs": [
    {
     "name": "stdout",
     "output_type": "stream",
     "text": [
      "dict_keys(['loss', 'accuracy', 'val_loss', 'val_accuracy'])\n"
     ]
    }
   ],
   "source": [
    "print(history.history.keys())"
   ]
  },
  {
   "cell_type": "code",
   "execution_count": 52,
   "metadata": {
    "colab": {
     "base_uri": "https://localhost:8080/",
     "height": 295
    },
    "colab_type": "code",
    "executionInfo": {
     "elapsed": 283762,
     "status": "ok",
     "timestamp": 1591370666719,
     "user": {
      "displayName": "Uday Pratap Yati",
      "photoUrl": "https://lh3.googleusercontent.com/a-/AOh14Gj471mFfPb74fTJaY831rOrH32GTTiGtD-sz0gmNw=s64",
      "userId": "07167909339760484251"
     },
     "user_tz": -330
    },
    "id": "0XGSMWdSrrL5",
    "outputId": "f1e6e753-b295-4444-84f1-ab5cf51f3cf6"
   },
   "outputs": [
    {
     "data": {
      "image/png": "[encoded data removed]",
      "text/plain": [
       "<Figure size 432x288 with 1 Axes>"
      ]
     },
     "metadata": {
      "needs_background": "light",
      "tags": []
     },
     "output_type": "display_data"
    }
   ],
   "source": [
    "plt.plot(history.history['accuracy'])\n",
    "plt.plot(history.history['val_accuracy'])\n",
    "plt.title('Accuracy vs. epochs')\n",
    "plt.ylabel('Accuracy')\n",
    "plt.xlabel('Epoch')\n",
    "plt.legend(['Training', 'Validation'])\n",
    "plt.grid()"
   ]
  },
  {
   "cell_type": "code",
   "execution_count": 53,
   "metadata": {
    "colab": {
     "base_uri": "https://localhost:8080/",
     "height": 295
    },
    "colab_type": "code",
    "executionInfo": {
     "elapsed": 284373,
     "status": "ok",
     "timestamp": 1591370667407,
     "user": {
      "displayName": "Uday Pratap Yati",
      "photoUrl": "https://lh3.googleusercontent.com/a-/AOh14Gj471mFfPb74fTJaY831rOrH32GTTiGtD-sz0gmNw=s64",
      "userId": "07167909339760484251"
     },
     "user_tz": -330
    },
    "id": "nljiUzbCrrL8",
    "outputId": "f4cdcd15-d8fa-475a-918b-865e39c7cd38"
   },
   "outputs": [
    {
     "data": {
      "image/png": "[encoded data removed]",
      "text/plain": [
       "<Figure size 432x288 with 1 Axes>"
      ]
     },
     "metadata": {
      "needs_background": "light",
      "tags": []
     },
     "output_type": "display_data"
    }
   ],
   "source": [
    "plt.plot(history.history['loss'])\n",
    "plt.plot(history.history['val_loss'])\n",
    "plt.title('Loss vs. epochs')\n",
    "plt.ylabel('Loss')\n",
    "plt.xlabel('Epoch')\n",
    "plt.legend(['Training', 'Validation'])\n",
    "plt.grid()"
   ]
  },
  {
   "cell_type": "code",
   "execution_count": 54,
   "metadata": {
    "colab": {
     "base_uri": "https://localhost:8080/",
     "height": 202
    },
    "colab_type": "code",
    "executionInfo": {
     "elapsed": 284307,
     "status": "ok",
     "timestamp": 1591370667412,
     "user": {
      "displayName": "Uday Pratap Yati",
      "photoUrl": "https://lh3.googleusercontent.com/a-/AOh14Gj471mFfPb74fTJaY831rOrH32GTTiGtD-sz0gmNw=s64",
      "userId": "07167909339760484251"
     },
     "user_tz": -330
    },
    "id": "crBeOQaPrrMA",
    "outputId": "a6fccf7b-a6e7-4e54-980f-37e2ee75715e"
   },
   "outputs": [
    {
     "data": {
      "text/html": [
       "<div>\n",
       "<style scoped>\n",
       "    .dataframe tbody tr th:only-of-type {\n",
       "        vertical-align: middle;\n",
       "    }\n",
       "\n",
       "    .dataframe tbody tr th {\n",
       "        vertical-align: top;\n",
       "    }\n",
       "\n",
       "    .dataframe thead th {\n",
       "        text-align: right;\n",
       "    }\n",
       "</style>\n",
       "<table border=\"1\" class=\"dataframe\">\n",
       "  <thead>\n",
       "    <tr style=\"text-align: right;\">\n",
       "      <th></th>\n",
       "      <th>loss</th>\n",
       "      <th>accuracy</th>\n",
       "      <th>val_loss</th>\n",
       "      <th>val_accuracy</th>\n",
       "    </tr>\n",
       "  </thead>\n",
       "  <tbody>\n",
       "    <tr>\n",
       "      <th>0</th>\n",
       "      <td>2.223334</td>\n",
       "      <td>0.235059</td>\n",
       "      <td>2.079538</td>\n",
       "      <td>0.353948</td>\n",
       "    </tr>\n",
       "    <tr>\n",
       "      <th>1</th>\n",
       "      <td>1.726768</td>\n",
       "      <td>0.444558</td>\n",
       "      <td>1.680401</td>\n",
       "      <td>0.497165</td>\n",
       "    </tr>\n",
       "    <tr>\n",
       "      <th>2</th>\n",
       "      <td>1.319486</td>\n",
       "      <td>0.596049</td>\n",
       "      <td>1.347089</td>\n",
       "      <td>0.600378</td>\n",
       "    </tr>\n",
       "    <tr>\n",
       "      <th>3</th>\n",
       "      <td>1.093594</td>\n",
       "      <td>0.678895</td>\n",
       "      <td>1.150359</td>\n",
       "      <td>0.662957</td>\n",
       "    </tr>\n",
       "    <tr>\n",
       "      <th>4</th>\n",
       "      <td>0.964386</td>\n",
       "      <td>0.721416</td>\n",
       "      <td>1.044122</td>\n",
       "      <td>0.685636</td>\n",
       "    </tr>\n",
       "  </tbody>\n",
       "</table>\n",
       "</div>"
      ],
      "text/plain": [
       "       loss  accuracy  val_loss  val_accuracy\n",
       "0  2.223334  0.235059  2.079538      0.353948\n",
       "1  1.726768  0.444558  1.680401      0.497165\n",
       "2  1.319486  0.596049  1.347089      0.600378\n",
       "3  1.093594  0.678895  1.150359      0.662957\n",
       "4  0.964386  0.721416  1.044122      0.685636"
      ]
     },
     "execution_count": 54,
     "metadata": {
      "tags": []
     },
     "output_type": "execute_result"
    }
   ],
   "source": [
    "import pandas as pd\n",
    "df = pd.DataFrame(history.history)\n",
    "df.head()"
   ]
  },
  {
   "cell_type": "markdown",
   "metadata": {
    "colab_type": "text",
    "id": "7ghFGxo5rrME"
   },
   "source": [
    "### Compute and display the loss and accuracy of the trained model on the test set"
   ]
  },
  {
   "cell_type": "code",
   "execution_count": 55,
   "metadata": {
    "colab": {
     "base_uri": "https://localhost:8080/",
     "height": 69
    },
    "colab_type": "code",
    "executionInfo": {
     "elapsed": 286115,
     "status": "ok",
     "timestamp": 1591370669259,
     "user": {
      "displayName": "Uday Pratap Yati",
      "photoUrl": "https://lh3.googleusercontent.com/a-/AOh14Gj471mFfPb74fTJaY831rOrH32GTTiGtD-sz0gmNw=s64",
      "userId": "07167909339760484251"
     },
     "user_tz": -330
    },
    "id": "Ewa9JbPMrrMF",
    "outputId": "f7849f9e-e258-4948-cd45-546885b8d2ca"
   },
   "outputs": [
    {
     "name": "stdout",
     "output_type": "stream",
     "text": [
      "814/814 - 2s - loss: 0.6014 - accuracy: 0.8394\n",
      "Loss : 0.601 \n",
      "Accuracy :0.839\n"
     ]
    }
   ],
   "source": [
    "loss, accuracy = model.evaluate(x_test, y_test, verbose=2)\n",
    "print(f'Loss : {loss:.3f} \\nAccuracy :{accuracy:.3f}')"
   ]
  },
  {
   "cell_type": "markdown",
   "metadata": {
    "colab_type": "text",
    "id": "rn9IuZTvrrMM"
   },
   "source": [
    "## 4. Get model predictions\n",
    "* Load the best weights for the MLP and CNN models that you saved during the training run.\n",
    "* Randomly select 5 images and corresponding labels from the test set and display the images with their labels.\n",
    "* Alongside the image and label, show each model’s predictive distribution as a bar chart, and the final model prediction given by the label with maximum probability."
   ]
  },
  {
   "cell_type": "markdown",
   "metadata": {
    "colab_type": "text",
    "id": "f2MbfddX95UY"
   },
   "source": [
    "### Load the best weights for the MLP and CNN models\n"
   ]
  },
  {
   "cell_type": "code",
   "execution_count": 56,
   "metadata": {
    "colab": {
     "base_uri": "https://localhost:8080/",
     "height": 35
    },
    "colab_type": "code",
    "executionInfo": {
     "elapsed": 286083,
     "status": "ok",
     "timestamp": 1591370669266,
     "user": {
      "displayName": "Uday Pratap Yati",
      "photoUrl": "https://lh3.googleusercontent.com/a-/AOh14Gj471mFfPb74fTJaY831rOrH32GTTiGtD-sz0gmNw=s64",
      "userId": "07167909339760484251"
     },
     "user_tz": -330
    },
    "id": "f-Ox6-CcrrMO",
    "outputId": "f40c99b4-b0ac-482b-eea2-9fb83ac008e1"
   },
   "outputs": [
    {
     "data": {
      "text/plain": [
       "<tensorflow.python.training.tracking.util.CheckpointLoadStatus at 0x7fdabb65b860>"
      ]
     },
     "execution_count": 56,
     "metadata": {
      "tags": []
     },
     "output_type": "execute_result"
    }
   ],
   "source": [
    "model_mlp = getModel(x_train[0].shape)\n",
    "model_mlp.load_weights(filepath='model_checkpoint/checkpoint')"
   ]
  },
  {
   "cell_type": "code",
   "execution_count": 57,
   "metadata": {
    "colab": {
     "base_uri": "https://localhost:8080/",
     "height": 35
    },
    "colab_type": "code",
    "executionInfo": {
     "elapsed": 286041,
     "status": "ok",
     "timestamp": 1591370669273,
     "user": {
      "displayName": "Uday Pratap Yati",
      "photoUrl": "https://lh3.googleusercontent.com/a-/AOh14Gj471mFfPb74fTJaY831rOrH32GTTiGtD-sz0gmNw=s64",
      "userId": "07167909339760484251"
     },
     "user_tz": -330
    },
    "id": "F5RhP_IhrrMV",
    "outputId": "d2351451-0843-47a9-8d78-b04b57a5ea2a"
   },
   "outputs": [
    {
     "data": {
      "text/plain": [
       "<tensorflow.python.training.tracking.util.CheckpointLoadStatus at 0x7fdaa035f898>"
      ]
     },
     "execution_count": 57,
     "metadata": {
      "tags": []
     },
     "output_type": "execute_result"
    }
   ],
   "source": [
    "model_cnn = getCNNModel(x_train[0].shape, 0.001, 0.3)\n",
    "model_cnn.load_weights(filepath='model_checkpoint_CNN/checkpoint')"
   ]
  },
  {
   "cell_type": "markdown",
   "metadata": {
    "colab_type": "text",
    "id": "hdsZEmmV-H00"
   },
   "source": [
    "### Randomly select 5 images and corresponding labels from the test set and display the images with their labels."
   ]
  },
  {
   "cell_type": "code",
   "execution_count": 58,
   "metadata": {
    "colab": {
     "base_uri": "https://localhost:8080/",
     "height": 108
    },
    "colab_type": "code",
    "executionInfo": {
     "elapsed": 286873,
     "status": "ok",
     "timestamp": 1591370670148,
     "user": {
      "displayName": "Uday Pratap Yati",
      "photoUrl": "https://lh3.googleusercontent.com/a-/AOh14Gj471mFfPb74fTJaY831rOrH32GTTiGtD-sz0gmNw=s64",
      "userId": "07167909339760484251"
     },
     "user_tz": -330
    },
    "id": "HhHrwluJrrMZ",
    "outputId": "9257c480-cb0b-4c6d-9389-e72a6e5fefc9"
   },
   "outputs": [
    {
     "data": {
      "image/png": "[encoded data removed]",
      "text/plain": [
       "<Figure size 432x288 with 5 Axes>"
      ]
     },
     "metadata": {
      "tags": []
     },
     "output_type": "display_data"
    }
   ],
   "source": [
    "plot_images(x_test, y_test, 1, 5)"
   ]
  },
  {
   "cell_type": "code",
   "execution_count": 0,
   "metadata": {
    "colab": {},
    "colab_type": "code",
    "id": "TAMDosfurrMj"
   },
   "outputs": [],
   "source": [
    "def plot_prediction_bars(predictions, images, labels):\n",
    "    fig, axes = plt.subplots(5, 2, figsize=(16, 12))\n",
    "    fig.subplots_adjust(hspace=0.4, wspace=-0.2)\n",
    "\n",
    "    for i, (prediction, image, label) in enumerate(zip(predictions, images, labels)):\n",
    "        axes[i, 0].imshow(np.squeeze(image))\n",
    "        axes[i, 0].get_xaxis().set_visible(False)\n",
    "        axes[i, 0].get_yaxis().set_visible(False)\n",
    "        axes[i, 0].text(0., -2.5, f'Digit {label}')\n",
    "        axes[i, 1].bar(np.arange(len(prediction)), prediction)\n",
    "        axes[i, 1].set_xticks(np.arange(len(prediction)))\n",
    "        axes[i, 1].set_title(f\"Categorical distribution. Model prediction: {np.argmax(prediction)}\")"
   ]
  },
  {
   "cell_type": "code",
   "execution_count": 60,
   "metadata": {
    "colab": {
     "base_uri": "https://localhost:8080/",
     "height": 716
    },
    "colab_type": "code",
    "executionInfo": {
     "elapsed": 288188,
     "status": "ok",
     "timestamp": 1591370671523,
     "user": {
      "displayName": "Uday Pratap Yati",
      "photoUrl": "https://lh3.googleusercontent.com/a-/AOh14Gj471mFfPb74fTJaY831rOrH32GTTiGtD-sz0gmNw=s64",
      "userId": "07167909339760484251"
     },
     "user_tz": -330
    },
    "id": "1XccvD8RrrMg",
    "outputId": "4a72441b-ff2b-4250-9891-6827d5b701ce"
   },
   "outputs": [
    {
     "data": {
      "image/png": "[encoded data removed]",
      "text/plain": [
       "<Figure size 1152x864 with 10 Axes>"
      ]
     },
     "metadata": {
      "needs_background": "light",
      "tags": []
     },
     "output_type": "display_data"
    }
   ],
   "source": [
    "num_test_images = x_test.shape[0]    # Get the total no. of images\n",
    "indexes = np.random.choice(num_test_images, 5) # Choose 5 random indexes\n",
    "images = x_test[indexes, ...]  # Get the random 5 images\n",
    "labels = y_test[indexes, ...]  # Get correspodig labels\n",
    "\n",
    "predictions = model_mlp.predict(images)\n",
    "plot_prediction_bars(predictions, images, labels)"
   ]
  },
  {
   "cell_type": "code",
   "execution_count": 61,
   "metadata": {
    "colab": {
     "base_uri": "https://localhost:8080/",
     "height": 716
    },
    "colab_type": "code",
    "executionInfo": {
     "elapsed": 289482,
     "status": "ok",
     "timestamp": 1591370672879,
     "user": {
      "displayName": "Uday Pratap Yati",
      "photoUrl": "https://lh3.googleusercontent.com/a-/AOh14Gj471mFfPb74fTJaY831rOrH32GTTiGtD-sz0gmNw=s64",
      "userId": "07167909339760484251"
     },
     "user_tz": -330
    },
    "id": "Xgb4-Q1FrrMm",
    "outputId": "d15c4c74-7835-4f63-db75-af47442b988f"
   },
   "outputs": [
    {
     "data": {
      "image/png": "[encoded data removed]",
      "text/plain": [
       "<Figure size 1152x864 with 10 Axes>"
      ]
     },
     "metadata": {
      "needs_background": "light",
      "tags": []
     },
     "output_type": "display_data"
    }
   ],
   "source": [
    "num_test_images = x_test.shape[0]    # Get the total no. of images\n",
    "indexes = np.random.choice(num_test_images, 5) # Choose 5 random indexes\n",
    "images = x_test[indexes, ...]  # Get the random 5 images\n",
    "labels = y_test[indexes, ...]  # Get correspodig labels\n",
    "\n",
    "predictions = model_cnn.predict(images)\n",
    "plot_prediction_bars(predictions, images, labels)"
   ]
  },
  {
   "cell_type": "code",
   "execution_count": 0,
   "metadata": {
    "colab": {},
    "colab_type": "code",
    "id": "BgyQJf0i-2JM"
   },
   "outputs": [],
   "source": [
    "# THANK YOU"
   ]
  }
 ],
 "metadata": {
  "accelerator": "GPU",
  "colab": {
   "collapsed_sections": [],
   "name": "Capstone Project.ipynb",
   "provenance": []
  },
  "kernelspec": {
   "display_name": "Python 3",
   "language": "python",
   "name": "python3"
  },
  "language_info": {
   "codemirror_mode": {
    "name": "ipython",
    "version": 3
   },
   "file_extension": ".py",
   "mimetype": "text/x-python",
   "name": "python",
   "nbconvert_exporter": "python",
   "pygments_lexer": "ipython3",
   "version": "3.7.3"
  }
 },
 "nbformat": 4,
 "nbformat_minor": 1
}
