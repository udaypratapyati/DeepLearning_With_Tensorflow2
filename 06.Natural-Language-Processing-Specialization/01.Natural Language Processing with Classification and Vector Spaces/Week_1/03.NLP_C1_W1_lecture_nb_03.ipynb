{
  "nbformat": 4,
  "nbformat_minor": 0,
  "metadata": {
    "kernelspec": {
      "display_name": "Python 3",
      "language": "python",
      "name": "python3"
    },
    "language_info": {
      "codemirror_mode": {
        "name": "ipython",
        "version": 3
      },
      "file_extension": ".py",
      "mimetype": "text/x-python",
      "name": "python",
      "nbconvert_exporter": "python",
      "pygments_lexer": "ipython3",
      "version": "3.7.1"
    },
    "colab": {
      "name": "NLP_C1_W1_lecture_nb_03.ipynb",
      "provenance": []
    }
  },
  "cells": [
    {
      "cell_type": "markdown",
      "metadata": {
        "id": "yznFurm0L3er",
        "colab_type": "text"
      },
      "source": [
        "# Ungraded lab 3: Visualizing word frequencies\n",
        "\n",
        "*Copyrighted material*\n",
        "\n",
        "**Objectives:** Visualize and interpret the logistic regression model\n",
        "\n",
        "**Steps:**\n",
        "* Plot tweets in a scatter plot as done in ungraded_lab2. Show the number of the tweet in the plot.\n",
        "* Plot the output of the logistic regression model in the same plot as a solid line"
      ]
    },
    {
      "cell_type": "markdown",
      "metadata": {
        "id": "2fyc90l5L3eu",
        "colab_type": "text"
      },
      "source": [
        "## Import the required libraries\n",
        "\n",
        "During assigments of weeks 1 and 2 you will make sentiment analysis on tweets. [*NLTK*](http://www.nltk.org/howto/twitter.html) is a opensource Python library to collect and process Twitter data.\n",
        "\n",
        "NLTK allows to work with 'live' Tweeter data. If you are interested, just review the documentation of the project. But for this project, you are going to use the example dataset that comes alonside with NLTK, which has been manually annotated, and is intented to serve to quickly stablish baselines for your models. \n",
        "\n",
        "So, to start let's import the required libraries for this project"
      ]
    },
    {
      "cell_type": "code",
      "metadata": {
        "id": "TZiMPe04MFZc",
        "colab_type": "code",
        "colab": {}
      },
      "source": [
        "import re\n",
        "import string\n",
        "import numpy as np\n",
        "\n",
        "from nltk.corpus import stopwords\n",
        "from nltk.stem import PorterStemmer\n",
        "from nltk.tokenize import TweetTokenizer\n",
        "\n",
        "\n",
        "def process_tweet(tweet):\n",
        "    \"\"\"Process tweet function.\n",
        "    Input:\n",
        "        tweet: a string containing a tweet\n",
        "    Output:\n",
        "        tweets_clean: a list of words containing the processed tweet\n",
        "    \"\"\"\n",
        "    stemmer = PorterStemmer()\n",
        "    stopwords_english = stopwords.words('english')\n",
        "    # remove stock market tickers like $GE\n",
        "    tweet = re.sub(r'\\$\\w*', '', tweet)\n",
        "    # remove old style retweet text \"RT\"\n",
        "    tweet = re.sub(r'^RT[\\s]+', '', tweet)\n",
        "    # remove hyperlinks\n",
        "    tweet = re.sub(r'https?:\\/\\/.*[\\r\\n]*', '', tweet)\n",
        "    # remove hashtags\n",
        "    # only removing the hash # sign from the word\n",
        "    tweet = re.sub(r'#', '', tweet)\n",
        "    # tokenize tweets\n",
        "    tokenizer = TweetTokenizer(preserve_case=False, strip_handles=True,\n",
        "                               reduce_len=True)\n",
        "    tweet_tokens = tokenizer.tokenize(tweet)\n",
        "\n",
        "    tweets_clean = []\n",
        "    for word in tweet_tokens:\n",
        "        if (word not in stopwords_english and  # remove stopwords\n",
        "                word not in string.punctuation):  # remove punctuation\n",
        "            # tweets_clean.append(word)\n",
        "            stem_word = stemmer.stem(word)  # stemming word\n",
        "            tweets_clean.append(stem_word)\n",
        "\n",
        "    return tweets_clean\n",
        "\n",
        "\n",
        "def build_freqs(tweets, ys):\n",
        "    \"\"\"Build frequencies.\n",
        "    Input:\n",
        "        tweets: a list of tweets\n",
        "        ys: an m x 1 array with the sentiment label of each tweet\n",
        "            (either 0 or 1)\n",
        "    Output:\n",
        "        freqs: a dictionary mapping each (word, sentiment) pair to its\n",
        "        frequency\n",
        "    \"\"\"\n",
        "    # Convert np array to list since zip needs an iterable.\n",
        "    # The squeeze is necessary or the list ends up with one element.\n",
        "    # Also note that this is just a NOP if ys is already a list.\n",
        "    yslist = np.squeeze(ys).tolist()\n",
        "\n",
        "    # Start with an empty dictionary and populate it by looping over all tweets\n",
        "    # and over all processed words in each tweet.\n",
        "    freqs = {}\n",
        "    for y, tweet in zip(yslist, tweets):\n",
        "        for word in process_tweet(tweet):\n",
        "            pair = (word, y)\n",
        "            if pair in freqs:\n",
        "                freqs[pair] += 1\n",
        "            else:\n",
        "                freqs[pair] = 1\n",
        "\n",
        "    return freqs"
      ],
      "execution_count": 1,
      "outputs": []
    },
    {
      "cell_type": "code",
      "metadata": {
        "id": "aGLJRiKhL3ew",
        "colab_type": "code",
        "colab": {}
      },
      "source": [
        "import nltk                         # Tweeter toolbox\n",
        "from os import getcwd\n",
        "import pandas as pd                 # Library for Dataframes \n",
        "from nltk.corpus import twitter_samples \n",
        "import matplotlib.pyplot as plt     # Library for visualization\n",
        "import numpy as np                  # Library for math functions\n",
        "\n",
        "# from utils import process_tweet, build_freqs # Our functions for NLP"
      ],
      "execution_count": 2,
      "outputs": []
    },
    {
      "cell_type": "markdown",
      "metadata": {
        "id": "1T4n-YnCL3e5",
        "colab_type": "text"
      },
      "source": [
        "## Load the NLTK sample dataset\n",
        "\n",
        "To complete this lab, you need the sample dataset of the previuos lab. Here, we assume the files are already available and we only need to load into Python lists."
      ]
    },
    {
      "cell_type": "code",
      "metadata": {
        "id": "hHPy1FXOMPic",
        "colab_type": "code",
        "colab": {
          "base_uri": "https://localhost:8080/",
          "height": 69
        },
        "outputId": "db538ce7-de29-4ce7-8bb5-eeb83746a298"
      },
      "source": [
        "nltk.download('twitter_samples')"
      ],
      "execution_count": 4,
      "outputs": [
        {
          "output_type": "stream",
          "text": [
            "[nltk_data] Downloading package twitter_samples to /root/nltk_data...\n",
            "[nltk_data]   Unzipping corpora/twitter_samples.zip.\n"
          ],
          "name": "stdout"
        },
        {
          "output_type": "execute_result",
          "data": {
            "text/plain": [
              "True"
            ]
          },
          "metadata": {
            "tags": []
          },
          "execution_count": 4
        }
      ]
    },
    {
      "cell_type": "code",
      "metadata": {
        "id": "BRu4y0b5L3e6",
        "colab_type": "code",
        "colab": {
          "base_uri": "https://localhost:8080/",
          "height": 35
        },
        "outputId": "0c9ec97e-7988-412f-f485-5da11c0e076f"
      },
      "source": [
        "# select the set of positive and negative tweets\n",
        "all_positive_tweets = twitter_samples.strings('positive_tweets.json')\n",
        "all_negative_tweets = twitter_samples.strings('negative_tweets.json')\n",
        "\n",
        "tweets = all_positive_tweets + all_negative_tweets ## Concatenate the lists. \n",
        "labels = np.append(np.ones((len(all_positive_tweets),1)), np.zeros((len(all_negative_tweets),1)), axis = 0)\n",
        "\n",
        "# split the data into two pieces, one for training and one for testing (validation set) \n",
        "train_pos  = all_positive_tweets[:4000]\n",
        "train_neg  = all_negative_tweets[:4000]\n",
        "\n",
        "train_x = train_pos + train_neg \n",
        "\n",
        "print(\"Number of tweets: \", len(train_x))"
      ],
      "execution_count": 5,
      "outputs": [
        {
          "output_type": "stream",
          "text": [
            "Number of tweets:  8000\n"
          ],
          "name": "stdout"
        }
      ]
    },
    {
      "cell_type": "markdown",
      "metadata": {
        "id": "7zaLjFwoL3fD",
        "colab_type": "text"
      },
      "source": [
        "# Load the extracted features\n",
        "Load the features created for the tweets sample. They have been already precalculated and saved in a csv file"
      ]
    },
    {
      "cell_type": "code",
      "metadata": {
        "id": "_y9RZl9fM6-R",
        "colab_type": "code",
        "colab": {}
      },
      "source": [
        "path = 'https://raw.githubusercontent.com/ChanchalKumarMaji/Natural-Language-Processing-Specialization-deeplearning.ai/master/Natural%20Language%20Processing%20with%20Classification%20and%20Vector%20Spaces/Week%201/logistic_features.csv'"
      ],
      "execution_count": 6,
      "outputs": []
    },
    {
      "cell_type": "code",
      "metadata": {
        "id": "Lc-W_fVDL3fF",
        "colab_type": "code",
        "colab": {
          "base_uri": "https://localhost:8080/",
          "height": 35
        },
        "outputId": "ee6ac91b-4509-4cb1-f340-dc1410051cc5"
      },
      "source": [
        "data = pd.read_csv(path);\n",
        "X = data[['bias', 'positive', 'negative']].values\n",
        "Y = data['sentiment'].values;\n",
        "X.shape"
      ],
      "execution_count": 7,
      "outputs": [
        {
          "output_type": "execute_result",
          "data": {
            "text/plain": [
              "(8000, 3)"
            ]
          },
          "metadata": {
            "tags": []
          },
          "execution_count": 7
        }
      ]
    },
    {
      "cell_type": "code",
      "metadata": {
        "id": "uHmcu7xJNyVE",
        "colab_type": "code",
        "colab": {
          "base_uri": "https://localhost:8080/",
          "height": 329
        },
        "outputId": "cc8cae3d-7ac1-49ad-c425-9673d6e8a70e"
      },
      "source": [
        "print(data.head())\n",
        "print(data.info())"
      ],
      "execution_count": 11,
      "outputs": [
        {
          "output_type": "stream",
          "text": [
            "   bias  positive  negative  sentiment\n",
            "0   1.0    3020.0      61.0        1.0\n",
            "1   1.0    3573.0     444.0        1.0\n",
            "2   1.0    3005.0     115.0        1.0\n",
            "3   1.0    2862.0       4.0        1.0\n",
            "4   1.0    3119.0     225.0        1.0\n",
            "<class 'pandas.core.frame.DataFrame'>\n",
            "RangeIndex: 8000 entries, 0 to 7999\n",
            "Data columns (total 4 columns):\n",
            " #   Column     Non-Null Count  Dtype  \n",
            "---  ------     --------------  -----  \n",
            " 0   bias       8000 non-null   float64\n",
            " 1   positive   8000 non-null   float64\n",
            " 2   negative   8000 non-null   float64\n",
            " 3   sentiment  8000 non-null   float64\n",
            "dtypes: float64(4)\n",
            "memory usage: 250.1 KB\n",
            "None\n"
          ],
          "name": "stdout"
        }
      ]
    },
    {
      "cell_type": "markdown",
      "metadata": {
        "id": "36DzeRbKL3fN",
        "colab_type": "text"
      },
      "source": [
        "## Load a pretrained Logistic Regression model\n",
        "\n",
        "As part of this week assingment, you are going to train a Logistic regression model. In the cell bellow, you can find the model that you will obtain from such training process. Notice that the whole model is just represented by a list of 3 numeric values, that we have called tetha."
      ]
    },
    {
      "cell_type": "code",
      "metadata": {
        "id": "OtnIACGoL3fP",
        "colab_type": "code",
        "colab": {}
      },
      "source": [
        "theta = [7e-08, 0.0005239, -0.00055517]"
      ],
      "execution_count": 8,
      "outputs": []
    },
    {
      "cell_type": "markdown",
      "metadata": {
        "id": "eAR9beEPL3fX",
        "colab_type": "text"
      },
      "source": [
        "## Plot the samples in a scatter plot\n",
        "\n",
        "The vector tetha represents a plane that split our feature space in two parts. Samples located over that plane are considered positive, and samples located under that plane are considered negative. Remember that we have a 3D feature space, i.e, each tweet is represented as a vector comprising 3 values: [bias, positive_sum, negative_sum], always having bias = 1. \n",
        "\n",
        "If we ignore the bias term, we can plot each tweet in a cartesian plan, using positive_sum and negative_sum. In the bellow cell, we do exactly this. Addicionaly, we color each tweet, pedending on its class. Positive tweets will be green and negative tweets will be red."
      ]
    },
    {
      "cell_type": "code",
      "metadata": {
        "id": "gIeVqebCL3fY",
        "colab_type": "code",
        "colab": {
          "base_uri": "https://localhost:8080/",
          "height": 351
        },
        "outputId": "4daa5d5b-e8a9-4d38-d754-e070b219fb75"
      },
      "source": [
        "# Plot the samples using columns 1 and 2 of the matrix\n",
        "fig, ax = plt.subplots(figsize = (8, 5))\n",
        "\n",
        "colors = ['red', 'green']\n",
        "\n",
        "# Color base on the sentiment Y\n",
        "ax.scatter(X[:,1], X[:,2], c=[colors[int(k)] for k in Y], s = 0.1)  # Plot a dot for each pair of words\n",
        "plt.xlabel(\"Positive\")\n",
        "plt.ylabel(\"Negative\")"
      ],
      "execution_count": 13,
      "outputs": [
        {
          "output_type": "execute_result",
          "data": {
            "text/plain": [
              "Text(0, 0.5, 'Negative')"
            ]
          },
          "metadata": {
            "tags": []
          },
          "execution_count": 13
        },
        {
          "output_type": "display_data",
          "data": {
            "image/png": "[encoded data removed]",
            "text/plain": [
              "<Figure size 576x360 with 1 Axes>"
            ]
          },
          "metadata": {
            "tags": [],
            "needs_background": "light"
          }
        }
      ]
    },
    {
      "cell_type": "markdown",
      "metadata": {
        "id": "tGHa3hdyL3ff",
        "colab_type": "text"
      },
      "source": [
        "As you can see, the features that we have chosen to represent tweets as numerical vectors, allows an almost perfect separation between positive and negative tweets. So it is not a surprice anymore that the logistic regression model produce an accuracy around 99%. \n",
        "\n",
        "## Plot the model alongside the data\n",
        "\n",
        "The gray line is just the cutoff between the Positive and Negative region. In other words the gray line marks the line where $$ z = \\theta * x = 0.$$\n",
        "To draw this line, we had to solve the former equation in terms of one of the independent variables\n",
        "\n",
        "$$ z = \\theta * x = 0$$\n",
        "$$ x = [1, pos, neg] $$\n",
        "$$ z(\\theta, x) = \\theta_0+ \\theta_1 * pos + \\theta_2 * neg = 0 $$\n",
        "$$ neg = (-\\theta_0 - \\theta_1 * pos) / \\theta_2 $$"
      ]
    },
    {
      "cell_type": "code",
      "metadata": {
        "id": "LlCsl0j2L3fg",
        "colab_type": "code",
        "colab": {}
      },
      "source": [
        "# Equation of the separation plane\n",
        "# f(pos, neg, W) = w0 + w1 * pos + w2 * neg = 0\n",
        "# s(pos, W) = (w0 - w1 * pos) / w2\n",
        "def solution(theta, pos):\n",
        "    return (-theta[0] - pos * theta[1]) / theta[2]\n",
        "\n",
        "# Equation of the derivative of the s\n",
        "# df(pos, W) = pos * w2 / w1\n",
        "def solution2(theta, pos):\n",
        "    return    pos * theta[2] / theta[1]"
      ],
      "execution_count": 14,
      "outputs": []
    },
    {
      "cell_type": "markdown",
      "metadata": {
        "id": "Dn-f4xJmL3fr",
        "colab_type": "text"
      },
      "source": [
        "The green line in the chart points in the direction where z > 0 and the red line points in the direction where z < 0. The direction of these lines are given by the weights $\\theta_1$ and $\\theta_2$"
      ]
    },
    {
      "cell_type": "code",
      "metadata": {
        "id": "2E7ebFIPL3fs",
        "colab_type": "code",
        "colab": {
          "base_uri": "https://localhost:8080/",
          "height": 497
        },
        "outputId": "be7bd9ee-8533-41af-9158-aa6a6af38cef"
      },
      "source": [
        "# Plot the samples using columns 1 and 2 of the matrix\n",
        "fig, ax = plt.subplots(figsize = (8, 8))\n",
        "\n",
        "colors = ['red', 'green']\n",
        "\n",
        "# Color base on the sentiment Y\n",
        "ax.scatter(X[:,1], X[:,2], c=[colors[int(k)] for k in Y], s = 0.1)  # Plot a dot for each pair of words\n",
        "plt.xlabel(\"Positive\")\n",
        "plt.ylabel(\"Negative\")\n",
        "\n",
        "# Now lets represent the logistic regression model in this chart. \n",
        "maxpos = np.max(X[:,1])\n",
        "\n",
        "offset = 5000\n",
        "\n",
        "# Plot the red line that divides the 2 areas.\n",
        "ax.plot([0,  maxpos], [solution(theta, 0),   solution(theta, maxpos)], color = 'gray') \n",
        "\n",
        "# Plot the red line pointing to the negative direction\n",
        "ax.arrow(offset, solution(theta, offset), offset, solution2(theta, offset), head_width=500, head_length=500, fc='g', ec='g')\n",
        "# Plot the red line pointing to the negative direction\n",
        "ax.arrow(offset, solution(theta, offset), -offset, -solution2(theta, offset), head_width=500, head_length=500, fc='r', ec='r')\n",
        "\n",
        "plt.show()"
      ],
      "execution_count": 15,
      "outputs": [
        {
          "output_type": "display_data",
          "data": {
            "image/png": "[encoded data removed]",
            "text/plain": [
              "<Figure size 576x576 with 1 Axes>"
            ]
          },
          "metadata": {
            "tags": [],
            "needs_background": "light"
          }
        }
      ]
    },
    {
      "cell_type": "markdown",
      "metadata": {
        "id": "3tzbRqGxL3fz",
        "colab_type": "text"
      },
      "source": [
        "**Notice that more important than the Logistic regression itself, are the feature that we have extracted from tweeters what allows to get the good results in this exercise.**\n",
        "\n",
        "That's all folks. Hopefully, now you undestand better what the Logistic regression model represents, \n",
        "and why it works that well for this specific problem. "
      ]
    }
  ]
}